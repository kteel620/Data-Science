{
 "cells": [
  {
   "cell_type": "markdown",
   "metadata": {},
   "source": [
    "# Basic Statistics\n"
   ]
  },
  {
   "cell_type": "code",
   "execution_count": 51,
   "metadata": {
    "collapsed": true
   },
   "outputs": [],
   "source": [
    "#General imports\n",
    "from sklearn import datasets\n",
    "from sklearn import metrics\n",
    "import pandas as pd\n",
    "import numpy as np\n",
    "\n",
    "import matplotlib.pyplot as plt\n",
    "%matplotlib inline"
   ]
  },
  {
   "cell_type": "markdown",
   "metadata": {},
   "source": [
    "### Part 1. Basic Stats\n",
    "\t\n",
    "    Methods available include: \n",
    "\t\t.min() - Compute minimum value\n",
    "\t\t.max() - Compute maximum value\n",
    "\t\t.mean() - Compute mean value\n",
    "\t\t.median() - Compute median value\n",
    "        .mode() - Compute mode value(s)\n",
    "\t\t.count() - Count the number of observations"
   ]
  },
  {
   "cell_type": "markdown",
   "metadata": {},
   "source": [
    "#### Read in the examples"
   ]
  },
  {
   "cell_type": "code",
   "execution_count": 2,
   "metadata": {
    "collapsed": false,
    "scrolled": true
   },
   "outputs": [
    {
     "name": "stdout",
     "output_type": "stream",
     "text": [
      "   exampleA  exampleB  exampleC\n",
      "0        18        75        55\n",
      "1        24        87        47\n",
      "2        17        49        38\n",
      "3        21        68        66\n",
      "4        24        75        56\n",
      "5        16        84        64\n",
      "6        29        98        44\n",
      "7        18        92        39\n"
     ]
    }
   ],
   "source": [
    "array1= {'exampleA' : [18, 24, 17, 21, 24, 16, 29, 18], 'exampleB' : [75, 87, 49, 68, 75, 84, 98, 92], 'exampleC' : [55, 47, 38, 66, 56, 64, 44, 39] }\n",
    "new_df = pd.DataFrame(array1)\n",
    "print new_df\n"
   ]
  },
  {
   "cell_type": "markdown",
   "metadata": {},
   "source": [
    "#### Instructor example: Calculate the mean for each column"
   ]
  },
  {
   "cell_type": "code",
   "execution_count": 3,
   "metadata": {
    "collapsed": false
   },
   "outputs": [
    {
     "data": {
      "text/plain": [
       "exampleA    20.875\n",
       "exampleB    78.500\n",
       "exampleC    51.125\n",
       "dtype: float64"
      ]
     },
     "execution_count": 3,
     "metadata": {},
     "output_type": "execute_result"
    }
   ],
   "source": [
    "new_df[[\"exampleA\",\"exampleB\", \"exampleC\"]].mean()"
   ]
  },
  {
   "cell_type": "markdown",
   "metadata": {},
   "source": [
    "#### Students: Calculate median, mode, max, min for example\n",
    "\n",
    "Note: All answers should match your hand calculations"
   ]
  },
  {
   "cell_type": "code",
   "execution_count": 4,
   "metadata": {
    "collapsed": false
   },
   "outputs": [
    {
     "data": {
      "text/plain": [
       "exampleA    19.5\n",
       "exampleB    79.5\n",
       "exampleC    51.0\n",
       "dtype: float64"
      ]
     },
     "execution_count": 4,
     "metadata": {},
     "output_type": "execute_result"
    }
   ],
   "source": [
    "#median\n",
    "new_df[[\"exampleA\",\"exampleB\", \"exampleC\"]].median() "
   ]
  },
  {
   "cell_type": "code",
   "execution_count": 5,
   "metadata": {
    "collapsed": false
   },
   "outputs": [
    {
     "data": {
      "text/html": [
       "<div>\n",
       "<table border=\"1\" class=\"dataframe\">\n",
       "  <thead>\n",
       "    <tr style=\"text-align: right;\">\n",
       "      <th></th>\n",
       "      <th>exampleA</th>\n",
       "      <th>exampleB</th>\n",
       "      <th>exampleC</th>\n",
       "    </tr>\n",
       "  </thead>\n",
       "  <tbody>\n",
       "    <tr>\n",
       "      <th>0</th>\n",
       "      <td>18</td>\n",
       "      <td>75.0</td>\n",
       "      <td>NaN</td>\n",
       "    </tr>\n",
       "    <tr>\n",
       "      <th>1</th>\n",
       "      <td>24</td>\n",
       "      <td>NaN</td>\n",
       "      <td>NaN</td>\n",
       "    </tr>\n",
       "  </tbody>\n",
       "</table>\n",
       "</div>"
      ],
      "text/plain": [
       "   exampleA  exampleB  exampleC\n",
       "0        18      75.0       NaN\n",
       "1        24       NaN       NaN"
      ]
     },
     "execution_count": 5,
     "metadata": {},
     "output_type": "execute_result"
    }
   ],
   "source": [
    "#mode\n",
    "new_df[[\"exampleA\", \"exampleB\", \"exampleC\"]].mode()"
   ]
  },
  {
   "cell_type": "code",
   "execution_count": 6,
   "metadata": {
    "collapsed": false
   },
   "outputs": [
    {
     "data": {
      "text/plain": [
       "exampleA    29\n",
       "exampleB    98\n",
       "exampleC    66\n",
       "dtype: int64"
      ]
     },
     "execution_count": 6,
     "metadata": {},
     "output_type": "execute_result"
    }
   ],
   "source": [
    "#max\n",
    "new_df[[\"exampleA\",\"exampleB\",\"exampleC\"]].max()"
   ]
  },
  {
   "cell_type": "code",
   "execution_count": 7,
   "metadata": {
    "collapsed": false
   },
   "outputs": [
    {
     "data": {
      "text/plain": [
       "exampleA    16\n",
       "exampleB    49\n",
       "exampleC    38\n",
       "dtype: int64"
      ]
     },
     "execution_count": 7,
     "metadata": {},
     "output_type": "execute_result"
    }
   ],
   "source": [
    "#min\n",
    "new_df[[\"exampleA\",\"exampleB\",\"exampleC\"]].min()"
   ]
  },
  {
   "cell_type": "markdown",
   "metadata": {},
   "source": [
    "### Part 2. Box Plot"
   ]
  },
  {
   "cell_type": "markdown",
   "metadata": {},
   "source": [
    "#### Instructor: Interquartile range "
   ]
  },
  {
   "cell_type": "code",
   "execution_count": 8,
   "metadata": {
    "collapsed": false
   },
   "outputs": [
    {
     "name": "stdout",
     "output_type": "stream",
     "text": [
      "50% Quartile:\n",
      "exampleA    19.5\n",
      "exampleB    79.5\n",
      "exampleC    51.0\n",
      "Name: 0.5, dtype: float64\n",
      "Median (red line of the box)\n",
      "exampleA    19.5\n",
      "exampleB    79.5\n",
      "exampleC    51.0\n",
      "dtype: float64\n"
     ]
    }
   ],
   "source": [
    "print \"50% Quartile:\"\n",
    "print new_df.quantile(.50) \n",
    "print \"Median (red line of the box)\"\n",
    "print new_df.median()"
   ]
  },
  {
   "cell_type": "code",
   "execution_count": 9,
   "metadata": {
    "collapsed": false
   },
   "outputs": [
    {
     "name": "stdout",
     "output_type": "stream",
     "text": [
      "25% (bottom of the box)\n",
      "exampleA    17.75\n",
      "exampleB    73.25\n",
      "exampleC    42.75\n",
      "Name: 0.25, dtype: float64\n",
      "75% (top of the box)\n",
      "exampleA    24.00\n",
      "exampleB    88.25\n",
      "exampleC    58.00\n",
      "Name: 0.75, dtype: float64\n"
     ]
    }
   ],
   "source": [
    "print\"25% (bottom of the box)\"\n",
    "print new_df.quantile(0.25)\n",
    "print\"75% (top of the box)\"\n",
    "print new_df.quantile(0.75)"
   ]
  },
  {
   "cell_type": "code",
   "execution_count": 10,
   "metadata": {
    "collapsed": false
   },
   "outputs": [
    {
     "data": {
      "text/plain": [
       "<matplotlib.axes._subplots.AxesSubplot at 0x11433b510>"
      ]
     },
     "execution_count": 10,
     "metadata": {},
     "output_type": "execute_result"
    },
    {
     "data": {
      "image/png": "[encoded data removed]",
      "text/plain": [
       "<matplotlib.figure.Figure at 0x114300f90>"
      ]
     },
     "metadata": {},
     "output_type": "display_data"
    }
   ],
   "source": [
    "new_df[\"exampleA\"].plot(kind='box')"
   ]
  },
  {
   "cell_type": "markdown",
   "metadata": {},
   "source": [
    "#### Student: Create plots for examples B and C and check the quartiles"
   ]
  },
  {
   "cell_type": "code",
   "execution_count": 11,
   "metadata": {
    "collapsed": false
   },
   "outputs": [
    {
     "data": {
      "text/plain": [
       "<matplotlib.axes._subplots.AxesSubplot at 0x11695e750>"
      ]
     },
     "execution_count": 11,
     "metadata": {},
     "output_type": "execute_result"
    },
    {
     "data": {
      "image/png": "[encoded data removed]",
      "text/plain": [
       "<matplotlib.figure.Figure at 0x116993890>"
      ]
     },
     "metadata": {},
     "output_type": "display_data"
    }
   ],
   "source": [
    "new_df[\"exampleB\"].plot(kind = \"box\")"
   ]
  },
  {
   "cell_type": "code",
   "execution_count": 12,
   "metadata": {
    "collapsed": false
   },
   "outputs": [
    {
     "data": {
      "text/plain": [
       "<matplotlib.axes._subplots.AxesSubplot at 0x116ad4450>"
      ]
     },
     "execution_count": 12,
     "metadata": {},
     "output_type": "execute_result"
    },
    {
     "data": {
      "image/png": "[encoded data removed]",
      "text/plain": [
       "<matplotlib.figure.Figure at 0x116ae0b10>"
      ]
     },
     "metadata": {},
     "output_type": "display_data"
    }
   ],
   "source": [
    "new_df[\"exampleC\"].plot(kind=\"box\")"
   ]
  },
  {
   "cell_type": "markdown",
   "metadata": {},
   "source": [
    "#### What does the circle for example B represent?"
   ]
  },
  {
   "cell_type": "markdown",
   "metadata": {},
   "source": [
    "Answer: The circle in example B represents an outlier."
   ]
  },
  {
   "cell_type": "markdown",
   "metadata": {},
   "source": [
    "### Part 3. Standard Deviation and Variance"
   ]
  },
  {
   "cell_type": "markdown",
   "metadata": {},
   "source": [
    "**Variance:** The variance is how much the predictions for a given point vary between different realizations of the model.\n",
    "\n",
    "**Standard Deviation:** The square root of the variance"
   ]
  },
  {
   "cell_type": "markdown",
   "metadata": {},
   "source": [
    "<img(src='../../assets/images/biasVsVarianceImage.png', style=\"width: 30%; height: 30%\")>"
   ]
  },
  {
   "cell_type": "markdown",
   "metadata": {},
   "source": [
    "#### In Pandas\n",
    "\tMethods include: \n",
    "\t\t.std() - Compute Standard Deviation\n",
    "\t\t.var() - Compute variance"
   ]
  },
  {
   "cell_type": "markdown",
   "metadata": {},
   "source": [
    "#### Let's calculate variance by hand first. \n",
    "<img(src='../../assets/images/samplevarstd.png', style=\"width: 50%; height: 50%\")>"
   ]
  },
  {
   "cell_type": "code",
   "execution_count": 13,
   "metadata": {
    "collapsed": false
   },
   "outputs": [
    {
     "name": "stdout",
     "output_type": "stream",
     "text": [
      "0    18\n",
      "1    24\n",
      "2    17\n",
      "3    21\n",
      "4    24\n",
      "5    16\n",
      "6    29\n",
      "7    18\n",
      "Name: exampleA, dtype: int64\n",
      "20.875\n",
      "8\n"
     ]
    }
   ],
   "source": [
    "#example1\n",
    "mean = new_df[\"exampleA\"].mean()\n",
    "n= new_df[\"exampleA\"].count()\n",
    "\n",
    "print new_df[\"exampleA\"]\n",
    "print mean\n",
    "print n\n"
   ]
  },
  {
   "cell_type": "code",
   "execution_count": 14,
   "metadata": {
    "collapsed": false
   },
   "outputs": [
    {
     "name": "stdout",
     "output_type": "stream",
     "text": [
      "8.265625 9.765625 15.015625 0.015625 9.765625 23.765625 66.015625 8.265625\n",
      "140.875\n",
      "7\n",
      "20.125\n"
     ]
    }
   ],
   "source": [
    "#find the squared distance from the mean\n",
    "\n",
    "obs0 = (18 - mean)**2\n",
    "obs1 = (24 - mean)**2\n",
    "obs2 = (17 - mean)**2\n",
    "obs3 = (21 - mean)**2\n",
    "obs4 = (24 - mean)**2\n",
    "obs5 = (16 - mean)**2\n",
    "obs6 = (29 - mean)**2\n",
    "obs7 = (18 - mean)**2\n",
    "\n",
    "print obs0, obs1, obs2, obs3, obs4, obs5, obs6, obs7\n",
    "\n",
    "#sum each observation's squared distance from the mean \n",
    "numerator = (obs0 + obs1 + obs2 + obs3 + obs4 + obs5 + obs6 + obs7)\n",
    "denominator = n - 1\n",
    "variance = numerator/denominator\n",
    "print numerator \n",
    "print denominator\n",
    "print variance\n",
    "\n"
   ]
  },
  {
   "cell_type": "code",
   "execution_count": 54,
   "metadata": {
    "collapsed": false
   },
   "outputs": [
    {
     "name": "stdout",
     "output_type": "stream",
     "text": [
      "20.875\n"
     ]
    }
   ],
   "source": [
    "print(new_df[\"exampleA\"].mean())\n",
    "    "
   ]
  },
  {
   "cell_type": "code",
   "execution_count": 65,
   "metadata": {
    "collapsed": false
   },
   "outputs": [
    {
     "name": "stdout",
     "output_type": "stream",
     "text": [
      "116.125\n"
     ]
    }
   ],
   "source": [
    "#Function that can automatically calculate the variance of a dataframe provided the dataframe \n",
    "#is entered into the function.\n",
    "def auto_var():\n",
    "    new_list1 = []\n",
    "    for d in new_df[\"exampleC\"]:\n",
    "        new_list1.append(d)\n",
    "        \n",
    "    new_n = new_df[\"exampleC\"].count()\n",
    "    new_mean = new_df[\"exampleC\"].mean()\n",
    "    new_list = []\n",
    "    for i in new_list1:\n",
    "        new_list.append((i - new_mean)**2)\n",
    "    \n",
    "    print((sum(new_list)/(new_n-1)))\n",
    "\n",
    "auto_var()"
   ]
  },
  {
   "cell_type": "code",
   "execution_count": 45,
   "metadata": {
    "collapsed": false
   },
   "outputs": [
    {
     "name": "stdout",
     "output_type": "stream",
     "text": [
      "The variance for example A is 20.125\n"
     ]
    }
   ],
   "source": [
    "# in pandas\n",
    "a = new_df[\"exampleA\"].var()\n",
    "print(\"The variance for example A is \" + str(a))"
   ]
  },
  {
   "cell_type": "markdown",
   "metadata": {},
   "source": [
    "#### Students: Calculate the standard deviation by hand for each sample\n",
    "\n",
    "Recall that the standard deviation is the square root of the variance. "
   ]
  },
  {
   "cell_type": "code",
   "execution_count": 16,
   "metadata": {
    "collapsed": false
   },
   "outputs": [
    {
     "data": {
      "text/plain": [
       "exampleA     20.125000\n",
       "exampleB    238.571429\n",
       "exampleC    116.125000\n",
       "dtype: float64"
      ]
     },
     "execution_count": 16,
     "metadata": {},
     "output_type": "execute_result"
    }
   ],
   "source": [
    "new_df.var()"
   ]
  },
  {
   "cell_type": "code",
   "execution_count": 19,
   "metadata": {
    "collapsed": false
   },
   "outputs": [
    {
     "data": {
      "text/plain": [
       "exampleA     4.486090\n",
       "exampleB    15.445758\n",
       "exampleC    10.776131\n",
       "dtype: float64"
      ]
     },
     "execution_count": 19,
     "metadata": {},
     "output_type": "execute_result"
    }
   ],
   "source": [
    "new_df.std()"
   ]
  },
  {
   "cell_type": "code",
   "execution_count": 18,
   "metadata": {
    "collapsed": false
   },
   "outputs": [
    {
     "data": {
      "text/plain": [
       "0    18\n",
       "1    24\n",
       "2    17\n",
       "3    21\n",
       "4    24\n",
       "5    16\n",
       "6    29\n",
       "7    18\n",
       "Name: exampleA, dtype: int64"
      ]
     },
     "execution_count": 18,
     "metadata": {},
     "output_type": "execute_result"
    }
   ],
   "source": [
    "new_df.exampleA\n"
   ]
  },
  {
   "cell_type": "code",
   "execution_count": 30,
   "metadata": {
    "collapsed": false
   },
   "outputs": [
    {
     "name": "stdout",
     "output_type": "stream",
     "text": [
      "4.48608961123\n",
      "4.48608961123\n"
     ]
    }
   ],
   "source": [
    "#Hand calculation of the standard deviation for example A versus the shorthand pandas function.\n",
    "print((((18-20.875)**2) + ((24-20.875)**2) + ((17-20.875)**2)+((21-20.875)**2)+((24-20.875)**2)+((16-20.875)**2)+((29-20.875)**2)+((18-20.875)**2))/7)**(.5) \n",
    "print(new_df[\"exampleA\"].std())"
   ]
  },
  {
   "cell_type": "code",
   "execution_count": 20,
   "metadata": {
    "collapsed": false
   },
   "outputs": [
    {
     "data": {
      "text/plain": [
       "0    75\n",
       "1    87\n",
       "2    49\n",
       "3    68\n",
       "4    75\n",
       "5    84\n",
       "6    98\n",
       "7    92\n",
       "Name: exampleB, dtype: int64"
      ]
     },
     "execution_count": 20,
     "metadata": {},
     "output_type": "execute_result"
    }
   ],
   "source": [
    "new_df.exampleB"
   ]
  },
  {
   "cell_type": "code",
   "execution_count": 27,
   "metadata": {
    "collapsed": false
   },
   "outputs": [
    {
     "name": "stdout",
     "output_type": "stream",
     "text": [
      "Mean of example B = 78\n",
      "15.4272486205\n",
      "15.4457576237\n"
     ]
    }
   ],
   "source": [
    "#Hand calculation of the standard deviation for example B versus the shorthand pandas function.\n",
    "#Calculating mean of example B.\n",
    "print(\"Mean of example B = \" + str((75+87+49+68+75+84+98+92)/8))\n",
    "print(((((75-78)**2)+((87-78)**2)+((49-78)**2)+((68-78)**2)+((75-78)**2)+((84-78)**2)+((98-78)**2)+((92-78)**2))/7)**(0.5))   \n",
    "print(new_df[\"exampleB\"].std())"
   ]
  },
  {
   "cell_type": "code",
   "execution_count": 28,
   "metadata": {
    "collapsed": false
   },
   "outputs": [
    {
     "data": {
      "text/plain": [
       "0    55\n",
       "1    47\n",
       "2    38\n",
       "3    66\n",
       "4    56\n",
       "5    64\n",
       "6    44\n",
       "7    39\n",
       "Name: exampleC, dtype: int64"
      ]
     },
     "execution_count": 28,
     "metadata": {},
     "output_type": "execute_result"
    }
   ],
   "source": [
    "new_df.exampleC"
   ]
  },
  {
   "cell_type": "code",
   "execution_count": 32,
   "metadata": {
    "collapsed": false
   },
   "outputs": [
    {
     "name": "stdout",
     "output_type": "stream",
     "text": [
      "Mean of example C = 51\n",
      "10.7703296143\n",
      "10.7761310311\n"
     ]
    }
   ],
   "source": [
    "#Hand calculation of the standard deviation for example C versus the shorthand pandas function.\n",
    "#Calculating mean of example C.\n",
    "print(\"Mean of example C = \" + str((55+47+38+66+56+64+44+39)/8))\n",
    "print( ((((55-51)**2)+((47-51)**2)+((38-51)**2)+((66-51)**2)+((56-51)**2)+((64-51)**2)+((44-51)**2)+((39-51)**2))/7)**(.5)  )\n",
    "print(new_df[\"exampleC\"].std())"
   ]
  },
  {
   "cell_type": "code",
   "execution_count": 33,
   "metadata": {
    "collapsed": false
   },
   "outputs": [
    {
     "data": {
      "text/html": [
       "<div>\n",
       "<table border=\"1\" class=\"dataframe\">\n",
       "  <thead>\n",
       "    <tr style=\"text-align: right;\">\n",
       "      <th></th>\n",
       "      <th>exampleA</th>\n",
       "      <th>exampleB</th>\n",
       "      <th>exampleC</th>\n",
       "    </tr>\n",
       "  </thead>\n",
       "  <tbody>\n",
       "    <tr>\n",
       "      <th>count</th>\n",
       "      <td>8.00000</td>\n",
       "      <td>8.000000</td>\n",
       "      <td>8.000000</td>\n",
       "    </tr>\n",
       "    <tr>\n",
       "      <th>mean</th>\n",
       "      <td>20.87500</td>\n",
       "      <td>78.500000</td>\n",
       "      <td>51.125000</td>\n",
       "    </tr>\n",
       "    <tr>\n",
       "      <th>std</th>\n",
       "      <td>4.48609</td>\n",
       "      <td>15.445758</td>\n",
       "      <td>10.776131</td>\n",
       "    </tr>\n",
       "    <tr>\n",
       "      <th>min</th>\n",
       "      <td>16.00000</td>\n",
       "      <td>49.000000</td>\n",
       "      <td>38.000000</td>\n",
       "    </tr>\n",
       "    <tr>\n",
       "      <th>25%</th>\n",
       "      <td>17.75000</td>\n",
       "      <td>73.250000</td>\n",
       "      <td>42.750000</td>\n",
       "    </tr>\n",
       "    <tr>\n",
       "      <th>50%</th>\n",
       "      <td>19.50000</td>\n",
       "      <td>79.500000</td>\n",
       "      <td>51.000000</td>\n",
       "    </tr>\n",
       "    <tr>\n",
       "      <th>75%</th>\n",
       "      <td>24.00000</td>\n",
       "      <td>88.250000</td>\n",
       "      <td>58.000000</td>\n",
       "    </tr>\n",
       "    <tr>\n",
       "      <th>max</th>\n",
       "      <td>29.00000</td>\n",
       "      <td>98.000000</td>\n",
       "      <td>66.000000</td>\n",
       "    </tr>\n",
       "  </tbody>\n",
       "</table>\n",
       "</div>"
      ],
      "text/plain": [
       "       exampleA   exampleB   exampleC\n",
       "count   8.00000   8.000000   8.000000\n",
       "mean   20.87500  78.500000  51.125000\n",
       "std     4.48609  15.445758  10.776131\n",
       "min    16.00000  49.000000  38.000000\n",
       "25%    17.75000  73.250000  42.750000\n",
       "50%    19.50000  79.500000  51.000000\n",
       "75%    24.00000  88.250000  58.000000\n",
       "max    29.00000  98.000000  66.000000"
      ]
     },
     "execution_count": 33,
     "metadata": {},
     "output_type": "execute_result"
    }
   ],
   "source": [
    "new_df.describe()"
   ]
  },
  {
   "cell_type": "markdown",
   "metadata": {},
   "source": [
    "#### Student: Check understanding \n",
    "Which value in the above table is the median? "
   ]
  },
  {
   "cell_type": "markdown",
   "metadata": {},
   "source": [
    "Answer: The median is the row in the table with the label (in bold), \"50%.\""
   ]
  },
  {
   "cell_type": "markdown",
   "metadata": {},
   "source": [
    "### Part 4: Correlation"
   ]
  },
  {
   "cell_type": "code",
   "execution_count": 35,
   "metadata": {
    "collapsed": false
   },
   "outputs": [
    {
     "data": {
      "text/html": [
       "<div>\n",
       "<table border=\"1\" class=\"dataframe\">\n",
       "  <thead>\n",
       "    <tr style=\"text-align: right;\">\n",
       "      <th></th>\n",
       "      <th>exampleA</th>\n",
       "      <th>exampleB</th>\n",
       "      <th>exampleC</th>\n",
       "    </tr>\n",
       "  </thead>\n",
       "  <tbody>\n",
       "    <tr>\n",
       "      <th>exampleA</th>\n",
       "      <td>1.000000</td>\n",
       "      <td>0.477283</td>\n",
       "      <td>-0.123745</td>\n",
       "    </tr>\n",
       "    <tr>\n",
       "      <th>exampleB</th>\n",
       "      <td>0.477283</td>\n",
       "      <td>1.000000</td>\n",
       "      <td>-0.057076</td>\n",
       "    </tr>\n",
       "    <tr>\n",
       "      <th>exampleC</th>\n",
       "      <td>-0.123745</td>\n",
       "      <td>-0.057076</td>\n",
       "      <td>1.000000</td>\n",
       "    </tr>\n",
       "  </tbody>\n",
       "</table>\n",
       "</div>"
      ],
      "text/plain": [
       "          exampleA  exampleB  exampleC\n",
       "exampleA  1.000000  0.477283 -0.123745\n",
       "exampleB  0.477283  1.000000 -0.057076\n",
       "exampleC -0.123745 -0.057076  1.000000"
      ]
     },
     "execution_count": 35,
     "metadata": {},
     "output_type": "execute_result"
    }
   ],
   "source": [
    "new_df.corr()"
   ]
  }
 ],
 "metadata": {
  "kernelspec": {
   "display_name": "Python 2",
   "language": "python",
   "name": "python2"
  },
  "language_info": {
   "codemirror_mode": {
    "name": "ipython",
    "version": 2
   },
   "file_extension": ".py",
   "mimetype": "text/x-python",
   "name": "python",
   "nbconvert_exporter": "python",
   "pygments_lexer": "ipython2",
   "version": "2.7.13"
  }
 },
 "nbformat": 4,
 "nbformat_minor": 0
}
