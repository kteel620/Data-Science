{
 "cells": [
  {
   "cell_type": "code",
   "execution_count": 5,
   "metadata": {
    "collapsed": false
   },
   "outputs": [],
   "source": [
    "import pandas as pd\n",
    "import numpy as np\n",
    "\n",
    "pd.set_option('display.max_rows', 999)\n",
    "pd.set_option('display.max_columns', 999)\n",
    "\n",
    "pd.set_option('display.float_format', lambda x: '%.3f' % x)\n",
    "\n",
    "import matplotlib.pyplot as plt\n",
    "%matplotlib inline"
   ]
  },
  {
   "cell_type": "code",
   "execution_count": 6,
   "metadata": {
    "collapsed": false
   },
   "outputs": [
    {
     "data": {
      "text/html": [
       "<div>\n",
       "<table border=\"1\" class=\"dataframe\">\n",
       "  <thead>\n",
       "    <tr style=\"text-align: right;\">\n",
       "      <th></th>\n",
       "      <th>SSL SCORE</th>\n",
       "      <th>PREDICTOR RAT AGE AT LATEST ARREST</th>\n",
       "      <th>PREDICTOR RAT VICTIM SHOOTING INCIDENTS</th>\n",
       "      <th>PREDICTOR RAT VICTIM BATTERY OR ASSAULT</th>\n",
       "      <th>PREDICTOR RAT ARRESTS VIOLENT OFFENSES</th>\n",
       "      <th>PREDICTOR RAT GANG AFFILIATION</th>\n",
       "      <th>PREDICTOR RAT NARCOTIC ARRESTS</th>\n",
       "      <th>PREDICTOR RAT TREND IN CRIMINAL ACTIVITY</th>\n",
       "      <th>PREDICTOR RAT UUW ARRESTS</th>\n",
       "      <th>SEX CODE CD</th>\n",
       "      <th>RACE CODE CD</th>\n",
       "      <th>WEAPON I</th>\n",
       "      <th>DRUG I</th>\n",
       "      <th>AGE GROUP</th>\n",
       "      <th>AGE TO</th>\n",
       "      <th>STOP ORDER NO</th>\n",
       "      <th>PAROLEE I</th>\n",
       "      <th>LATEST DATE</th>\n",
       "      <th>LATEST DIST</th>\n",
       "      <th>MAJORITY DIST</th>\n",
       "      <th>DLST</th>\n",
       "      <th>LATEST DIST RES</th>\n",
       "      <th>WEAPONS ARR CNT</th>\n",
       "      <th>LATEST WEAPON ARR DATE</th>\n",
       "      <th>NARCOTICS ARR CNT</th>\n",
       "      <th>LATEST NARCOTIC ARR DATE</th>\n",
       "      <th>IDOC RES CITY</th>\n",
       "      <th>IDOC RES STATE CODE</th>\n",
       "      <th>IDOC RES ZIP CODE</th>\n",
       "      <th>IDOC CPD DIST</th>\n",
       "      <th>CPD ARREST I</th>\n",
       "      <th>DOMESTIC ARR CNT</th>\n",
       "      <th>LATEST DOMESTIC ARR DATE</th>\n",
       "      <th>AGE CURR</th>\n",
       "      <th>SSL LAST PTV DATE</th>\n",
       "      <th>TRAP STATUS</th>\n",
       "      <th>RAW SSL SCORE</th>\n",
       "      <th>HEAT SCORE</th>\n",
       "      <th>RAW_HEAT_SCORE</th>\n",
       "      <th>STATUS I</th>\n",
       "      <th>PRE RAW HEAT SCORE</th>\n",
       "      <th>TRAP FLAGS</th>\n",
       "      <th>SSL FLAGS</th>\n",
       "      <th>LATITUDE</th>\n",
       "      <th>LONGITUDE</th>\n",
       "      <th>CENSUS TRACT</th>\n",
       "      <th>COMMUNITY AREA</th>\n",
       "      <th>LOCATION</th>\n",
       "    </tr>\n",
       "  </thead>\n",
       "  <tbody>\n",
       "    <tr>\n",
       "      <th>0</th>\n",
       "      <td>500</td>\n",
       "      <td>20-30</td>\n",
       "      <td>0</td>\n",
       "      <td>1</td>\n",
       "      <td>4</td>\n",
       "      <td>1</td>\n",
       "      <td>1</td>\n",
       "      <td>1.000</td>\n",
       "      <td>1</td>\n",
       "      <td>M</td>\n",
       "      <td>BLK</td>\n",
       "      <td>Y</td>\n",
       "      <td>N</td>\n",
       "      <td>20-30</td>\n",
       "      <td>20-30</td>\n",
       "      <td>nan</td>\n",
       "      <td>NaN</td>\n",
       "      <td>2015</td>\n",
       "      <td>31</td>\n",
       "      <td>24.000</td>\n",
       "      <td>NaN</td>\n",
       "      <td>31</td>\n",
       "      <td>1.000</td>\n",
       "      <td>2012.000</td>\n",
       "      <td>nan</td>\n",
       "      <td>nan</td>\n",
       "      <td>SKOKIE</td>\n",
       "      <td>IL</td>\n",
       "      <td>60077.000</td>\n",
       "      <td>nan</td>\n",
       "      <td>N</td>\n",
       "      <td>nan</td>\n",
       "      <td>nan</td>\n",
       "      <td>20-30</td>\n",
       "      <td>nan</td>\n",
       "      <td>nan</td>\n",
       "      <td>0.142</td>\n",
       "      <td>500</td>\n",
       "      <td>0.142</td>\n",
       "      <td>Y</td>\n",
       "      <td>14196</td>\n",
       "      <td>nan</td>\n",
       "      <td>24.000</td>\n",
       "      <td>nan</td>\n",
       "      <td>nan</td>\n",
       "      <td>nan</td>\n",
       "      <td></td>\n",
       "      <td>NaN</td>\n",
       "    </tr>\n",
       "    <tr>\n",
       "      <th>1</th>\n",
       "      <td>500</td>\n",
       "      <td>20-30</td>\n",
       "      <td>0</td>\n",
       "      <td>9</td>\n",
       "      <td>1</td>\n",
       "      <td>1</td>\n",
       "      <td>0</td>\n",
       "      <td>1.000</td>\n",
       "      <td>0</td>\n",
       "      <td>M</td>\n",
       "      <td>WHI</td>\n",
       "      <td>N</td>\n",
       "      <td>N</td>\n",
       "      <td>20-30</td>\n",
       "      <td>20-30</td>\n",
       "      <td>nan</td>\n",
       "      <td>NaN</td>\n",
       "      <td>2016</td>\n",
       "      <td>31</td>\n",
       "      <td>8.000</td>\n",
       "      <td>NaN</td>\n",
       "      <td>8</td>\n",
       "      <td>nan</td>\n",
       "      <td>nan</td>\n",
       "      <td>nan</td>\n",
       "      <td>nan</td>\n",
       "      <td>NaN</td>\n",
       "      <td>NaN</td>\n",
       "      <td>nan</td>\n",
       "      <td>nan</td>\n",
       "      <td>N</td>\n",
       "      <td>1.000</td>\n",
       "      <td>2008.000</td>\n",
       "      <td>20-30</td>\n",
       "      <td>nan</td>\n",
       "      <td>nan</td>\n",
       "      <td>0.145</td>\n",
       "      <td>500</td>\n",
       "      <td>0.145</td>\n",
       "      <td>Y</td>\n",
       "      <td>14511</td>\n",
       "      <td>nan</td>\n",
       "      <td>8.000</td>\n",
       "      <td>nan</td>\n",
       "      <td>nan</td>\n",
       "      <td>nan</td>\n",
       "      <td></td>\n",
       "      <td>NaN</td>\n",
       "    </tr>\n",
       "    <tr>\n",
       "      <th>2</th>\n",
       "      <td>500</td>\n",
       "      <td>less than 20</td>\n",
       "      <td>1</td>\n",
       "      <td>2</td>\n",
       "      <td>1</td>\n",
       "      <td>1</td>\n",
       "      <td>3</td>\n",
       "      <td>1.000</td>\n",
       "      <td>0</td>\n",
       "      <td>M</td>\n",
       "      <td>WHI</td>\n",
       "      <td>N</td>\n",
       "      <td>N</td>\n",
       "      <td>less than 20</td>\n",
       "      <td>less than 20</td>\n",
       "      <td>nan</td>\n",
       "      <td>NaN</td>\n",
       "      <td>2016</td>\n",
       "      <td>31</td>\n",
       "      <td>8.000</td>\n",
       "      <td>NaN</td>\n",
       "      <td>8</td>\n",
       "      <td>nan</td>\n",
       "      <td>nan</td>\n",
       "      <td>nan</td>\n",
       "      <td>nan</td>\n",
       "      <td>NaN</td>\n",
       "      <td>NaN</td>\n",
       "      <td>nan</td>\n",
       "      <td>nan</td>\n",
       "      <td>N</td>\n",
       "      <td>nan</td>\n",
       "      <td>nan</td>\n",
       "      <td>less than 20</td>\n",
       "      <td>2015.000</td>\n",
       "      <td>nan</td>\n",
       "      <td>0.130</td>\n",
       "      <td>500</td>\n",
       "      <td>0.130</td>\n",
       "      <td>Y</td>\n",
       "      <td>12982</td>\n",
       "      <td>nan</td>\n",
       "      <td>8.000</td>\n",
       "      <td>nan</td>\n",
       "      <td>nan</td>\n",
       "      <td>nan</td>\n",
       "      <td></td>\n",
       "      <td>NaN</td>\n",
       "    </tr>\n",
       "    <tr>\n",
       "      <th>3</th>\n",
       "      <td>500</td>\n",
       "      <td>less than 20</td>\n",
       "      <td>1</td>\n",
       "      <td>1</td>\n",
       "      <td>4</td>\n",
       "      <td>1</td>\n",
       "      <td>0</td>\n",
       "      <td>1.600</td>\n",
       "      <td>1</td>\n",
       "      <td>M</td>\n",
       "      <td>BLK</td>\n",
       "      <td>Y</td>\n",
       "      <td>N</td>\n",
       "      <td>less than 20</td>\n",
       "      <td>less than 20</td>\n",
       "      <td>nan</td>\n",
       "      <td>NaN</td>\n",
       "      <td>2016</td>\n",
       "      <td>31</td>\n",
       "      <td>3.000</td>\n",
       "      <td>NaN</td>\n",
       "      <td>4</td>\n",
       "      <td>2.000</td>\n",
       "      <td>2016.000</td>\n",
       "      <td>nan</td>\n",
       "      <td>nan</td>\n",
       "      <td>NaN</td>\n",
       "      <td>NaN</td>\n",
       "      <td>nan</td>\n",
       "      <td>nan</td>\n",
       "      <td>Y</td>\n",
       "      <td>nan</td>\n",
       "      <td>nan</td>\n",
       "      <td>less than 20</td>\n",
       "      <td>2016.000</td>\n",
       "      <td>nan</td>\n",
       "      <td>0.131</td>\n",
       "      <td>500</td>\n",
       "      <td>0.131</td>\n",
       "      <td>Y</td>\n",
       "      <td>13110</td>\n",
       "      <td>nan</td>\n",
       "      <td>nan</td>\n",
       "      <td>nan</td>\n",
       "      <td>nan</td>\n",
       "      <td>nan</td>\n",
       "      <td></td>\n",
       "      <td>NaN</td>\n",
       "    </tr>\n",
       "    <tr>\n",
       "      <th>4</th>\n",
       "      <td>500</td>\n",
       "      <td>less than 20</td>\n",
       "      <td>0</td>\n",
       "      <td>0</td>\n",
       "      <td>5</td>\n",
       "      <td>0</td>\n",
       "      <td>0</td>\n",
       "      <td>1.300</td>\n",
       "      <td>3</td>\n",
       "      <td>M</td>\n",
       "      <td>BLK</td>\n",
       "      <td>Y</td>\n",
       "      <td>N</td>\n",
       "      <td>less than 20</td>\n",
       "      <td>less than 20</td>\n",
       "      <td>nan</td>\n",
       "      <td>NaN</td>\n",
       "      <td>2016</td>\n",
       "      <td>31</td>\n",
       "      <td>20.000</td>\n",
       "      <td>NaN</td>\n",
       "      <td>31</td>\n",
       "      <td>1.000</td>\n",
       "      <td>2016.000</td>\n",
       "      <td>nan</td>\n",
       "      <td>nan</td>\n",
       "      <td>NaN</td>\n",
       "      <td>NaN</td>\n",
       "      <td>nan</td>\n",
       "      <td>nan</td>\n",
       "      <td>N</td>\n",
       "      <td>nan</td>\n",
       "      <td>nan</td>\n",
       "      <td>less than 20</td>\n",
       "      <td>nan</td>\n",
       "      <td>nan</td>\n",
       "      <td>0.129</td>\n",
       "      <td>500</td>\n",
       "      <td>0.129</td>\n",
       "      <td>Y</td>\n",
       "      <td>12874</td>\n",
       "      <td>nan</td>\n",
       "      <td>nan</td>\n",
       "      <td>nan</td>\n",
       "      <td>nan</td>\n",
       "      <td>nan</td>\n",
       "      <td></td>\n",
       "      <td>NaN</td>\n",
       "    </tr>\n",
       "  </tbody>\n",
       "</table>\n",
       "</div>"
      ],
      "text/plain": [
       "   SSL SCORE PREDICTOR RAT AGE AT LATEST ARREST  \\\n",
       "0        500                              20-30   \n",
       "1        500                              20-30   \n",
       "2        500                       less than 20   \n",
       "3        500                       less than 20   \n",
       "4        500                       less than 20   \n",
       "\n",
       "   PREDICTOR RAT VICTIM SHOOTING INCIDENTS  \\\n",
       "0                                        0   \n",
       "1                                        0   \n",
       "2                                        1   \n",
       "3                                        1   \n",
       "4                                        0   \n",
       "\n",
       "   PREDICTOR RAT VICTIM BATTERY OR ASSAULT  \\\n",
       "0                                        1   \n",
       "1                                        9   \n",
       "2                                        2   \n",
       "3                                        1   \n",
       "4                                        0   \n",
       "\n",
       "   PREDICTOR RAT ARRESTS VIOLENT OFFENSES  PREDICTOR RAT GANG AFFILIATION  \\\n",
       "0                                       4                               1   \n",
       "1                                       1                               1   \n",
       "2                                       1                               1   \n",
       "3                                       4                               1   \n",
       "4                                       5                               0   \n",
       "\n",
       "   PREDICTOR RAT NARCOTIC ARRESTS  PREDICTOR RAT TREND IN CRIMINAL ACTIVITY  \\\n",
       "0                               1                                     1.000   \n",
       "1                               0                                     1.000   \n",
       "2                               3                                     1.000   \n",
       "3                               0                                     1.600   \n",
       "4                               0                                     1.300   \n",
       "\n",
       "   PREDICTOR RAT UUW ARRESTS SEX CODE CD RACE CODE CD WEAPON I DRUG I  \\\n",
       "0                          1           M          BLK        Y      N   \n",
       "1                          0           M          WHI        N      N   \n",
       "2                          0           M          WHI        N      N   \n",
       "3                          1           M          BLK        Y      N   \n",
       "4                          3           M          BLK        Y      N   \n",
       "\n",
       "      AGE GROUP        AGE TO  STOP ORDER NO PAROLEE I  LATEST DATE  \\\n",
       "0         20-30         20-30            nan       NaN         2015   \n",
       "1         20-30         20-30            nan       NaN         2016   \n",
       "2  less than 20  less than 20            nan       NaN         2016   \n",
       "3  less than 20  less than 20            nan       NaN         2016   \n",
       "4  less than 20  less than 20            nan       NaN         2016   \n",
       "\n",
       "   LATEST DIST  MAJORITY DIST DLST  LATEST DIST RES  WEAPONS ARR CNT  \\\n",
       "0           31         24.000  NaN               31            1.000   \n",
       "1           31          8.000  NaN                8              nan   \n",
       "2           31          8.000  NaN                8              nan   \n",
       "3           31          3.000  NaN                4            2.000   \n",
       "4           31         20.000  NaN               31            1.000   \n",
       "\n",
       "   LATEST WEAPON ARR DATE  NARCOTICS ARR CNT  LATEST NARCOTIC ARR DATE  \\\n",
       "0                2012.000                nan                       nan   \n",
       "1                     nan                nan                       nan   \n",
       "2                     nan                nan                       nan   \n",
       "3                2016.000                nan                       nan   \n",
       "4                2016.000                nan                       nan   \n",
       "\n",
       "  IDOC RES CITY IDOC RES STATE CODE  IDOC RES ZIP CODE  IDOC CPD DIST  \\\n",
       "0        SKOKIE                  IL          60077.000            nan   \n",
       "1           NaN                 NaN                nan            nan   \n",
       "2           NaN                 NaN                nan            nan   \n",
       "3           NaN                 NaN                nan            nan   \n",
       "4           NaN                 NaN                nan            nan   \n",
       "\n",
       "  CPD ARREST I  DOMESTIC ARR CNT  LATEST DOMESTIC ARR DATE      AGE CURR  \\\n",
       "0            N               nan                       nan         20-30   \n",
       "1            N             1.000                  2008.000         20-30   \n",
       "2            N               nan                       nan  less than 20   \n",
       "3            Y               nan                       nan  less than 20   \n",
       "4            N               nan                       nan  less than 20   \n",
       "\n",
       "   SSL LAST PTV DATE  TRAP STATUS  RAW SSL SCORE  HEAT SCORE  RAW_HEAT_SCORE  \\\n",
       "0                nan          nan          0.142         500           0.142   \n",
       "1                nan          nan          0.145         500           0.145   \n",
       "2           2015.000          nan          0.130         500           0.130   \n",
       "3           2016.000          nan          0.131         500           0.131   \n",
       "4                nan          nan          0.129         500           0.129   \n",
       "\n",
       "  STATUS I  PRE RAW HEAT SCORE  TRAP FLAGS  SSL FLAGS  LATITUDE  LONGITUDE  \\\n",
       "0        Y               14196         nan     24.000       nan        nan   \n",
       "1        Y               14511         nan      8.000       nan        nan   \n",
       "2        Y               12982         nan      8.000       nan        nan   \n",
       "3        Y               13110         nan        nan       nan        nan   \n",
       "4        Y               12874         nan        nan       nan        nan   \n",
       "\n",
       "   CENSUS TRACT COMMUNITY AREA LOCATION  \n",
       "0           nan                     NaN  \n",
       "1           nan                     NaN  \n",
       "2           nan                     NaN  \n",
       "3           nan                     NaN  \n",
       "4           nan                     NaN  "
      ]
     },
     "execution_count": 6,
     "metadata": {},
     "output_type": "execute_result"
    }
   ],
   "source": [
    "#Download and import the following data set, then answer the following questions!\n",
    "\n",
    "#https://data.cityofchicago.org/Public-Safety/Strategic-Subject-List/4aki-r3np/data\n",
    "\n",
    "df = pd.read_csv('Strategic_Subject_List.csv')\n",
    "df.head()"
   ]
  },
  {
   "cell_type": "code",
   "execution_count": 7,
   "metadata": {
    "collapsed": false
   },
   "outputs": [
    {
     "data": {
      "text/plain": [
       "array([[<matplotlib.axes._subplots.AxesSubplot object at 0x1037bc9d0>]], dtype=object)"
      ]
     },
     "execution_count": 7,
     "metadata": {},
     "output_type": "execute_result"
    },
    {
     "data": {
      "image/png": "[encoded data removed]",
      "text/plain": [
       "<matplotlib.figure.Figure at 0x1037e8ad0>"
      ]
     },
     "metadata": {},
     "output_type": "display_data"
    }
   ],
   "source": [
    "#4What is the distribution of the SSL scores?\n",
    "df.hist(\"SSL SCORE\")"
   ]
  },
  {
   "cell_type": "code",
   "execution_count": 8,
   "metadata": {
    "collapsed": false
   },
   "outputs": [
    {
     "data": {
      "text/plain": [
       "array(['20-30', 'less than 20', '30-40', nan, '40-50', '50-60', '60-70',\n",
       "       '70-80'], dtype=object)"
      ]
     },
     "execution_count": 8,
     "metadata": {},
     "output_type": "execute_result"
    }
   ],
   "source": [
    "df[\"AGE GROUP\"].unique()"
   ]
  },
  {
   "cell_type": "code",
   "execution_count": 9,
   "metadata": {
    "collapsed": false
   },
   "outputs": [
    {
     "name": "stdout",
     "output_type": "stream",
     "text": [
      "48\n"
     ]
    }
   ],
   "source": [
    "#How many records are in the data?\n",
    "print(len(df.columns))"
   ]
  },
  {
   "cell_type": "code",
   "execution_count": 10,
   "metadata": {
    "collapsed": false,
    "scrolled": true
   },
   "outputs": [
    {
     "data": {
      "text/plain": [
       "SSL SCORE                                   False\n",
       "PREDICTOR RAT AGE AT LATEST ARREST           True\n",
       "PREDICTOR RAT VICTIM SHOOTING INCIDENTS     False\n",
       "PREDICTOR RAT VICTIM BATTERY OR ASSAULT     False\n",
       "PREDICTOR RAT ARRESTS VIOLENT OFFENSES      False\n",
       "PREDICTOR RAT GANG AFFILIATION              False\n",
       "PREDICTOR RAT NARCOTIC ARRESTS              False\n",
       "PREDICTOR RAT TREND IN CRIMINAL ACTIVITY    False\n",
       "PREDICTOR RAT UUW ARRESTS                   False\n",
       "SEX CODE CD                                 False\n",
       "RACE CODE CD                                False\n",
       "WEAPON I                                    False\n",
       "DRUG I                                      False\n",
       "AGE GROUP                                    True\n",
       "AGE TO                                       True\n",
       "STOP ORDER NO                                True\n",
       "PAROLEE I                                    True\n",
       "LATEST DATE                                 False\n",
       "LATEST DIST                                 False\n",
       "MAJORITY DIST                                True\n",
       "DLST                                         True\n",
       "LATEST DIST RES                             False\n",
       "WEAPONS ARR CNT                              True\n",
       "LATEST WEAPON ARR DATE                       True\n",
       "NARCOTICS ARR CNT                            True\n",
       "LATEST NARCOTIC ARR DATE                     True\n",
       "IDOC RES CITY                                True\n",
       "IDOC RES STATE CODE                          True\n",
       "IDOC RES ZIP CODE                            True\n",
       "IDOC CPD DIST                                True\n",
       "CPD ARREST I                                False\n",
       "DOMESTIC ARR CNT                             True\n",
       "LATEST DOMESTIC ARR DATE                     True\n",
       "AGE CURR                                     True\n",
       "SSL LAST PTV DATE                            True\n",
       "TRAP STATUS                                  True\n",
       "RAW SSL SCORE                               False\n",
       "HEAT SCORE                                  False\n",
       "RAW_HEAT_SCORE                              False\n",
       "STATUS I                                    False\n",
       "PRE RAW HEAT SCORE                          False\n",
       "TRAP FLAGS                                   True\n",
       "SSL FLAGS                                    True\n",
       "LATITUDE                                     True\n",
       "LONGITUDE                                    True\n",
       "CENSUS TRACT                                 True\n",
       "COMMUNITY AREA                              False\n",
       "LOCATION                                     True\n",
       "dtype: bool"
      ]
     },
     "execution_count": 10,
     "metadata": {},
     "output_type": "execute_result"
    }
   ],
   "source": [
    "#Which predictors are missing values?\n",
    "df.isnull().any()"
   ]
  },
  {
   "cell_type": "markdown",
   "metadata": {},
   "source": [
    "\"PREDICTOR RAT AGE AT LATEST ARREST\" is the only predictor with missing values.\n"
   ]
  },
  {
   "cell_type": "code",
   "execution_count": 11,
   "metadata": {
    "collapsed": false
   },
   "outputs": [
    {
     "name": "stdout",
     "output_type": "stream",
     "text": [
      "The mean SSL Score is 279.839742754\n",
      "The max SSL Score is 500\n",
      "The minimum SSL Score is 10\n"
     ]
    }
   ],
   "source": [
    "#What is the average SSL score? The max SSL score? The min SSL score?\n",
    "print(\"The mean SSL Score is \"+ str(df[\"SSL SCORE\"].mean()))\n",
    "print(\"The max SSL Score is \"+ str(df[\"SSL SCORE\"].max()))\n",
    "print(\"The minimum SSL Score is \"+str(df[\"SSL SCORE\"].min()))"
   ]
  },
  {
   "cell_type": "code",
   "execution_count": 12,
   "metadata": {
    "collapsed": false
   },
   "outputs": [
    {
     "data": {
      "text/plain": [
       "0     500\n",
       "1     500\n",
       "2     500\n",
       "3     500\n",
       "4     500\n",
       "5     500\n",
       "6     498\n",
       "7     497\n",
       "8     495\n",
       "9     495\n",
       "10    489\n",
       "11    488\n",
       "12    487\n",
       "13    485\n",
       "14    483\n",
       "15    481\n",
       "16    480\n",
       "17    476\n",
       "18    475\n",
       "19    473\n",
       "Name: SSL SCORE, dtype: int64"
      ]
     },
     "execution_count": 12,
     "metadata": {},
     "output_type": "execute_result"
    }
   ],
   "source": [
    "#How do we simply view the \"SSL Score\" column?\n",
    "df[\"SSL SCORE\"].head(20)"
   ]
  },
  {
   "cell_type": "code",
   "execution_count": 13,
   "metadata": {
    "collapsed": false
   },
   "outputs": [
    {
     "data": {
      "text/plain": [
       "0     500\n",
       "1     500\n",
       "2     500\n",
       "3     500\n",
       "4     500\n",
       "5     500\n",
       "6     498\n",
       "7     497\n",
       "8     495\n",
       "9     495\n",
       "10    489\n",
       "11    488\n",
       "12    487\n",
       "13    485\n",
       "14    483\n",
       "15    481\n",
       "16    480\n",
       "17    476\n",
       "18    475\n",
       "19    473\n",
       "20    472\n",
       "21    472\n",
       "22    471\n",
       "23    471\n",
       "24    470\n",
       "25    467\n",
       "26    467\n",
       "27    467\n",
       "28    466\n",
       "29    463\n",
       "30    462\n",
       "31    462\n",
       "32    460\n",
       "33    458\n",
       "34    455\n",
       "35    455\n",
       "36    454\n",
       "37    454\n",
       "38    453\n",
       "39    453\n",
       "40    452\n",
       "41    450\n",
       "42    449\n",
       "43    448\n",
       "44    447\n",
       "45    447\n",
       "46    446\n",
       "47    446\n",
       "48    445\n",
       "49    445\n",
       "Name: SSL SCORE, dtype: int64"
      ]
     },
     "execution_count": 13,
     "metadata": {},
     "output_type": "execute_result"
    }
   ],
   "source": [
    "#What about the first fifty columns?\n",
    "df[\"SSL SCORE\"].head(50)"
   ]
  },
  {
   "cell_type": "code",
   "execution_count": 14,
   "metadata": {
    "collapsed": false
   },
   "outputs": [
    {
     "data": {
      "text/plain": [
       "170891    42\n",
       "170892    42\n",
       "170893    41\n",
       "268150    41\n",
       "170896    39\n",
       "170895    39\n",
       "170894    39\n",
       "267157    39\n",
       "170897    39\n",
       "170898    39\n",
       "341144    39\n",
       "397913    38\n",
       "170899    38\n",
       "332047    37\n",
       "297534    37\n",
       "209909    37\n",
       "170900    36\n",
       "318497    36\n",
       "273548    34\n",
       "253332    34\n",
       "170901    34\n",
       "170902    34\n",
       "170903    34\n",
       "170904    34\n",
       "170905    34\n",
       "296214    34\n",
       "170906    33\n",
       "170907    32\n",
       "198249    32\n",
       "170910    30\n",
       "267677    30\n",
       "170909    30\n",
       "170908    30\n",
       "170911    29\n",
       "388168    28\n",
       "189114    28\n",
       "170912    28\n",
       "170913    25\n",
       "277876    25\n",
       "170914    24\n",
       "264420    24\n",
       "204510    23\n",
       "370119    21\n",
       "284064    20\n",
       "170915    19\n",
       "170916    15\n",
       "170918    14\n",
       "170917    14\n",
       "170920    10\n",
       "170919    10\n",
       "Name: SSL SCORE, dtype: int64"
      ]
     },
     "execution_count": 14,
     "metadata": {},
     "output_type": "execute_result"
    }
   ],
   "source": [
    "#What about the fifty LOWEST scores?\n",
    "df[\"SSL SCORE\"].sort_values(ascending = False).tail(50)"
   ]
  },
  {
   "cell_type": "code",
   "execution_count": 15,
   "metadata": {
    "collapsed": false
   },
   "outputs": [
    {
     "data": {
      "text/plain": [
       "BLK    207842\n",
       "WWH     99710\n",
       "WHI     82366\n",
       "API      4617\n",
       "WBH      1974\n",
       "U        1899\n",
       "I         276\n",
       "Name: RACE CODE CD, dtype: int64"
      ]
     },
     "execution_count": 15,
     "metadata": {},
     "output_type": "execute_result"
    }
   ],
   "source": [
    "#What are the different race categories?\n",
    "\n",
    "df[\"RACE CODE CD\"].value_counts()"
   ]
  },
  {
   "cell_type": "code",
   "execution_count": 16,
   "metadata": {
    "collapsed": false
   },
   "outputs": [
    {
     "data": {
      "text/plain": [
       "7"
      ]
     },
     "execution_count": 16,
     "metadata": {},
     "output_type": "execute_result"
    }
   ],
   "source": [
    "#How can we know the counts of each race?\n",
    "len(df[\"RACE CODE CD\"].unique())"
   ]
  },
  {
   "cell_type": "code",
   "execution_count": 17,
   "metadata": {
    "collapsed": false
   },
   "outputs": [
    {
     "data": {
      "text/plain": [
       "223"
      ]
     },
     "execution_count": 17,
     "metadata": {},
     "output_type": "execute_result"
    }
   ],
   "source": [
    "#How many women had an SSL SCORE of 400 or more?\n",
    "len(df[(df[\"SEX CODE CD\"] == \"F\") & (df[\"SSL SCORE\"] >= 400)])"
   ]
  },
  {
   "cell_type": "code",
   "execution_count": 18,
   "metadata": {
    "collapsed": false
   },
   "outputs": [
    {
     "data": {
      "text/plain": [
       "464"
      ]
     },
     "execution_count": 18,
     "metadata": {},
     "output_type": "execute_result"
    }
   ],
   "source": [
    "#How many Asian/Pacific Islander males under 20 were victims of shooting incidents?\n",
    "len(df[(df[\"SEX CODE CD\"] == \"M\") & (df[\"RACE CODE CD\"] == \"API\") & (df[\"AGE TO\"] == \"less than 20\")])"
   ]
  },
  {
   "cell_type": "code",
   "execution_count": 19,
   "metadata": {
    "collapsed": false
   },
   "outputs": [
    {
     "data": {
      "text/plain": [
       "84"
      ]
     },
     "execution_count": 19,
     "metadata": {},
     "output_type": "execute_result"
    }
   ],
   "source": [
    "#How do we find out how many people on SSL are from the suburbs listed below?\n",
    "len(df[df[\"IDOC RES CITY\"] == \"SKOKIE\"])\n",
    "#\"SKOKIE\",\"WILMETTE\",\"EVANSTON\",\"DES PLAINES\",\"PALATINE\",\"ARLINGTON HTS\",\"SCHAUMBERG\""
   ]
  },
  {
   "cell_type": "code",
   "execution_count": 20,
   "metadata": {
    "collapsed": false
   },
   "outputs": [
    {
     "data": {
      "text/plain": [
       "6"
      ]
     },
     "execution_count": 20,
     "metadata": {},
     "output_type": "execute_result"
    }
   ],
   "source": [
    "len(df[df[\"IDOC RES CITY\"] == \"WILMETTE\"])"
   ]
  },
  {
   "cell_type": "code",
   "execution_count": 21,
   "metadata": {
    "collapsed": false
   },
   "outputs": [
    {
     "data": {
      "text/plain": [
       "221"
      ]
     },
     "execution_count": 21,
     "metadata": {},
     "output_type": "execute_result"
    }
   ],
   "source": [
    "len(df[df[\"IDOC RES CITY\"] == \"EVANSTON\"])"
   ]
  },
  {
   "cell_type": "code",
   "execution_count": 22,
   "metadata": {
    "collapsed": false
   },
   "outputs": [
    {
     "data": {
      "text/plain": [
       "133"
      ]
     },
     "execution_count": 22,
     "metadata": {},
     "output_type": "execute_result"
    }
   ],
   "source": [
    "len(df[df[\"IDOC RES CITY\"] == \"DES PLAINES\"])"
   ]
  },
  {
   "cell_type": "code",
   "execution_count": 23,
   "metadata": {
    "collapsed": false
   },
   "outputs": [
    {
     "data": {
      "text/plain": [
       "57"
      ]
     },
     "execution_count": 23,
     "metadata": {},
     "output_type": "execute_result"
    }
   ],
   "source": [
    "len(df[df[\"IDOC RES CITY\"] == \"PALATINE\"])"
   ]
  },
  {
   "cell_type": "code",
   "execution_count": 24,
   "metadata": {
    "collapsed": false
   },
   "outputs": [
    {
     "data": {
      "text/plain": [
       "50"
      ]
     },
     "execution_count": 24,
     "metadata": {},
     "output_type": "execute_result"
    }
   ],
   "source": [
    "len(df[df[\"IDOC RES CITY\"] == \"ARLINGTON HTS\"])"
   ]
  },
  {
   "cell_type": "code",
   "execution_count": 25,
   "metadata": {
    "collapsed": false
   },
   "outputs": [
    {
     "data": {
      "text/plain": [
       "0"
      ]
     },
     "execution_count": 25,
     "metadata": {},
     "output_type": "execute_result"
    }
   ],
   "source": [
    "len(df[df[\"IDOC RES CITY\"] == \"SCHAUMBERG\"])"
   ]
  },
  {
   "cell_type": "code",
   "execution_count": 26,
   "metadata": {
    "collapsed": false
   },
   "outputs": [],
   "source": [
    "#How do we create a column that flags senior citizens with scores less than 450?\n"
   ]
  },
  {
   "cell_type": "code",
   "execution_count": 27,
   "metadata": {
    "collapsed": false
   },
   "outputs": [
    {
     "data": {
      "text/plain": [
       "8697"
      ]
     },
     "execution_count": 27,
     "metadata": {},
     "output_type": "execute_result"
    }
   ],
   "source": [
    "len(df[(df[\"AGE GROUP\"] == \"60-70\") | (df[\"AGE GROUP\"] == \"70-80\") & (df[\"SSL SCORE\"] < 450)])"
   ]
  },
  {
   "cell_type": "code",
   "execution_count": 28,
   "metadata": {
    "collapsed": true
   },
   "outputs": [],
   "source": [
    "df['Flag'] = np.where((df['AGE GROUP'] == \"60-70\") | (df[\"AGE GROUP\"] == \"70-80\") & (df[\"SSL SCORE\"] < 450) , 'yes', 'no')"
   ]
  },
  {
   "cell_type": "code",
   "execution_count": 35,
   "metadata": {
    "collapsed": false
   },
   "outputs": [
    {
     "data": {
      "text/html": [
       "<div>\n",
       "<table border=\"1\" class=\"dataframe\">\n",
       "  <thead>\n",
       "    <tr style=\"text-align: right;\">\n",
       "      <th></th>\n",
       "      <th>SSL SCORE</th>\n",
       "      <th>PREDICTOR RAT AGE AT LATEST ARREST</th>\n",
       "      <th>PREDICTOR RAT VICTIM SHOOTING INCIDENTS</th>\n",
       "      <th>PREDICTOR RAT VICTIM BATTERY OR ASSAULT</th>\n",
       "      <th>PREDICTOR RAT ARRESTS VIOLENT OFFENSES</th>\n",
       "      <th>PREDICTOR RAT GANG AFFILIATION</th>\n",
       "      <th>PREDICTOR RAT NARCOTIC ARRESTS</th>\n",
       "      <th>PREDICTOR RAT TREND IN CRIMINAL ACTIVITY</th>\n",
       "      <th>PREDICTOR RAT UUW ARRESTS</th>\n",
       "      <th>SEX CODE CD</th>\n",
       "      <th>RACE CODE CD</th>\n",
       "      <th>WEAPON I</th>\n",
       "      <th>DRUG I</th>\n",
       "      <th>AGE GROUP</th>\n",
       "      <th>AGE TO</th>\n",
       "      <th>STOP ORDER NO</th>\n",
       "      <th>PAROLEE I</th>\n",
       "      <th>LATEST DATE</th>\n",
       "      <th>LATEST DIST</th>\n",
       "      <th>MAJORITY DIST</th>\n",
       "      <th>DLST</th>\n",
       "      <th>LATEST DIST RES</th>\n",
       "      <th>WEAPONS ARR CNT</th>\n",
       "      <th>LATEST WEAPON ARR DATE</th>\n",
       "      <th>NARCOTICS ARR CNT</th>\n",
       "      <th>LATEST NARCOTIC ARR DATE</th>\n",
       "      <th>IDOC RES CITY</th>\n",
       "      <th>IDOC RES STATE CODE</th>\n",
       "      <th>IDOC RES ZIP CODE</th>\n",
       "      <th>IDOC CPD DIST</th>\n",
       "      <th>CPD ARREST I</th>\n",
       "      <th>DOMESTIC ARR CNT</th>\n",
       "      <th>LATEST DOMESTIC ARR DATE</th>\n",
       "      <th>AGE CURR</th>\n",
       "      <th>SSL LAST PTV DATE</th>\n",
       "      <th>TRAP STATUS</th>\n",
       "      <th>RAW SSL SCORE</th>\n",
       "      <th>HEAT SCORE</th>\n",
       "      <th>RAW_HEAT_SCORE</th>\n",
       "      <th>STATUS I</th>\n",
       "      <th>PRE RAW HEAT SCORE</th>\n",
       "      <th>TRAP FLAGS</th>\n",
       "      <th>SSL FLAGS</th>\n",
       "      <th>LATITUDE</th>\n",
       "      <th>LONGITUDE</th>\n",
       "      <th>CENSUS TRACT</th>\n",
       "      <th>COMMUNITY AREA</th>\n",
       "      <th>LOCATION</th>\n",
       "      <th>Flag</th>\n",
       "    </tr>\n",
       "  </thead>\n",
       "  <tbody>\n",
       "    <tr>\n",
       "      <th>0</th>\n",
       "      <td>500</td>\n",
       "      <td>20-30</td>\n",
       "      <td>0</td>\n",
       "      <td>1</td>\n",
       "      <td>4</td>\n",
       "      <td>1</td>\n",
       "      <td>1</td>\n",
       "      <td>1.000</td>\n",
       "      <td>1</td>\n",
       "      <td>M</td>\n",
       "      <td>BLK</td>\n",
       "      <td>Y</td>\n",
       "      <td>N</td>\n",
       "      <td>20-30</td>\n",
       "      <td>20-30</td>\n",
       "      <td>nan</td>\n",
       "      <td>NaN</td>\n",
       "      <td>2015</td>\n",
       "      <td>31</td>\n",
       "      <td>24.000</td>\n",
       "      <td>NaN</td>\n",
       "      <td>31</td>\n",
       "      <td>1.000</td>\n",
       "      <td>2012.000</td>\n",
       "      <td>nan</td>\n",
       "      <td>nan</td>\n",
       "      <td>SKOKIE</td>\n",
       "      <td>IL</td>\n",
       "      <td>60077.000</td>\n",
       "      <td>nan</td>\n",
       "      <td>N</td>\n",
       "      <td>nan</td>\n",
       "      <td>nan</td>\n",
       "      <td>20-30</td>\n",
       "      <td>nan</td>\n",
       "      <td>nan</td>\n",
       "      <td>0.142</td>\n",
       "      <td>500</td>\n",
       "      <td>0.142</td>\n",
       "      <td>Y</td>\n",
       "      <td>14196</td>\n",
       "      <td>nan</td>\n",
       "      <td>24.000</td>\n",
       "      <td>nan</td>\n",
       "      <td>nan</td>\n",
       "      <td>nan</td>\n",
       "      <td></td>\n",
       "      <td>NaN</td>\n",
       "      <td>no</td>\n",
       "    </tr>\n",
       "    <tr>\n",
       "      <th>1</th>\n",
       "      <td>500</td>\n",
       "      <td>20-30</td>\n",
       "      <td>0</td>\n",
       "      <td>9</td>\n",
       "      <td>1</td>\n",
       "      <td>1</td>\n",
       "      <td>0</td>\n",
       "      <td>1.000</td>\n",
       "      <td>0</td>\n",
       "      <td>M</td>\n",
       "      <td>WHI</td>\n",
       "      <td>N</td>\n",
       "      <td>N</td>\n",
       "      <td>20-30</td>\n",
       "      <td>20-30</td>\n",
       "      <td>nan</td>\n",
       "      <td>NaN</td>\n",
       "      <td>2016</td>\n",
       "      <td>31</td>\n",
       "      <td>8.000</td>\n",
       "      <td>NaN</td>\n",
       "      <td>8</td>\n",
       "      <td>nan</td>\n",
       "      <td>nan</td>\n",
       "      <td>nan</td>\n",
       "      <td>nan</td>\n",
       "      <td>NaN</td>\n",
       "      <td>NaN</td>\n",
       "      <td>nan</td>\n",
       "      <td>nan</td>\n",
       "      <td>N</td>\n",
       "      <td>1.000</td>\n",
       "      <td>2008.000</td>\n",
       "      <td>20-30</td>\n",
       "      <td>nan</td>\n",
       "      <td>nan</td>\n",
       "      <td>0.145</td>\n",
       "      <td>500</td>\n",
       "      <td>0.145</td>\n",
       "      <td>Y</td>\n",
       "      <td>14511</td>\n",
       "      <td>nan</td>\n",
       "      <td>8.000</td>\n",
       "      <td>nan</td>\n",
       "      <td>nan</td>\n",
       "      <td>nan</td>\n",
       "      <td></td>\n",
       "      <td>NaN</td>\n",
       "      <td>no</td>\n",
       "    </tr>\n",
       "    <tr>\n",
       "      <th>2</th>\n",
       "      <td>500</td>\n",
       "      <td>less than 20</td>\n",
       "      <td>1</td>\n",
       "      <td>2</td>\n",
       "      <td>1</td>\n",
       "      <td>1</td>\n",
       "      <td>3</td>\n",
       "      <td>1.000</td>\n",
       "      <td>0</td>\n",
       "      <td>M</td>\n",
       "      <td>WHI</td>\n",
       "      <td>N</td>\n",
       "      <td>N</td>\n",
       "      <td>less than 20</td>\n",
       "      <td>less than 20</td>\n",
       "      <td>nan</td>\n",
       "      <td>NaN</td>\n",
       "      <td>2016</td>\n",
       "      <td>31</td>\n",
       "      <td>8.000</td>\n",
       "      <td>NaN</td>\n",
       "      <td>8</td>\n",
       "      <td>nan</td>\n",
       "      <td>nan</td>\n",
       "      <td>nan</td>\n",
       "      <td>nan</td>\n",
       "      <td>NaN</td>\n",
       "      <td>NaN</td>\n",
       "      <td>nan</td>\n",
       "      <td>nan</td>\n",
       "      <td>N</td>\n",
       "      <td>nan</td>\n",
       "      <td>nan</td>\n",
       "      <td>less than 20</td>\n",
       "      <td>2015.000</td>\n",
       "      <td>nan</td>\n",
       "      <td>0.130</td>\n",
       "      <td>500</td>\n",
       "      <td>0.130</td>\n",
       "      <td>Y</td>\n",
       "      <td>12982</td>\n",
       "      <td>nan</td>\n",
       "      <td>8.000</td>\n",
       "      <td>nan</td>\n",
       "      <td>nan</td>\n",
       "      <td>nan</td>\n",
       "      <td></td>\n",
       "      <td>NaN</td>\n",
       "      <td>no</td>\n",
       "    </tr>\n",
       "    <tr>\n",
       "      <th>3</th>\n",
       "      <td>500</td>\n",
       "      <td>less than 20</td>\n",
       "      <td>1</td>\n",
       "      <td>1</td>\n",
       "      <td>4</td>\n",
       "      <td>1</td>\n",
       "      <td>0</td>\n",
       "      <td>1.600</td>\n",
       "      <td>1</td>\n",
       "      <td>M</td>\n",
       "      <td>BLK</td>\n",
       "      <td>Y</td>\n",
       "      <td>N</td>\n",
       "      <td>less than 20</td>\n",
       "      <td>less than 20</td>\n",
       "      <td>nan</td>\n",
       "      <td>NaN</td>\n",
       "      <td>2016</td>\n",
       "      <td>31</td>\n",
       "      <td>3.000</td>\n",
       "      <td>NaN</td>\n",
       "      <td>4</td>\n",
       "      <td>2.000</td>\n",
       "      <td>2016.000</td>\n",
       "      <td>nan</td>\n",
       "      <td>nan</td>\n",
       "      <td>NaN</td>\n",
       "      <td>NaN</td>\n",
       "      <td>nan</td>\n",
       "      <td>nan</td>\n",
       "      <td>Y</td>\n",
       "      <td>nan</td>\n",
       "      <td>nan</td>\n",
       "      <td>less than 20</td>\n",
       "      <td>2016.000</td>\n",
       "      <td>nan</td>\n",
       "      <td>0.131</td>\n",
       "      <td>500</td>\n",
       "      <td>0.131</td>\n",
       "      <td>Y</td>\n",
       "      <td>13110</td>\n",
       "      <td>nan</td>\n",
       "      <td>nan</td>\n",
       "      <td>nan</td>\n",
       "      <td>nan</td>\n",
       "      <td>nan</td>\n",
       "      <td></td>\n",
       "      <td>NaN</td>\n",
       "      <td>no</td>\n",
       "    </tr>\n",
       "    <tr>\n",
       "      <th>4</th>\n",
       "      <td>500</td>\n",
       "      <td>less than 20</td>\n",
       "      <td>0</td>\n",
       "      <td>0</td>\n",
       "      <td>5</td>\n",
       "      <td>0</td>\n",
       "      <td>0</td>\n",
       "      <td>1.300</td>\n",
       "      <td>3</td>\n",
       "      <td>M</td>\n",
       "      <td>BLK</td>\n",
       "      <td>Y</td>\n",
       "      <td>N</td>\n",
       "      <td>less than 20</td>\n",
       "      <td>less than 20</td>\n",
       "      <td>nan</td>\n",
       "      <td>NaN</td>\n",
       "      <td>2016</td>\n",
       "      <td>31</td>\n",
       "      <td>20.000</td>\n",
       "      <td>NaN</td>\n",
       "      <td>31</td>\n",
       "      <td>1.000</td>\n",
       "      <td>2016.000</td>\n",
       "      <td>nan</td>\n",
       "      <td>nan</td>\n",
       "      <td>NaN</td>\n",
       "      <td>NaN</td>\n",
       "      <td>nan</td>\n",
       "      <td>nan</td>\n",
       "      <td>N</td>\n",
       "      <td>nan</td>\n",
       "      <td>nan</td>\n",
       "      <td>less than 20</td>\n",
       "      <td>nan</td>\n",
       "      <td>nan</td>\n",
       "      <td>0.129</td>\n",
       "      <td>500</td>\n",
       "      <td>0.129</td>\n",
       "      <td>Y</td>\n",
       "      <td>12874</td>\n",
       "      <td>nan</td>\n",
       "      <td>nan</td>\n",
       "      <td>nan</td>\n",
       "      <td>nan</td>\n",
       "      <td>nan</td>\n",
       "      <td></td>\n",
       "      <td>NaN</td>\n",
       "      <td>no</td>\n",
       "    </tr>\n",
       "  </tbody>\n",
       "</table>\n",
       "</div>"
      ],
      "text/plain": [
       "   SSL SCORE PREDICTOR RAT AGE AT LATEST ARREST  \\\n",
       "0        500                              20-30   \n",
       "1        500                              20-30   \n",
       "2        500                       less than 20   \n",
       "3        500                       less than 20   \n",
       "4        500                       less than 20   \n",
       "\n",
       "   PREDICTOR RAT VICTIM SHOOTING INCIDENTS  \\\n",
       "0                                        0   \n",
       "1                                        0   \n",
       "2                                        1   \n",
       "3                                        1   \n",
       "4                                        0   \n",
       "\n",
       "   PREDICTOR RAT VICTIM BATTERY OR ASSAULT  \\\n",
       "0                                        1   \n",
       "1                                        9   \n",
       "2                                        2   \n",
       "3                                        1   \n",
       "4                                        0   \n",
       "\n",
       "   PREDICTOR RAT ARRESTS VIOLENT OFFENSES  PREDICTOR RAT GANG AFFILIATION  \\\n",
       "0                                       4                               1   \n",
       "1                                       1                               1   \n",
       "2                                       1                               1   \n",
       "3                                       4                               1   \n",
       "4                                       5                               0   \n",
       "\n",
       "   PREDICTOR RAT NARCOTIC ARRESTS  PREDICTOR RAT TREND IN CRIMINAL ACTIVITY  \\\n",
       "0                               1                                     1.000   \n",
       "1                               0                                     1.000   \n",
       "2                               3                                     1.000   \n",
       "3                               0                                     1.600   \n",
       "4                               0                                     1.300   \n",
       "\n",
       "   PREDICTOR RAT UUW ARRESTS SEX CODE CD RACE CODE CD WEAPON I DRUG I  \\\n",
       "0                          1           M          BLK        Y      N   \n",
       "1                          0           M          WHI        N      N   \n",
       "2                          0           M          WHI        N      N   \n",
       "3                          1           M          BLK        Y      N   \n",
       "4                          3           M          BLK        Y      N   \n",
       "\n",
       "      AGE GROUP        AGE TO  STOP ORDER NO PAROLEE I  LATEST DATE  \\\n",
       "0         20-30         20-30            nan       NaN         2015   \n",
       "1         20-30         20-30            nan       NaN         2016   \n",
       "2  less than 20  less than 20            nan       NaN         2016   \n",
       "3  less than 20  less than 20            nan       NaN         2016   \n",
       "4  less than 20  less than 20            nan       NaN         2016   \n",
       "\n",
       "   LATEST DIST  MAJORITY DIST DLST  LATEST DIST RES  WEAPONS ARR CNT  \\\n",
       "0           31         24.000  NaN               31            1.000   \n",
       "1           31          8.000  NaN                8              nan   \n",
       "2           31          8.000  NaN                8              nan   \n",
       "3           31          3.000  NaN                4            2.000   \n",
       "4           31         20.000  NaN               31            1.000   \n",
       "\n",
       "   LATEST WEAPON ARR DATE  NARCOTICS ARR CNT  LATEST NARCOTIC ARR DATE  \\\n",
       "0                2012.000                nan                       nan   \n",
       "1                     nan                nan                       nan   \n",
       "2                     nan                nan                       nan   \n",
       "3                2016.000                nan                       nan   \n",
       "4                2016.000                nan                       nan   \n",
       "\n",
       "  IDOC RES CITY IDOC RES STATE CODE  IDOC RES ZIP CODE  IDOC CPD DIST  \\\n",
       "0        SKOKIE                  IL          60077.000            nan   \n",
       "1           NaN                 NaN                nan            nan   \n",
       "2           NaN                 NaN                nan            nan   \n",
       "3           NaN                 NaN                nan            nan   \n",
       "4           NaN                 NaN                nan            nan   \n",
       "\n",
       "  CPD ARREST I  DOMESTIC ARR CNT  LATEST DOMESTIC ARR DATE      AGE CURR  \\\n",
       "0            N               nan                       nan         20-30   \n",
       "1            N             1.000                  2008.000         20-30   \n",
       "2            N               nan                       nan  less than 20   \n",
       "3            Y               nan                       nan  less than 20   \n",
       "4            N               nan                       nan  less than 20   \n",
       "\n",
       "   SSL LAST PTV DATE  TRAP STATUS  RAW SSL SCORE  HEAT SCORE  RAW_HEAT_SCORE  \\\n",
       "0                nan          nan          0.142         500           0.142   \n",
       "1                nan          nan          0.145         500           0.145   \n",
       "2           2015.000          nan          0.130         500           0.130   \n",
       "3           2016.000          nan          0.131         500           0.131   \n",
       "4                nan          nan          0.129         500           0.129   \n",
       "\n",
       "  STATUS I  PRE RAW HEAT SCORE  TRAP FLAGS  SSL FLAGS  LATITUDE  LONGITUDE  \\\n",
       "0        Y               14196         nan     24.000       nan        nan   \n",
       "1        Y               14511         nan      8.000       nan        nan   \n",
       "2        Y               12982         nan      8.000       nan        nan   \n",
       "3        Y               13110         nan        nan       nan        nan   \n",
       "4        Y               12874         nan        nan       nan        nan   \n",
       "\n",
       "   CENSUS TRACT COMMUNITY AREA LOCATION Flag  \n",
       "0           nan                     NaN   no  \n",
       "1           nan                     NaN   no  \n",
       "2           nan                     NaN   no  \n",
       "3           nan                     NaN   no  \n",
       "4           nan                     NaN   no  "
      ]
     },
     "execution_count": 35,
     "metadata": {},
     "output_type": "execute_result"
    }
   ],
   "source": [
    "df.head()\n"
   ]
  }
 ],
 "metadata": {
  "anaconda-cloud": {},
  "kernelspec": {
   "display_name": "Python 2",
   "language": "python",
   "name": "python2"
  },
  "language_info": {
   "codemirror_mode": {
    "name": "ipython",
    "version": 2
   },
   "file_extension": ".py",
   "mimetype": "text/x-python",
   "name": "python",
   "nbconvert_exporter": "python",
   "pygments_lexer": "ipython2",
   "version": "2.7.13"
  }
 },
 "nbformat": 4,
 "nbformat_minor": 1
}
