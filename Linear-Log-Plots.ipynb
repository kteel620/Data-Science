{
 "cells": [
  {
   "cell_type": "markdown",
   "metadata": {},
   "source": [
    "# Lesson 6 - Starter Code"
   ]
  },
  {
   "cell_type": "code",
   "execution_count": 1,
   "metadata": {
    "collapsed": false
   },
   "outputs": [],
   "source": [
    "%matplotlib inline\n",
    "import numpy as np\n",
    "import pandas as pd\n",
    "from matplotlib import pyplot as plt\n",
    "import seaborn as sns\n",
    "sns.set_style(\"darkgrid\")\n",
    "\n",
    "import statsmodels.formula.api as smf\n",
    "\n",
    "# read in the mammal dataset\n",
    "wd = '../../assets/dataset/msleep/'\n",
    "mammals = pd.read_csv(wd+'msleep.csv')\n",
    "mammals = mammals[mammals.brainwt.notnull()].copy()"
   ]
  },
  {
   "cell_type": "markdown",
   "metadata": {},
   "source": [
    "# Part 1:\n",
    "A look at the mammals dataset"
   ]
  },
  {
   "cell_type": "code",
   "execution_count": 2,
   "metadata": {
    "collapsed": false
   },
   "outputs": [
    {
     "data": {
      "text/html": [
       "<div>\n",
       "<table border=\"1\" class=\"dataframe\">\n",
       "  <thead>\n",
       "    <tr style=\"text-align: right;\">\n",
       "      <th></th>\n",
       "      <th>name</th>\n",
       "      <th>genus</th>\n",
       "      <th>vore</th>\n",
       "      <th>order</th>\n",
       "      <th>conservation</th>\n",
       "      <th>sleep_total</th>\n",
       "      <th>sleep_rem</th>\n",
       "      <th>sleep_cycle</th>\n",
       "      <th>awake</th>\n",
       "      <th>brainwt</th>\n",
       "      <th>bodywt</th>\n",
       "    </tr>\n",
       "  </thead>\n",
       "  <tbody>\n",
       "    <tr>\n",
       "      <th>1</th>\n",
       "      <td>Owl monkey</td>\n",
       "      <td>Aotus</td>\n",
       "      <td>omni</td>\n",
       "      <td>Primates</td>\n",
       "      <td>NaN</td>\n",
       "      <td>17.0</td>\n",
       "      <td>1.8</td>\n",
       "      <td>NaN</td>\n",
       "      <td>7.0</td>\n",
       "      <td>0.01550</td>\n",
       "      <td>0.480</td>\n",
       "    </tr>\n",
       "    <tr>\n",
       "      <th>3</th>\n",
       "      <td>Greater short-tailed shrew</td>\n",
       "      <td>Blarina</td>\n",
       "      <td>omni</td>\n",
       "      <td>Soricomorpha</td>\n",
       "      <td>lc</td>\n",
       "      <td>14.9</td>\n",
       "      <td>2.3</td>\n",
       "      <td>0.133333</td>\n",
       "      <td>9.1</td>\n",
       "      <td>0.00029</td>\n",
       "      <td>0.019</td>\n",
       "    </tr>\n",
       "    <tr>\n",
       "      <th>4</th>\n",
       "      <td>Cow</td>\n",
       "      <td>Bos</td>\n",
       "      <td>herbi</td>\n",
       "      <td>Artiodactyla</td>\n",
       "      <td>domesticated</td>\n",
       "      <td>4.0</td>\n",
       "      <td>0.7</td>\n",
       "      <td>0.666667</td>\n",
       "      <td>20.0</td>\n",
       "      <td>0.42300</td>\n",
       "      <td>600.000</td>\n",
       "    </tr>\n",
       "    <tr>\n",
       "      <th>8</th>\n",
       "      <td>Dog</td>\n",
       "      <td>Canis</td>\n",
       "      <td>carni</td>\n",
       "      <td>Carnivora</td>\n",
       "      <td>domesticated</td>\n",
       "      <td>10.1</td>\n",
       "      <td>2.9</td>\n",
       "      <td>0.333333</td>\n",
       "      <td>13.9</td>\n",
       "      <td>0.07000</td>\n",
       "      <td>14.000</td>\n",
       "    </tr>\n",
       "    <tr>\n",
       "      <th>9</th>\n",
       "      <td>Roe deer</td>\n",
       "      <td>Capreolus</td>\n",
       "      <td>herbi</td>\n",
       "      <td>Artiodactyla</td>\n",
       "      <td>lc</td>\n",
       "      <td>3.0</td>\n",
       "      <td>NaN</td>\n",
       "      <td>NaN</td>\n",
       "      <td>21.0</td>\n",
       "      <td>0.09820</td>\n",
       "      <td>14.800</td>\n",
       "    </tr>\n",
       "  </tbody>\n",
       "</table>\n",
       "</div>"
      ],
      "text/plain": [
       "                         name      genus   vore         order  conservation  \\\n",
       "1                  Owl monkey      Aotus   omni      Primates           NaN   \n",
       "3  Greater short-tailed shrew    Blarina   omni  Soricomorpha            lc   \n",
       "4                         Cow        Bos  herbi  Artiodactyla  domesticated   \n",
       "8                         Dog      Canis  carni     Carnivora  domesticated   \n",
       "9                    Roe deer  Capreolus  herbi  Artiodactyla            lc   \n",
       "\n",
       "   sleep_total  sleep_rem  sleep_cycle  awake  brainwt   bodywt  \n",
       "1         17.0        1.8          NaN    7.0  0.01550    0.480  \n",
       "3         14.9        2.3     0.133333    9.1  0.00029    0.019  \n",
       "4          4.0        0.7     0.666667   20.0  0.42300  600.000  \n",
       "8         10.1        2.9     0.333333   13.9  0.07000   14.000  \n",
       "9          3.0        NaN          NaN   21.0  0.09820   14.800  "
      ]
     },
     "execution_count": 2,
     "metadata": {},
     "output_type": "execute_result"
    }
   ],
   "source": [
    "mammals.head()\n",
    "\n"
   ]
  },
  {
   "cell_type": "markdown",
   "metadata": {},
   "source": [
    "### Check 1. Distribution\n",
    "\n",
    "#### A scatter plot of body weight and brain weight"
   ]
  },
  {
   "cell_type": "code",
   "execution_count": 3,
   "metadata": {
    "collapsed": false
   },
   "outputs": [
    {
     "data": {
      "image/png": "[encoded data removed]",
      "text/plain": [
       "<matplotlib.figure.Figure at 0x11c249d10>"
      ]
     },
     "metadata": {},
     "output_type": "display_data"
    }
   ],
   "source": [
    "# create a matplotlib figure\n",
    "plt.figure()\n",
    "# generate a scatterplot inside the figure\n",
    "plt.plot(mammals.bodywt, mammals.brainwt, '^')\n",
    "# show the plot\n",
    "plt.ylabel(\"Brain Weight\")\n",
    "plt.xlabel(\"Body Weight\")\n",
    "plt.show()"
   ]
  },
  {
   "cell_type": "code",
   "execution_count": 5,
   "metadata": {
    "collapsed": false
   },
   "outputs": [
    {
     "data": {
      "text/plain": [
       "<seaborn.axisgrid.FacetGrid at 0x11e97b410>"
      ]
     },
     "execution_count": 5,
     "metadata": {},
     "output_type": "execute_result"
    },
    {
     "data": {
      "image/png": "[encoded data removed]",
      "text/plain": [
       "<matplotlib.figure.Figure at 0x11e97bed0>"
      ]
     },
     "metadata": {},
     "output_type": "display_data"
    }
   ],
   "source": [
    "sns.lmplot('bodywt', 'brainwt', mammals)"
   ]
  },
  {
   "cell_type": "markdown",
   "metadata": {},
   "source": [
    "### Log transformation can help here. \n",
    "\n"
   ]
  },
  {
   "cell_type": "code",
   "execution_count": 6,
   "metadata": {
    "collapsed": false
   },
   "outputs": [],
   "source": [
    "log_columns = ['bodywt', 'brainwt',]\n",
    "log_mammals = mammals.copy()\n",
    "log_mammals[log_columns] = log_mammals[log_columns].apply(np.log10)\n"
   ]
  },
  {
   "cell_type": "code",
   "execution_count": 7,
   "metadata": {
    "collapsed": false
   },
   "outputs": [
    {
     "data": {
      "text/plain": [
       "<seaborn.axisgrid.FacetGrid at 0x11f227890>"
      ]
     },
     "execution_count": 7,
     "metadata": {},
     "output_type": "execute_result"
    },
    {
     "data": {
      "image/png": "[encoded data removed]",
      "text/plain": [
       "<matplotlib.figure.Figure at 0x11f1d9e90>"
      ]
     },
     "metadata": {},
     "output_type": "display_data"
    }
   ],
   "source": [
    "g = sns.lmplot('bodywt', 'brainwt', log_mammals)\n",
    "g.set_axis_labels( \"Log Body Weight\", \"Log Brain Weight\")"
   ]
  },
  {
   "cell_type": "markdown",
   "metadata": {},
   "source": [
    "#### Woohoo! This looks much better. "
   ]
  },
  {
   "cell_type": "markdown",
   "metadata": {},
   "source": [
    "#Part 1-  \n",
    "Using lmplot and displaying correlations between body weight and two dependent variables: sleep_rem and awake.\n"
   ]
  },
  {
   "cell_type": "markdown",
   "metadata": {},
   "source": [
    "With body weight as the x and y set as:\n",
    "1. sleep_rem \n",
    "2. awake"
   ]
  },
  {
   "cell_type": "code",
   "execution_count": 13,
   "metadata": {
    "collapsed": true
   },
   "outputs": [],
   "source": [
    "#1. add any additional variables that you would like to take the log of\n",
    "log_columns = ['bodywt', 'brainwt']  # any others?\n",
    "log_mammals = mammals.copy()\n",
    "log_mammals[log_columns] = log_mammals[log_columns].apply(np.log10)\n",
    "\n"
   ]
  },
  {
   "cell_type": "markdown",
   "metadata": {},
   "source": [
    "#### Creating the lmplots\n",
    "Replacing X and Y below with the two variables. "
   ]
  },
  {
   "cell_type": "code",
   "execution_count": 9,
   "metadata": {
    "collapsed": false
   },
   "outputs": [
    {
     "data": {
      "text/plain": [
       "<seaborn.axisgrid.FacetGrid at 0x11ed155d0>"
      ]
     },
     "execution_count": 9,
     "metadata": {},
     "output_type": "execute_result"
    },
    {
     "data": {
      "image/png": "[encoded data removed]",
      "text/plain": [
       "<matplotlib.figure.Figure at 0x11f304c10>"
      ]
     },
     "metadata": {},
     "output_type": "display_data"
    },
    {
     "data": {
      "image/png": "[encoded data removed]",
      "text/plain": [
       "<matplotlib.figure.Figure at 0x11ed15b90>"
      ]
     },
     "metadata": {},
     "output_type": "display_data"
    },
    {
     "data": {
      "image/png": "[encoded data removed]",
      "text/plain": [
       "<matplotlib.figure.Figure at 0x11f2e5bd0>"
      ]
     },
     "metadata": {},
     "output_type": "display_data"
    },
    {
     "data": {
      "image/png": "[encoded data removed]",
      "text/plain": [
       "<matplotlib.figure.Figure at 0x11e818110>"
      ]
     },
     "metadata": {},
     "output_type": "display_data"
    }
   ],
   "source": [
    "g = sns.lmplot(\"bodywt\", 'sleep_rem', mammals)\n",
    "g.set_axis_labels( \"Body Weight\", \"REM\")\n",
    "g = sns.lmplot(\"bodywt\", \"sleep_rem\", log_mammals)\n",
    "g.set_axis_labels( \"Log Body Weight\", \"Log REM \")\n",
    "\n",
    "g = sns.lmplot(\"bodywt\", 'awake', mammals)\n",
    "g.set_axis_labels( \"Body Weight\", \"Awake\")\n",
    "g = sns.lmplot(\"bodywt\", \"awake\", log_mammals)\n",
    "g.set_axis_labels( \"Log Body Weight\", \"Log Awake \")"
   ]
  },
  {
   "cell_type": "markdown",
   "metadata": {},
   "source": [
    "### Trying out other outcomes"
   ]
  },
  {
   "cell_type": "code",
   "execution_count": 10,
   "metadata": {
    "collapsed": false
   },
   "outputs": [
    {
     "data": {
      "text/plain": [
       "<seaborn.axisgrid.FacetGrid at 0x11fba5b10>"
      ]
     },
     "execution_count": 10,
     "metadata": {},
     "output_type": "execute_result"
    },
    {
     "data": {
      "image/png": "[encoded data removed]",
      "text/plain": [
       "<matplotlib.figure.Figure at 0x11f915750>"
      ]
     },
     "metadata": {},
     "output_type": "display_data"
    },
    {
     "data": {
      "image/png": "[encoded data removed]",
      "text/plain": [
       "<matplotlib.figure.Figure at 0x11f8fb210>"
      ]
     },
     "metadata": {},
     "output_type": "display_data"
    }
   ],
   "source": [
    "log_columns = ['bodywt', 'sleep_total']  # any others?\n",
    "log_mammals = mammals.copy()\n",
    "log_mammals[log_columns] = log_mammals[log_columns].apply(np.log10)\n",
    "\n",
    "x = 'bodywt'\n",
    "y = 'sleep_total'\n",
    "d = sns.lmplot(x, y, mammals)\n",
    "d.set_axis_labels(\"Body Weight\", \"Sleep Total\")\n",
    "\n",
    "m = sns.lmplot(x, 'sleep_total', log_mammals)\n",
    "m.set_axis_labels(\"Body Weight\", \"Log Sleep Total\")"
   ]
  },
  {
   "cell_type": "code",
   "execution_count": 11,
   "metadata": {
    "collapsed": false,
    "scrolled": false
   },
   "outputs": [
    {
     "data": {
      "text/plain": [
       "<seaborn.axisgrid.FacetGrid at 0x11ff37f90>"
      ]
     },
     "execution_count": 11,
     "metadata": {},
     "output_type": "execute_result"
    },
    {
     "data": {
      "image/png": "[encoded data removed]",
      "text/plain": [
       "<matplotlib.figure.Figure at 0x11fc86610>"
      ]
     },
     "metadata": {},
     "output_type": "display_data"
    },
    {
     "data": {
      "image/png": "[encoded data removed]",
      "text/plain": [
       "<matplotlib.figure.Figure at 0x11fc901d0>"
      ]
     },
     "metadata": {},
     "output_type": "display_data"
    }
   ],
   "source": [
    "# one other example, using brainwt and awake.\n",
    "log_columns = [\"brainwt\", \"awake\"]\n",
    "log_mammals = mammals.copy()\n",
    "log_mammals[log_columns] = log_mammals[log_columns].apply(np.log10) \n",
    "\n",
    "x_2 = \"brainwt\"\n",
    "y_2 = \"awake\"\n",
    "z_1 = sns.lmplot(x_2, y_2, mammals)\n",
    "z_1.set_axis_labels(\"Brain Weight\", \"Awake\")\n",
    "\n",
    "z_2 = sns.lmplot(x_2, y_2, log_mammals)\n",
    "z_2.set_axis_labels(\"Brain Weight\", \"Log Awake\")"
   ]
  },
  {
   "cell_type": "markdown",
   "metadata": {},
   "source": [
    "### Decision for Check 1. Distributrion \n",
    "Answer: There is a strong correlation between the body weight of a mammal and it's brain weight."
   ]
  },
  {
   "cell_type": "markdown",
   "metadata": {},
   "source": [
    "##### We decided above that we will need a log transformation. Let's take a look at both models to compare"
   ]
  },
  {
   "cell_type": "code",
   "execution_count": 12,
   "metadata": {
    "collapsed": false
   },
   "outputs": [
    {
     "data": {
      "text/html": [
       "<table class=\"simpletable\">\n",
       "<caption>OLS Regression Results</caption>\n",
       "<tr>\n",
       "  <th>Dep. Variable:</th>            <td>y</td>        <th>  R-squared:         </th> <td>   0.872</td>\n",
       "</tr>\n",
       "<tr>\n",
       "  <th>Model:</th>                   <td>OLS</td>       <th>  Adj. R-squared:    </th> <td>   0.870</td>\n",
       "</tr>\n",
       "<tr>\n",
       "  <th>Method:</th>             <td>Least Squares</td>  <th>  F-statistic:       </th> <td>   367.7</td>\n",
       "</tr>\n",
       "<tr>\n",
       "  <th>Date:</th>             <td>Thu, 31 Aug 2017</td> <th>  Prob (F-statistic):</th> <td>9.16e-26</td>\n",
       "</tr>\n",
       "<tr>\n",
       "  <th>Time:</th>                 <td>17:23:40</td>     <th>  Log-Likelihood:    </th> <td> -20.070</td>\n",
       "</tr>\n",
       "<tr>\n",
       "  <th>No. Observations:</th>      <td>    56</td>      <th>  AIC:               </th> <td>   44.14</td>\n",
       "</tr>\n",
       "<tr>\n",
       "  <th>Df Residuals:</th>          <td>    54</td>      <th>  BIC:               </th> <td>   48.19</td>\n",
       "</tr>\n",
       "<tr>\n",
       "  <th>Df Model:</th>              <td>     1</td>      <th>                     </th>     <td> </td>   \n",
       "</tr>\n",
       "<tr>\n",
       "  <th>Covariance Type:</th>      <td>nonrobust</td>    <th>                     </th>     <td> </td>   \n",
       "</tr>\n",
       "</table>\n",
       "<table class=\"simpletable\">\n",
       "<tr>\n",
       "      <td></td>         <th>coef</th>     <th>std err</th>      <th>t</th>      <th>P>|t|</th> <th>[95.0% Conf. Int.]</th> \n",
       "</tr>\n",
       "<tr>\n",
       "  <th>Intercept</th> <td>    0.0859</td> <td>    0.048</td> <td>    1.782</td> <td> 0.080</td> <td>   -0.011     0.183</td>\n",
       "</tr>\n",
       "<tr>\n",
       "  <th>X</th>         <td>    0.0010</td> <td> 5.03e-05</td> <td>   19.176</td> <td> 0.000</td> <td>    0.001     0.001</td>\n",
       "</tr>\n",
       "</table>\n",
       "<table class=\"simpletable\">\n",
       "<tr>\n",
       "  <th>Omnibus:</th>       <td>85.068</td> <th>  Durbin-Watson:     </th> <td>   2.376</td> \n",
       "</tr>\n",
       "<tr>\n",
       "  <th>Prob(Omnibus):</th> <td> 0.000</td> <th>  Jarque-Bera (JB):  </th> <td>1330.630</td> \n",
       "</tr>\n",
       "<tr>\n",
       "  <th>Skew:</th>          <td> 4.258</td> <th>  Prob(JB):          </th> <td>1.14e-289</td>\n",
       "</tr>\n",
       "<tr>\n",
       "  <th>Kurtosis:</th>      <td>25.311</td> <th>  Cond. No.          </th> <td>    981.</td> \n",
       "</tr>\n",
       "</table>"
      ],
      "text/plain": [
       "<class 'statsmodels.iolib.summary.Summary'>\n",
       "\"\"\"\n",
       "                            OLS Regression Results                            \n",
       "==============================================================================\n",
       "Dep. Variable:                      y   R-squared:                       0.872\n",
       "Model:                            OLS   Adj. R-squared:                  0.870\n",
       "Method:                 Least Squares   F-statistic:                     367.7\n",
       "Date:                Thu, 31 Aug 2017   Prob (F-statistic):           9.16e-26\n",
       "Time:                        17:23:40   Log-Likelihood:                -20.070\n",
       "No. Observations:                  56   AIC:                             44.14\n",
       "Df Residuals:                      54   BIC:                             48.19\n",
       "Df Model:                           1                                         \n",
       "Covariance Type:            nonrobust                                         \n",
       "==============================================================================\n",
       "                 coef    std err          t      P>|t|      [95.0% Conf. Int.]\n",
       "------------------------------------------------------------------------------\n",
       "Intercept      0.0859      0.048      1.782      0.080        -0.011     0.183\n",
       "X              0.0010   5.03e-05     19.176      0.000         0.001     0.001\n",
       "==============================================================================\n",
       "Omnibus:                       85.068   Durbin-Watson:                   2.376\n",
       "Prob(Omnibus):                  0.000   Jarque-Bera (JB):             1330.630\n",
       "Skew:                           4.258   Prob(JB):                    1.14e-289\n",
       "Kurtosis:                      25.311   Cond. No.                         981.\n",
       "==============================================================================\n",
       "\n",
       "Warnings:\n",
       "[1] Standard Errors assume that the covariance matrix of the errors is correctly specified.\n",
       "\"\"\""
      ]
     },
     "execution_count": 12,
     "metadata": {},
     "output_type": "execute_result"
    }
   ],
   "source": [
    "# non-transformed\n",
    "\n",
    "X = mammals[['bodywt']]\n",
    "y = mammals['brainwt']\n",
    "\n",
    "lm = smf.ols(formula='y ~ X', data=mammals).fit()\n",
    "\n",
    "lm.summary()\n",
    "\n"
   ]
  },
  {
   "cell_type": "markdown",
   "metadata": {},
   "source": [
    "Our output tells us that:\n",
    "\n",
    "* The relationship between bodywt and brainwt isn't random (p value approaching 0)  \n",
    "* With this current model, brainwt is roughly bodywt * 0.0010\n",
    "* The model explains, roughly, 87% of the variance of the dataset "
   ]
  },
  {
   "cell_type": "markdown",
   "metadata": {},
   "source": [
    "### Repeated with the log transformation"
   ]
  },
  {
   "cell_type": "code",
   "execution_count": 15,
   "metadata": {
    "collapsed": false
   },
   "outputs": [
    {
     "data": {
      "text/html": [
       "<table class=\"simpletable\">\n",
       "<caption>OLS Regression Results</caption>\n",
       "<tr>\n",
       "  <th>Dep. Variable:</th>            <td>y</td>        <th>  R-squared:         </th> <td>   0.932</td>\n",
       "</tr>\n",
       "<tr>\n",
       "  <th>Model:</th>                   <td>OLS</td>       <th>  Adj. R-squared:    </th> <td>   0.931</td>\n",
       "</tr>\n",
       "<tr>\n",
       "  <th>Method:</th>             <td>Least Squares</td>  <th>  F-statistic:       </th> <td>   738.4</td>\n",
       "</tr>\n",
       "<tr>\n",
       "  <th>Date:</th>             <td>Thu, 31 Aug 2017</td> <th>  Prob (F-statistic):</th> <td>3.56e-33</td>\n",
       "</tr>\n",
       "<tr>\n",
       "  <th>Time:</th>                 <td>17:24:36</td>     <th>  Log-Likelihood:    </th> <td> -8.9817</td>\n",
       "</tr>\n",
       "<tr>\n",
       "  <th>No. Observations:</th>      <td>    56</td>      <th>  AIC:               </th> <td>   21.96</td>\n",
       "</tr>\n",
       "<tr>\n",
       "  <th>Df Residuals:</th>          <td>    54</td>      <th>  BIC:               </th> <td>   26.01</td>\n",
       "</tr>\n",
       "<tr>\n",
       "  <th>Df Model:</th>              <td>     1</td>      <th>                     </th>     <td> </td>   \n",
       "</tr>\n",
       "<tr>\n",
       "  <th>Covariance Type:</th>      <td>nonrobust</td>    <th>                     </th>     <td> </td>   \n",
       "</tr>\n",
       "</table>\n",
       "<table class=\"simpletable\">\n",
       "<tr>\n",
       "      <td></td>         <th>coef</th>     <th>std err</th>      <th>t</th>      <th>P>|t|</th> <th>[95.0% Conf. Int.]</th> \n",
       "</tr>\n",
       "<tr>\n",
       "  <th>Intercept</th> <td>   -2.0739</td> <td>    0.040</td> <td>  -51.463</td> <td> 0.000</td> <td>   -2.155    -1.993</td>\n",
       "</tr>\n",
       "<tr>\n",
       "  <th>X</th>         <td>    0.7652</td> <td>    0.028</td> <td>   27.173</td> <td> 0.000</td> <td>    0.709     0.822</td>\n",
       "</tr>\n",
       "</table>\n",
       "<table class=\"simpletable\">\n",
       "<tr>\n",
       "  <th>Omnibus:</th>       <td> 4.775</td> <th>  Durbin-Watson:     </th> <td>   2.240</td>\n",
       "</tr>\n",
       "<tr>\n",
       "  <th>Prob(Omnibus):</th> <td> 0.092</td> <th>  Jarque-Bera (JB):  </th> <td>   4.060</td>\n",
       "</tr>\n",
       "<tr>\n",
       "  <th>Skew:</th>          <td> 0.653</td> <th>  Prob(JB):          </th> <td>   0.131</td>\n",
       "</tr>\n",
       "<tr>\n",
       "  <th>Kurtosis:</th>      <td> 3.193</td> <th>  Cond. No.          </th> <td>    1.59</td>\n",
       "</tr>\n",
       "</table>"
      ],
      "text/plain": [
       "<class 'statsmodels.iolib.summary.Summary'>\n",
       "\"\"\"\n",
       "                            OLS Regression Results                            \n",
       "==============================================================================\n",
       "Dep. Variable:                      y   R-squared:                       0.932\n",
       "Model:                            OLS   Adj. R-squared:                  0.931\n",
       "Method:                 Least Squares   F-statistic:                     738.4\n",
       "Date:                Thu, 31 Aug 2017   Prob (F-statistic):           3.56e-33\n",
       "Time:                        17:24:36   Log-Likelihood:                -8.9817\n",
       "No. Observations:                  56   AIC:                             21.96\n",
       "Df Residuals:                      54   BIC:                             26.01\n",
       "Df Model:                           1                                         \n",
       "Covariance Type:            nonrobust                                         \n",
       "==============================================================================\n",
       "                 coef    std err          t      P>|t|      [95.0% Conf. Int.]\n",
       "------------------------------------------------------------------------------\n",
       "Intercept     -2.0739      0.040    -51.463      0.000        -2.155    -1.993\n",
       "X              0.7652      0.028     27.173      0.000         0.709     0.822\n",
       "==============================================================================\n",
       "Omnibus:                        4.775   Durbin-Watson:                   2.240\n",
       "Prob(Omnibus):                  0.092   Jarque-Bera (JB):                4.060\n",
       "Skew:                           0.653   Prob(JB):                        0.131\n",
       "Kurtosis:                       3.193   Cond. No.                         1.59\n",
       "==============================================================================\n",
       "\n",
       "Warnings:\n",
       "[1] Standard Errors assume that the covariance matrix of the errors is correctly specified.\n",
       "\"\"\""
      ]
     },
     "execution_count": 15,
     "metadata": {},
     "output_type": "execute_result"
    }
   ],
   "source": [
    "# Log transformed\n",
    "\n",
    "X = log_mammals[['bodywt']]\n",
    "y = log_mammals['brainwt']\n",
    "\n",
    "lm = smf.ols(formula='y ~ X', data=mammals).fit()\n",
    "\n",
    "lm.summary()\n",
    "\n"
   ]
  },
  {
   "cell_type": "markdown",
   "metadata": {},
   "source": [
    "### What does our output tell us?"
   ]
  },
  {
   "cell_type": "markdown",
   "metadata": {},
   "source": [
    "Our output tells us that: \n",
    "The relationship between brain weight and body weight is definitely not random.\n",
    "There is a strong relationship between the two variables (R-squared value of 0.932).\n",
    "The brain weight is about 0.7652 * body weight.\n",
    "\n",
    "\n"
   ]
  },
  {
   "cell_type": "code",
   "execution_count": 16,
   "metadata": {
    "collapsed": false
   },
   "outputs": [
    {
     "data": {
      "text/html": [
       "<div>\n",
       "<table border=\"1\" class=\"dataframe\">\n",
       "  <thead>\n",
       "    <tr style=\"text-align: right;\">\n",
       "      <th></th>\n",
       "      <th>X</th>\n",
       "    </tr>\n",
       "  </thead>\n",
       "  <tbody>\n",
       "    <tr>\n",
       "      <th>0</th>\n",
       "      <td>500</td>\n",
       "    </tr>\n",
       "  </tbody>\n",
       "</table>\n",
       "</div>"
      ],
      "text/plain": [
       "     X\n",
       "0  500"
      ]
     },
     "execution_count": 16,
     "metadata": {},
     "output_type": "execute_result"
    }
   ],
   "source": [
    "#Creating a DataFrame since the Statsmodels formula interface expects it\n",
    "X_new = pd.DataFrame({'X': [500]})\n",
    "X_new.head()"
   ]
  },
  {
   "cell_type": "markdown",
   "metadata": {},
   "source": [
    "Predict X_new"
   ]
  },
  {
   "cell_type": "code",
   "execution_count": 17,
   "metadata": {
    "collapsed": false
   },
   "outputs": [
    {
     "data": {
      "text/plain": [
       "array([ 380.50695261])"
      ]
     },
     "execution_count": 17,
     "metadata": {},
     "output_type": "execute_result"
    }
   ],
   "source": [
    "#prediction\n",
    "lm.predict(X_new)"
   ]
  },
  {
   "cell_type": "markdown",
   "metadata": {},
   "source": [
    "# Part 2: Multiple Regression Analysis using citi bike data "
   ]
  },
  {
   "cell_type": "markdown",
   "metadata": {},
   "source": [
    "In the previous example, one variable explained the variance of another; however, more often than not, we will need multiple variables. \n",
    "\n",
    "For example, a house's price may be best measured by square feet, but a lot of other variables play a vital role: bedrooms, bathrooms, location, appliances, etc. \n",
    "\n",
    "For a linear regression, we want these variables to be largely independent of each other, but all of them should help explain the y variable.\n",
    "\n"
   ]
  },
  {
   "cell_type": "code",
   "execution_count": 18,
   "metadata": {
    "collapsed": false
   },
   "outputs": [
    {
     "data": {
      "text/html": [
       "<div>\n",
       "<table border=\"1\" class=\"dataframe\">\n",
       "  <thead>\n",
       "    <tr style=\"text-align: right;\">\n",
       "      <th></th>\n",
       "      <th>instant</th>\n",
       "      <th>dteday</th>\n",
       "      <th>season</th>\n",
       "      <th>yr</th>\n",
       "      <th>mnth</th>\n",
       "      <th>hr</th>\n",
       "      <th>holiday</th>\n",
       "      <th>weekday</th>\n",
       "      <th>workingday</th>\n",
       "      <th>weathersit</th>\n",
       "      <th>temp</th>\n",
       "      <th>atemp</th>\n",
       "      <th>hum</th>\n",
       "      <th>windspeed</th>\n",
       "      <th>casual</th>\n",
       "      <th>registered</th>\n",
       "      <th>cnt</th>\n",
       "    </tr>\n",
       "  </thead>\n",
       "  <tbody>\n",
       "    <tr>\n",
       "      <th>0</th>\n",
       "      <td>1</td>\n",
       "      <td>2011-01-01</td>\n",
       "      <td>1</td>\n",
       "      <td>0</td>\n",
       "      <td>1</td>\n",
       "      <td>0</td>\n",
       "      <td>0</td>\n",
       "      <td>6</td>\n",
       "      <td>0</td>\n",
       "      <td>1</td>\n",
       "      <td>0.24</td>\n",
       "      <td>0.2879</td>\n",
       "      <td>0.81</td>\n",
       "      <td>0.0</td>\n",
       "      <td>3</td>\n",
       "      <td>13</td>\n",
       "      <td>16</td>\n",
       "    </tr>\n",
       "    <tr>\n",
       "      <th>1</th>\n",
       "      <td>2</td>\n",
       "      <td>2011-01-01</td>\n",
       "      <td>1</td>\n",
       "      <td>0</td>\n",
       "      <td>1</td>\n",
       "      <td>1</td>\n",
       "      <td>0</td>\n",
       "      <td>6</td>\n",
       "      <td>0</td>\n",
       "      <td>1</td>\n",
       "      <td>0.22</td>\n",
       "      <td>0.2727</td>\n",
       "      <td>0.80</td>\n",
       "      <td>0.0</td>\n",
       "      <td>8</td>\n",
       "      <td>32</td>\n",
       "      <td>40</td>\n",
       "    </tr>\n",
       "    <tr>\n",
       "      <th>2</th>\n",
       "      <td>3</td>\n",
       "      <td>2011-01-01</td>\n",
       "      <td>1</td>\n",
       "      <td>0</td>\n",
       "      <td>1</td>\n",
       "      <td>2</td>\n",
       "      <td>0</td>\n",
       "      <td>6</td>\n",
       "      <td>0</td>\n",
       "      <td>1</td>\n",
       "      <td>0.22</td>\n",
       "      <td>0.2727</td>\n",
       "      <td>0.80</td>\n",
       "      <td>0.0</td>\n",
       "      <td>5</td>\n",
       "      <td>27</td>\n",
       "      <td>32</td>\n",
       "    </tr>\n",
       "    <tr>\n",
       "      <th>3</th>\n",
       "      <td>4</td>\n",
       "      <td>2011-01-01</td>\n",
       "      <td>1</td>\n",
       "      <td>0</td>\n",
       "      <td>1</td>\n",
       "      <td>3</td>\n",
       "      <td>0</td>\n",
       "      <td>6</td>\n",
       "      <td>0</td>\n",
       "      <td>1</td>\n",
       "      <td>0.24</td>\n",
       "      <td>0.2879</td>\n",
       "      <td>0.75</td>\n",
       "      <td>0.0</td>\n",
       "      <td>3</td>\n",
       "      <td>10</td>\n",
       "      <td>13</td>\n",
       "    </tr>\n",
       "    <tr>\n",
       "      <th>4</th>\n",
       "      <td>5</td>\n",
       "      <td>2011-01-01</td>\n",
       "      <td>1</td>\n",
       "      <td>0</td>\n",
       "      <td>1</td>\n",
       "      <td>4</td>\n",
       "      <td>0</td>\n",
       "      <td>6</td>\n",
       "      <td>0</td>\n",
       "      <td>1</td>\n",
       "      <td>0.24</td>\n",
       "      <td>0.2879</td>\n",
       "      <td>0.75</td>\n",
       "      <td>0.0</td>\n",
       "      <td>0</td>\n",
       "      <td>1</td>\n",
       "      <td>1</td>\n",
       "    </tr>\n",
       "  </tbody>\n",
       "</table>\n",
       "</div>"
      ],
      "text/plain": [
       "   instant      dteday  season  yr  mnth  hr  holiday  weekday  workingday  \\\n",
       "0        1  2011-01-01       1   0     1   0        0        6           0   \n",
       "1        2  2011-01-01       1   0     1   1        0        6           0   \n",
       "2        3  2011-01-01       1   0     1   2        0        6           0   \n",
       "3        4  2011-01-01       1   0     1   3        0        6           0   \n",
       "4        5  2011-01-01       1   0     1   4        0        6           0   \n",
       "\n",
       "   weathersit  temp   atemp   hum  windspeed  casual  registered  cnt  \n",
       "0           1  0.24  0.2879  0.81        0.0       3          13   16  \n",
       "1           1  0.22  0.2727  0.80        0.0       8          32   40  \n",
       "2           1  0.22  0.2727  0.80        0.0       5          27   32  \n",
       "3           1  0.24  0.2879  0.75        0.0       3          10   13  \n",
       "4           1  0.24  0.2879  0.75        0.0       0           1    1  "
      ]
     },
     "execution_count": 18,
     "metadata": {},
     "output_type": "execute_result"
    }
   ],
   "source": [
    "wd = '../../assets/dataset/bikeshare/'\n",
    "bike_data = pd.read_csv(wd+'bikeshare.csv')\n",
    "bike_data.head()"
   ]
  },
  {
   "cell_type": "markdown",
   "metadata": {},
   "source": [
    "# Check 2. Multicollinearity\n",
    "What is Multicollinearity? \n",
    "Multicollinearity is when there is a relationship (positive or negative) between the dependent variable and its independent variables.\n",
    "\n",
    "With the bike share data, let's compare three data points: actual temperature, \"feel\" temperature, and guest ridership. \n",
    "\n",
    "Our data is already normalized between 0 and 1, so we'll start off with the correlations and modelling."
   ]
  },
  {
   "cell_type": "markdown",
   "metadata": {},
   "source": [
    "# Correlation Heatmap\n",
    "We create a correlation heat map comparing 'temp', 'atemp', 'casual'"
   ]
  },
  {
   "cell_type": "code",
   "execution_count": 19,
   "metadata": {
    "collapsed": false
   },
   "outputs": [
    {
     "name": "stdout",
     "output_type": "stream",
     "text": [
      "            temp     atemp    casual\n",
      "temp    1.000000  0.987672  0.459616\n",
      "atemp   0.987672  1.000000  0.454080\n",
      "casual  0.459616  0.454080  1.000000\n",
      "Axes(0.125,0.125;0.62x0.755)\n"
     ]
    },
    {
     "data": {
      "image/png": "[encoded data removed]",
      "text/plain": [
       "<matplotlib.figure.Figure at 0x11e7eedd0>"
      ]
     },
     "metadata": {},
     "output_type": "display_data"
    }
   ],
   "source": [
    "#cmap...\n",
    "cmap = sns.diverging_palette(215,5, as_cmap = True)\n",
    "dat = bike_data[[\"temp\", \"atemp\", \"casual\"]].corr()\n",
    "print dat\n",
    "print sns.heatmap(dat, cmap = cmap)\n"
   ]
  },
  {
   "cell_type": "markdown",
   "metadata": {},
   "source": [
    "# Question: What did we find? \n",
    "There is a high correlation between the variables \"temp\" and \"atemp,\" but not so much between both \"temp\",\"atemp\", versus \"casual.\""
   ]
  },
  {
   "cell_type": "markdown",
   "metadata": {},
   "source": [
    "#### The correlation matrix explains: \n",
    "The relationship between variables of a dataset. If two variables have a coefficient that is close to zero, then they have no relationship. If the correlation of two variables is close to negative 1 or 1, then the variables have a strong negative and positive relation respectively (negative 1 to 1 relationship or 1 to 1 relationship).\n"
   ]
  },
  {
   "cell_type": "code",
   "execution_count": 24,
   "metadata": {
    "collapsed": true
   },
   "outputs": [],
   "source": [
    "from sklearn import feature_selection, linear_model\n",
    "\n",
    "def get_linear_model_metrics(X, y, algo):\n",
    "    # get the pvalue of X given y. Ignore f-stat for now.\n",
    "    pvals = feature_selection.f_regression(X, y)[1]\n",
    "    # start with an empty linear regression object\n",
    "    # .fit() runs the linear regression function on X and y\n",
    "    algo.fit(X,y)\n",
    "    residuals = (y-algo.predict(X)).values\n",
    "\n",
    "    # print the necessary values\n",
    "    print 'P Values:', pvals\n",
    "    print 'Coefficients:', algo.coef_\n",
    "    print 'y-intercept:', algo.intercept_\n",
    "    print 'R-Squared:', algo.score(X,y)\n",
    "    plt.figure()\n",
    "    plt.hist(residuals, bins=np.ceil(np.sqrt(len(y))))\n",
    "    # keep the model\n",
    "    return algo\n",
    "\n"
   ]
  },
  {
   "cell_type": "code",
   "execution_count": 25,
   "metadata": {
    "collapsed": false
   },
   "outputs": [
    {
     "name": "stdout",
     "output_type": "stream",
     "text": [
      "temp\n",
      "P Values: [ 0.]\n",
      "Coefficients: [ 117.68705779]\n",
      "y-intercept: -22.812739188\n",
      "R-Squared: 0.21124654163\n"
     ]
    },
    {
     "name": "stderr",
     "output_type": "stream",
     "text": [
      "/Users/Keshav/anaconda/lib/python2.7/site-packages/numpy/lib/function_base.py:564: VisibleDeprecationWarning: using a non-integer number instead of an integer will result in an error in the future\n",
      "  n = np.zeros(bins, ntype)\n",
      "/Users/Keshav/anaconda/lib/python2.7/site-packages/numpy/lib/function_base.py:611: VisibleDeprecationWarning: using a non-integer number instead of an integer will result in an error in the future\n",
      "  n += np.bincount(indices, weights=tmp_w, minlength=bins).astype(ntype)\n"
     ]
    },
    {
     "name": "stdout",
     "output_type": "stream",
     "text": [
      "\n",
      "atemp\n",
      "P Values: [ 0.]\n",
      "Coefficients: [ 130.27875081]\n",
      "y-intercept: -26.3071675481\n",
      "R-Squared: 0.206188705733\n",
      "\n",
      "temp, atemp\n",
      "P Values: [ 0.  0.]\n",
      "Coefficients: [ 116.34021588    1.52795677]\n",
      "y-intercept: -22.8703398286\n",
      "R-Squared: 0.21124723661\n",
      "\n"
     ]
    },
    {
     "data": {
      "image/png": "[encoded data removed]",
      "text/plain": [
       "<matplotlib.figure.Figure at 0x11e8b1210>"
      ]
     },
     "metadata": {},
     "output_type": "display_data"
    },
    {
     "data": {
      "image/png": "[encoded data removed]",
      "text/plain": [
       "<matplotlib.figure.Figure at 0x12133d790>"
      ]
     },
     "metadata": {},
     "output_type": "display_data"
    },
    {
     "data": {
      "image/png": "[encoded data removed]",
      "text/plain": [
       "<matplotlib.figure.Figure at 0x121937f10>"
      ]
     },
     "metadata": {},
     "output_type": "display_data"
    }
   ],
   "source": [
    "y = bike_data['casual']\n",
    "x_sets = (\n",
    "    ['temp'],\n",
    "    ['atemp'],\n",
    "    ['temp', 'atemp'],\n",
    ")\n",
    "\n",
    "for x in x_sets:\n",
    "    print ', '.join(x)\n",
    "    get_linear_model_metrics(bike_data[x], y, linear_model.LinearRegression())\n",
    "    print"
   ]
  },
  {
   "cell_type": "code",
   "execution_count": 26,
   "metadata": {
    "collapsed": false
   },
   "outputs": [
    {
     "name": "stdout",
     "output_type": "stream",
     "text": [
      "P Values: [ 0.  0.]\n",
      "Coefficients: [ 112.02457031  -80.87301833]\n",
      "y-intercept: 30.7273338581\n",
      "R-Squared: 0.310901196913\n"
     ]
    },
    {
     "data": {
      "text/plain": [
       "LinearRegression(copy_X=True, fit_intercept=True, n_jobs=1, normalize=False)"
      ]
     },
     "execution_count": 26,
     "metadata": {},
     "output_type": "execute_result"
    },
    {
     "data": {
      "image/png": "[encoded data removed]",
      "text/plain": [
       "<matplotlib.figure.Figure at 0x121a2be50>"
      ]
     },
     "metadata": {},
     "output_type": "display_data"
    }
   ],
   "source": [
    "y = bike_data['casual']\n",
    "x = bike_data[['temp', 'hum']]\n",
    "get_linear_model_metrics(x, y, linear_model.LinearRegression())\n",
    "\n"
   ]
  },
  {
   "cell_type": "code",
   "execution_count": 27,
   "metadata": {
    "collapsed": false
   },
   "outputs": [
    {
     "name": "stdout",
     "output_type": "stream",
     "text": [
      "P Values: [  3.75616929e-73   3.43170021e-22   1.57718666e-55   2.46181288e-01]\n",
      "Coefficients: [  2.34550988e+13   2.34550988e+13   2.34550988e+13   2.34550988e+13]\n",
      "y-intercept: -2.34550987861e+13\n",
      "R-Squared: 0.0233354007662\n",
      "\n",
      "P Values: [  3.75616929e-73   3.43170021e-22   1.57718666e-55]\n",
      "Coefficients: [ 37.87876398  26.92862383  13.38900634]\n",
      "y-intercept: 2.66666666663\n",
      "R-Squared: 0.0233906873841\n"
     ]
    },
    {
     "data": {
      "text/plain": [
       "LinearRegression(copy_X=True, fit_intercept=True, n_jobs=1, normalize=False)"
      ]
     },
     "execution_count": 27,
     "metadata": {},
     "output_type": "execute_result"
    },
    {
     "data": {
      "image/png": "[encoded data removed]",
      "text/plain": [
       "<matplotlib.figure.Figure at 0x121aa5f90>"
      ]
     },
     "metadata": {},
     "output_type": "display_data"
    },
    {
     "data": {
      "image/png": "[encoded data removed]",
      "text/plain": [
       "<matplotlib.figure.Figure at 0x1224e2050>"
      ]
     },
     "metadata": {},
     "output_type": "display_data"
    }
   ],
   "source": [
    "lm = linear_model.LinearRegression()\n",
    "weather = pd.get_dummies(bike_data.weathersit)\n",
    "\n",
    "get_linear_model_metrics(weather[[1, 2, 3, 4]], y, lm)\n",
    "print\n",
    "# Set one weather as the reference (drop it), weather situation  = 4\n",
    "get_linear_model_metrics(weather[[1, 2, 3]], y, lm)"
   ]
  },
  {
   "cell_type": "code",
   "execution_count": 29,
   "metadata": {
    "collapsed": false
   },
   "outputs": [
    {
     "data": {
      "text/html": [
       "<table class=\"simpletable\">\n",
       "<caption>OLS Regression Results</caption>\n",
       "<tr>\n",
       "  <th>Dep. Variable:</th>            <td>y</td>        <th>  R-squared:         </th> <td>   0.023</td> \n",
       "</tr>\n",
       "<tr>\n",
       "  <th>Model:</th>                   <td>OLS</td>       <th>  Adj. R-squared:    </th> <td>   0.023</td> \n",
       "</tr>\n",
       "<tr>\n",
       "  <th>Method:</th>             <td>Least Squares</td>  <th>  F-statistic:       </th> <td>   104.0</td> \n",
       "</tr>\n",
       "<tr>\n",
       "  <th>Date:</th>             <td>Thu, 31 Aug 2017</td> <th>  Prob (F-statistic):</th> <td>1.13e-87</td> \n",
       "</tr>\n",
       "<tr>\n",
       "  <th>Time:</th>                 <td>17:47:30</td>     <th>  Log-Likelihood:    </th> <td> -92197.</td> \n",
       "</tr>\n",
       "<tr>\n",
       "  <th>No. Observations:</th>      <td> 17379</td>      <th>  AIC:               </th> <td>1.844e+05</td>\n",
       "</tr>\n",
       "<tr>\n",
       "  <th>Df Residuals:</th>          <td> 17374</td>      <th>  BIC:               </th> <td>1.844e+05</td>\n",
       "</tr>\n",
       "<tr>\n",
       "  <th>Df Model:</th>              <td>     4</td>      <th>                     </th>     <td> </td>    \n",
       "</tr>\n",
       "<tr>\n",
       "  <th>Covariance Type:</th>      <td>nonrobust</td>    <th>                     </th>     <td> </td>    \n",
       "</tr>\n",
       "</table>\n",
       "<table class=\"simpletable\">\n",
       "<tr>\n",
       "              <td></td>                <th>coef</th>     <th>std err</th>      <th>t</th>      <th>P>|t|</th> <th>[95.0% Conf. Int.]</th> \n",
       "</tr>\n",
       "<tr>\n",
       "  <th>Intercept</th>                <td>-3.319e+12</td> <td> 5.17e+13</td> <td>   -0.064</td> <td> 0.949</td> <td>-1.05e+14  9.79e+13</td>\n",
       "</tr>\n",
       "<tr>\n",
       "  <th>weather[[1, 2, 3, 4]][0]</th> <td> 3.319e+12</td> <td> 5.17e+13</td> <td>    0.064</td> <td> 0.949</td> <td>-9.79e+13  1.05e+14</td>\n",
       "</tr>\n",
       "<tr>\n",
       "  <th>weather[[1, 2, 3, 4]][1]</th> <td> 3.319e+12</td> <td> 5.17e+13</td> <td>    0.064</td> <td> 0.949</td> <td>-9.79e+13  1.05e+14</td>\n",
       "</tr>\n",
       "<tr>\n",
       "  <th>weather[[1, 2, 3, 4]][2]</th> <td> 3.319e+12</td> <td> 5.17e+13</td> <td>    0.064</td> <td> 0.949</td> <td>-9.79e+13  1.05e+14</td>\n",
       "</tr>\n",
       "<tr>\n",
       "  <th>weather[[1, 2, 3, 4]][3]</th> <td> 3.319e+12</td> <td> 5.17e+13</td> <td>    0.064</td> <td> 0.949</td> <td>-9.79e+13  1.05e+14</td>\n",
       "</tr>\n",
       "</table>\n",
       "<table class=\"simpletable\">\n",
       "<tr>\n",
       "  <th>Omnibus:</th>       <td>8995.399</td> <th>  Durbin-Watson:     </th> <td>   0.137</td> \n",
       "</tr>\n",
       "<tr>\n",
       "  <th>Prob(Omnibus):</th>  <td> 0.000</td>  <th>  Jarque-Bera (JB):  </th> <td>58868.810</td>\n",
       "</tr>\n",
       "<tr>\n",
       "  <th>Skew:</th>           <td> 2.467</td>  <th>  Prob(JB):          </th> <td>    0.00</td> \n",
       "</tr>\n",
       "<tr>\n",
       "  <th>Kurtosis:</th>       <td>10.547</td>  <th>  Cond. No.          </th> <td>3.88e+14</td> \n",
       "</tr>\n",
       "</table>"
      ],
      "text/plain": [
       "<class 'statsmodels.iolib.summary.Summary'>\n",
       "\"\"\"\n",
       "                            OLS Regression Results                            \n",
       "==============================================================================\n",
       "Dep. Variable:                      y   R-squared:                       0.023\n",
       "Model:                            OLS   Adj. R-squared:                  0.023\n",
       "Method:                 Least Squares   F-statistic:                     104.0\n",
       "Date:                Thu, 31 Aug 2017   Prob (F-statistic):           1.13e-87\n",
       "Time:                        17:47:30   Log-Likelihood:                -92197.\n",
       "No. Observations:               17379   AIC:                         1.844e+05\n",
       "Df Residuals:                   17374   BIC:                         1.844e+05\n",
       "Df Model:                           4                                         \n",
       "Covariance Type:            nonrobust                                         \n",
       "============================================================================================\n",
       "                               coef    std err          t      P>|t|      [95.0% Conf. Int.]\n",
       "--------------------------------------------------------------------------------------------\n",
       "Intercept                -3.319e+12   5.17e+13     -0.064      0.949     -1.05e+14  9.79e+13\n",
       "weather[[1, 2, 3, 4]][0]  3.319e+12   5.17e+13      0.064      0.949     -9.79e+13  1.05e+14\n",
       "weather[[1, 2, 3, 4]][1]  3.319e+12   5.17e+13      0.064      0.949     -9.79e+13  1.05e+14\n",
       "weather[[1, 2, 3, 4]][2]  3.319e+12   5.17e+13      0.064      0.949     -9.79e+13  1.05e+14\n",
       "weather[[1, 2, 3, 4]][3]  3.319e+12   5.17e+13      0.064      0.949     -9.79e+13  1.05e+14\n",
       "==============================================================================\n",
       "Omnibus:                     8995.399   Durbin-Watson:                   0.137\n",
       "Prob(Omnibus):                  0.000   Jarque-Bera (JB):            58868.810\n",
       "Skew:                           2.467   Prob(JB):                         0.00\n",
       "Kurtosis:                      10.547   Cond. No.                     3.88e+14\n",
       "==============================================================================\n",
       "\n",
       "Warnings:\n",
       "[1] Standard Errors assume that the covariance matrix of the errors is correctly specified.\n",
       "[2] The smallest eigenvalue is 1.78e-25. This might indicate that there are\n",
       "strong multicollinearity problems or that the design matrix is singular.\n",
       "\"\"\""
      ]
     },
     "execution_count": 29,
     "metadata": {},
     "output_type": "execute_result"
    }
   ],
   "source": [
    "# all dummies in the model\n",
    "lm_stats = smf.ols(formula='y ~ weather[[1, 2, 3, 4]]', data=bike_data).fit()\n",
    "lm_stats.summary()"
   ]
  },
  {
   "cell_type": "markdown",
   "metadata": {},
   "source": [
    "## Practice: Multicollinearity with dummy variables \n",
    "\n"
   ]
  },
  {
   "cell_type": "markdown",
   "metadata": {},
   "source": [
    "There can be a similar effect from a feature set that is a singular matrix, which is when there is a clear relationship in the matrix (for example, the sum of all rows = 1).\n",
    "\n",
    "### Showing the effect of dummy variables.\n",
    "#### What happens to the coefficients when you include all weather situations instead of just including all except one?\n",
    "A proper measurement of the variables' coefficient value cannot be obtained since there is no reference variable."
   ]
  },
  {
   "cell_type": "code",
   "execution_count": 31,
   "metadata": {
    "collapsed": false
   },
   "outputs": [
    {
     "name": "stdout",
     "output_type": "stream",
     "text": [
      "Index([u'instant', u'dteday', u'season', u'yr', u'mnth', u'hr', u'holiday',\n",
      "       u'weekday', u'workingday', u'weathersit', u'temp', u'atemp', u'hum',\n",
      "       u'windspeed', u'casual', u'registered', u'cnt', u'weather_1',\n",
      "       u'weather_2', u'weather_3', u'weather_4'],\n",
      "      dtype='object')\n",
      "               temp  weather_1  weather_2  weather_3\n",
      "temp       1.000000   0.101044  -0.069657  -0.062406\n",
      "weather_1  0.101044   1.000000  -0.822961  -0.412414\n",
      "weather_2 -0.069657  -0.822961   1.000000  -0.177417\n",
      "weather_3 -0.062406  -0.412414  -0.177417   1.000000\n",
      "Axes(0.125,0.125;0.62x0.755)\n"
     ]
    },
    {
     "data": {
      "image/png": "[encoded data removed]",
      "text/plain": [
       "<matplotlib.figure.Figure at 0x1221b2750>"
      ]
     },
     "metadata": {},
     "output_type": "display_data"
    }
   ],
   "source": [
    "#Dummies example: \n",
    "weather = pd.get_dummies(bike_data.weathersit)\n",
    "#creating new names for the new dummy variables\n",
    "weather.columns = ['weather_' + str(i) for i in weather.columns]\n",
    "#joining those new variables back into the larger dataset\n",
    "bikemodel_data = bike_data.join(weather)\n",
    "print bikemodel_data.columns\n",
    "\n",
    "#Select columns to keep. Don't forget to set a reference category for your dummies (aka drop one)\n",
    "columns_to_keep = ['temp', 'weather_1', 'weather_2', 'weather_3'] #[which_variables?]\n",
    "\n",
    "#checking for collinearity\n",
    "cmap = sns.diverging_palette(220, 10, as_cmap=True)\n",
    "correlations = bikemodel_data[columns_to_keep].corr()# what are we getting the correlations of?\n",
    "print correlations\n",
    "print sns.heatmap(correlations, cmap=cmap)\n",
    "\n"
   ]
  },
  {
   "cell_type": "markdown",
   "metadata": {},
   "source": [
    "### Now dropping one dummy variable."
   ]
  },
  {
   "cell_type": "code",
   "execution_count": 23,
   "metadata": {
    "collapsed": false
   },
   "outputs": [
    {
     "data": {
      "text/html": [
       "<table class=\"simpletable\">\n",
       "<caption>OLS Regression Results</caption>\n",
       "<tr>\n",
       "  <th>Dep. Variable:</th>            <td>y</td>        <th>  R-squared:         </th> <td>   0.023</td> \n",
       "</tr>\n",
       "<tr>\n",
       "  <th>Model:</th>                   <td>OLS</td>       <th>  Adj. R-squared:    </th> <td>   0.023</td> \n",
       "</tr>\n",
       "<tr>\n",
       "  <th>Method:</th>             <td>Least Squares</td>  <th>  F-statistic:       </th> <td>   138.7</td> \n",
       "</tr>\n",
       "<tr>\n",
       "  <th>Date:</th>             <td>Wed, 30 Aug 2017</td> <th>  Prob (F-statistic):</th> <td>8.08e-89</td> \n",
       "</tr>\n",
       "<tr>\n",
       "  <th>Time:</th>                 <td>16:20:29</td>     <th>  Log-Likelihood:    </th> <td> -92197.</td> \n",
       "</tr>\n",
       "<tr>\n",
       "  <th>No. Observations:</th>      <td> 17379</td>      <th>  AIC:               </th> <td>1.844e+05</td>\n",
       "</tr>\n",
       "<tr>\n",
       "  <th>Df Residuals:</th>          <td> 17375</td>      <th>  BIC:               </th> <td>1.844e+05</td>\n",
       "</tr>\n",
       "<tr>\n",
       "  <th>Df Model:</th>              <td>     3</td>      <th>                     </th>     <td> </td>    \n",
       "</tr>\n",
       "<tr>\n",
       "  <th>Covariance Type:</th>      <td>nonrobust</td>    <th>                     </th>     <td> </td>    \n",
       "</tr>\n",
       "</table>\n",
       "<table class=\"simpletable\">\n",
       "<tr>\n",
       "            <td></td>               <th>coef</th>     <th>std err</th>      <th>t</th>      <th>P>|t|</th> <th>[95.0% Conf. Int.]</th> \n",
       "</tr>\n",
       "<tr>\n",
       "  <th>Intercept</th>             <td>    2.6667</td> <td>   28.134</td> <td>    0.095</td> <td> 0.924</td> <td>  -52.478    57.812</td>\n",
       "</tr>\n",
       "<tr>\n",
       "  <th>weather[[1, 2, 3]][0]</th> <td>   37.8788</td> <td>   28.138</td> <td>    1.346</td> <td> 0.178</td> <td>  -17.274    93.031</td>\n",
       "</tr>\n",
       "<tr>\n",
       "  <th>weather[[1, 2, 3]][1]</th> <td>   26.9286</td> <td>   28.143</td> <td>    0.957</td> <td> 0.339</td> <td>  -28.235    82.092</td>\n",
       "</tr>\n",
       "<tr>\n",
       "  <th>weather[[1, 2, 3]][2]</th> <td>   13.3890</td> <td>   28.164</td> <td>    0.475</td> <td> 0.635</td> <td>  -41.814    68.592</td>\n",
       "</tr>\n",
       "</table>\n",
       "<table class=\"simpletable\">\n",
       "<tr>\n",
       "  <th>Omnibus:</th>       <td>9001.632</td> <th>  Durbin-Watson:     </th> <td>   0.136</td> \n",
       "</tr>\n",
       "<tr>\n",
       "  <th>Prob(Omnibus):</th>  <td> 0.000</td>  <th>  Jarque-Bera (JB):  </th> <td>58962.554</td>\n",
       "</tr>\n",
       "<tr>\n",
       "  <th>Skew:</th>           <td> 2.468</td>  <th>  Prob(JB):          </th> <td>    0.00</td> \n",
       "</tr>\n",
       "<tr>\n",
       "  <th>Kurtosis:</th>       <td>10.553</td>  <th>  Cond. No.          </th> <td>    189.</td> \n",
       "</tr>\n",
       "</table>"
      ],
      "text/plain": [
       "<class 'statsmodels.iolib.summary.Summary'>\n",
       "\"\"\"\n",
       "                            OLS Regression Results                            \n",
       "==============================================================================\n",
       "Dep. Variable:                      y   R-squared:                       0.023\n",
       "Model:                            OLS   Adj. R-squared:                  0.023\n",
       "Method:                 Least Squares   F-statistic:                     138.7\n",
       "Date:                Wed, 30 Aug 2017   Prob (F-statistic):           8.08e-89\n",
       "Time:                        16:20:29   Log-Likelihood:                -92197.\n",
       "No. Observations:               17379   AIC:                         1.844e+05\n",
       "Df Residuals:                   17375   BIC:                         1.844e+05\n",
       "Df Model:                           3                                         \n",
       "Covariance Type:            nonrobust                                         \n",
       "=========================================================================================\n",
       "                            coef    std err          t      P>|t|      [95.0% Conf. Int.]\n",
       "-----------------------------------------------------------------------------------------\n",
       "Intercept                 2.6667     28.134      0.095      0.924       -52.478    57.812\n",
       "weather[[1, 2, 3]][0]    37.8788     28.138      1.346      0.178       -17.274    93.031\n",
       "weather[[1, 2, 3]][1]    26.9286     28.143      0.957      0.339       -28.235    82.092\n",
       "weather[[1, 2, 3]][2]    13.3890     28.164      0.475      0.635       -41.814    68.592\n",
       "==============================================================================\n",
       "Omnibus:                     9001.632   Durbin-Watson:                   0.136\n",
       "Prob(Omnibus):                  0.000   Jarque-Bera (JB):            58962.554\n",
       "Skew:                           2.468   Prob(JB):                         0.00\n",
       "Kurtosis:                      10.553   Cond. No.                         189.\n",
       "==============================================================================\n",
       "\n",
       "Warnings:\n",
       "[1] Standard Errors assume that the covariance matrix of the errors is correctly specified.\n",
       "\"\"\""
      ]
     },
     "execution_count": 23,
     "metadata": {},
     "output_type": "execute_result"
    }
   ],
   "source": [
    "#dropping one\n",
    "lm_stats = smf.ols(formula='y ~ weather[[1, 2, 3]]', data=bike_data).fit()\n",
    "lm_stats.summary()"
   ]
  },
  {
   "cell_type": "markdown",
   "metadata": {},
   "source": [
    "### Interpretation: \n",
    "This model makes more sense, because we can more easily explain the variables compared to the one we left out. \n",
    "\n",
    "For example, this suggests that a clear day (weathersit:1) on average brings in about 38 more riders hourly than a day with heavy snow. \n",
    "\n",
    "In fact, since the weather situations \"degrade\" in quality (1 is the nicest day, 4 is the worst), the coefficients now reflect that well. \n",
    "\n",
    "However at this point, there is still a lot of work to do, because weather on its own fails to explain ridership well.\n",
    "\n",
    "\n"
   ]
  },
  {
   "cell_type": "markdown",
   "metadata": {},
   "source": [
    "### Checkout our data columns again"
   ]
  },
  {
   "cell_type": "code",
   "execution_count": 24,
   "metadata": {
    "collapsed": false
   },
   "outputs": [
    {
     "data": {
      "text/plain": [
       "instant         int64\n",
       "dteday         object\n",
       "season          int64\n",
       "yr              int64\n",
       "mnth            int64\n",
       "hr              int64\n",
       "holiday         int64\n",
       "weekday         int64\n",
       "workingday      int64\n",
       "weathersit      int64\n",
       "temp          float64\n",
       "atemp         float64\n",
       "hum           float64\n",
       "windspeed     float64\n",
       "casual          int64\n",
       "registered      int64\n",
       "cnt             int64\n",
       "dtype: object"
      ]
     },
     "execution_count": 24,
     "metadata": {},
     "output_type": "execute_result"
    }
   ],
   "source": [
    "bike_data.dtypes"
   ]
  },
  {
   "cell_type": "code",
   "execution_count": 25,
   "metadata": {
    "collapsed": false
   },
   "outputs": [
    {
     "data": {
      "text/html": [
       "<div>\n",
       "<table border=\"1\" class=\"dataframe\">\n",
       "  <thead>\n",
       "    <tr style=\"text-align: right;\">\n",
       "      <th></th>\n",
       "      <th>instant</th>\n",
       "      <th>season</th>\n",
       "      <th>yr</th>\n",
       "      <th>mnth</th>\n",
       "      <th>hr</th>\n",
       "      <th>holiday</th>\n",
       "      <th>weekday</th>\n",
       "      <th>workingday</th>\n",
       "      <th>weathersit</th>\n",
       "      <th>temp</th>\n",
       "      <th>atemp</th>\n",
       "      <th>hum</th>\n",
       "      <th>windspeed</th>\n",
       "      <th>casual</th>\n",
       "      <th>registered</th>\n",
       "      <th>cnt</th>\n",
       "    </tr>\n",
       "  </thead>\n",
       "  <tbody>\n",
       "    <tr>\n",
       "      <th>count</th>\n",
       "      <td>17379.0000</td>\n",
       "      <td>17379.000000</td>\n",
       "      <td>17379.000000</td>\n",
       "      <td>17379.000000</td>\n",
       "      <td>17379.000000</td>\n",
       "      <td>17379.000000</td>\n",
       "      <td>17379.000000</td>\n",
       "      <td>17379.000000</td>\n",
       "      <td>17379.000000</td>\n",
       "      <td>17379.000000</td>\n",
       "      <td>17379.000000</td>\n",
       "      <td>17379.000000</td>\n",
       "      <td>17379.000000</td>\n",
       "      <td>17379.000000</td>\n",
       "      <td>17379.000000</td>\n",
       "      <td>17379.000000</td>\n",
       "    </tr>\n",
       "    <tr>\n",
       "      <th>mean</th>\n",
       "      <td>8690.0000</td>\n",
       "      <td>2.501640</td>\n",
       "      <td>0.502561</td>\n",
       "      <td>6.537775</td>\n",
       "      <td>11.546752</td>\n",
       "      <td>0.028770</td>\n",
       "      <td>3.003683</td>\n",
       "      <td>0.682721</td>\n",
       "      <td>1.425283</td>\n",
       "      <td>0.496987</td>\n",
       "      <td>0.475775</td>\n",
       "      <td>0.627229</td>\n",
       "      <td>0.190098</td>\n",
       "      <td>35.676218</td>\n",
       "      <td>153.786869</td>\n",
       "      <td>189.463088</td>\n",
       "    </tr>\n",
       "    <tr>\n",
       "      <th>std</th>\n",
       "      <td>5017.0295</td>\n",
       "      <td>1.106918</td>\n",
       "      <td>0.500008</td>\n",
       "      <td>3.438776</td>\n",
       "      <td>6.914405</td>\n",
       "      <td>0.167165</td>\n",
       "      <td>2.005771</td>\n",
       "      <td>0.465431</td>\n",
       "      <td>0.639357</td>\n",
       "      <td>0.192556</td>\n",
       "      <td>0.171850</td>\n",
       "      <td>0.192930</td>\n",
       "      <td>0.122340</td>\n",
       "      <td>49.305030</td>\n",
       "      <td>151.357286</td>\n",
       "      <td>181.387599</td>\n",
       "    </tr>\n",
       "    <tr>\n",
       "      <th>min</th>\n",
       "      <td>1.0000</td>\n",
       "      <td>1.000000</td>\n",
       "      <td>0.000000</td>\n",
       "      <td>1.000000</td>\n",
       "      <td>0.000000</td>\n",
       "      <td>0.000000</td>\n",
       "      <td>0.000000</td>\n",
       "      <td>0.000000</td>\n",
       "      <td>1.000000</td>\n",
       "      <td>0.020000</td>\n",
       "      <td>0.000000</td>\n",
       "      <td>0.000000</td>\n",
       "      <td>0.000000</td>\n",
       "      <td>0.000000</td>\n",
       "      <td>0.000000</td>\n",
       "      <td>1.000000</td>\n",
       "    </tr>\n",
       "    <tr>\n",
       "      <th>25%</th>\n",
       "      <td>4345.5000</td>\n",
       "      <td>2.000000</td>\n",
       "      <td>0.000000</td>\n",
       "      <td>4.000000</td>\n",
       "      <td>6.000000</td>\n",
       "      <td>0.000000</td>\n",
       "      <td>1.000000</td>\n",
       "      <td>0.000000</td>\n",
       "      <td>1.000000</td>\n",
       "      <td>0.340000</td>\n",
       "      <td>0.333300</td>\n",
       "      <td>0.480000</td>\n",
       "      <td>0.104500</td>\n",
       "      <td>4.000000</td>\n",
       "      <td>34.000000</td>\n",
       "      <td>40.000000</td>\n",
       "    </tr>\n",
       "    <tr>\n",
       "      <th>50%</th>\n",
       "      <td>8690.0000</td>\n",
       "      <td>3.000000</td>\n",
       "      <td>1.000000</td>\n",
       "      <td>7.000000</td>\n",
       "      <td>12.000000</td>\n",
       "      <td>0.000000</td>\n",
       "      <td>3.000000</td>\n",
       "      <td>1.000000</td>\n",
       "      <td>1.000000</td>\n",
       "      <td>0.500000</td>\n",
       "      <td>0.484800</td>\n",
       "      <td>0.630000</td>\n",
       "      <td>0.194000</td>\n",
       "      <td>17.000000</td>\n",
       "      <td>115.000000</td>\n",
       "      <td>142.000000</td>\n",
       "    </tr>\n",
       "    <tr>\n",
       "      <th>75%</th>\n",
       "      <td>13034.5000</td>\n",
       "      <td>3.000000</td>\n",
       "      <td>1.000000</td>\n",
       "      <td>10.000000</td>\n",
       "      <td>18.000000</td>\n",
       "      <td>0.000000</td>\n",
       "      <td>5.000000</td>\n",
       "      <td>1.000000</td>\n",
       "      <td>2.000000</td>\n",
       "      <td>0.660000</td>\n",
       "      <td>0.621200</td>\n",
       "      <td>0.780000</td>\n",
       "      <td>0.253700</td>\n",
       "      <td>48.000000</td>\n",
       "      <td>220.000000</td>\n",
       "      <td>281.000000</td>\n",
       "    </tr>\n",
       "    <tr>\n",
       "      <th>max</th>\n",
       "      <td>17379.0000</td>\n",
       "      <td>4.000000</td>\n",
       "      <td>1.000000</td>\n",
       "      <td>12.000000</td>\n",
       "      <td>23.000000</td>\n",
       "      <td>1.000000</td>\n",
       "      <td>6.000000</td>\n",
       "      <td>1.000000</td>\n",
       "      <td>4.000000</td>\n",
       "      <td>1.000000</td>\n",
       "      <td>1.000000</td>\n",
       "      <td>1.000000</td>\n",
       "      <td>0.850700</td>\n",
       "      <td>367.000000</td>\n",
       "      <td>886.000000</td>\n",
       "      <td>977.000000</td>\n",
       "    </tr>\n",
       "  </tbody>\n",
       "</table>\n",
       "</div>"
      ],
      "text/plain": [
       "          instant        season            yr          mnth            hr  \\\n",
       "count  17379.0000  17379.000000  17379.000000  17379.000000  17379.000000   \n",
       "mean    8690.0000      2.501640      0.502561      6.537775     11.546752   \n",
       "std     5017.0295      1.106918      0.500008      3.438776      6.914405   \n",
       "min        1.0000      1.000000      0.000000      1.000000      0.000000   \n",
       "25%     4345.5000      2.000000      0.000000      4.000000      6.000000   \n",
       "50%     8690.0000      3.000000      1.000000      7.000000     12.000000   \n",
       "75%    13034.5000      3.000000      1.000000     10.000000     18.000000   \n",
       "max    17379.0000      4.000000      1.000000     12.000000     23.000000   \n",
       "\n",
       "            holiday       weekday    workingday    weathersit          temp  \\\n",
       "count  17379.000000  17379.000000  17379.000000  17379.000000  17379.000000   \n",
       "mean       0.028770      3.003683      0.682721      1.425283      0.496987   \n",
       "std        0.167165      2.005771      0.465431      0.639357      0.192556   \n",
       "min        0.000000      0.000000      0.000000      1.000000      0.020000   \n",
       "25%        0.000000      1.000000      0.000000      1.000000      0.340000   \n",
       "50%        0.000000      3.000000      1.000000      1.000000      0.500000   \n",
       "75%        0.000000      5.000000      1.000000      2.000000      0.660000   \n",
       "max        1.000000      6.000000      1.000000      4.000000      1.000000   \n",
       "\n",
       "              atemp           hum     windspeed        casual    registered  \\\n",
       "count  17379.000000  17379.000000  17379.000000  17379.000000  17379.000000   \n",
       "mean       0.475775      0.627229      0.190098     35.676218    153.786869   \n",
       "std        0.171850      0.192930      0.122340     49.305030    151.357286   \n",
       "min        0.000000      0.000000      0.000000      0.000000      0.000000   \n",
       "25%        0.333300      0.480000      0.104500      4.000000     34.000000   \n",
       "50%        0.484800      0.630000      0.194000     17.000000    115.000000   \n",
       "75%        0.621200      0.780000      0.253700     48.000000    220.000000   \n",
       "max        1.000000      1.000000      0.850700    367.000000    886.000000   \n",
       "\n",
       "                cnt  \n",
       "count  17379.000000  \n",
       "mean     189.463088  \n",
       "std      181.387599  \n",
       "min        1.000000  \n",
       "25%       40.000000  \n",
       "50%      142.000000  \n",
       "75%      281.000000  \n",
       "max      977.000000  "
      ]
     },
     "execution_count": 25,
     "metadata": {},
     "output_type": "execute_result"
    }
   ],
   "source": [
    "bike_data.describe()"
   ]
  },
  {
   "cell_type": "markdown",
   "metadata": {},
   "source": [
    "#Part 3- Building a model to predict guest ridership.\n",
    "Complete this code together and visualize the correlations of all the numerical features built into the data set.\n",
    "\n",
    "We want to:\n",
    "- Id categorical variables\n",
    "- Create dummies (weather situation is done for you in the starter code)\n",
    "- Find at least two more features that are not correlated with current features, but could be strong indicators for predicting guest riders."
   ]
  },
  {
   "cell_type": "markdown",
   "metadata": {
    "collapsed": true
   },
   "source": [
    "List the categorical and continuous variables.\n",
    "Cat: season, mnth, hr, holiday, weekday, workingday, "
   ]
  },
  {
   "cell_type": "code",
   "execution_count": 32,
   "metadata": {
    "collapsed": false
   },
   "outputs": [
    {
     "data": {
      "text/html": [
       "<div>\n",
       "<table border=\"1\" class=\"dataframe\">\n",
       "  <thead>\n",
       "    <tr style=\"text-align: right;\">\n",
       "      <th></th>\n",
       "      <th>instant</th>\n",
       "      <th>dteday</th>\n",
       "      <th>season</th>\n",
       "      <th>yr</th>\n",
       "      <th>mnth</th>\n",
       "      <th>hr</th>\n",
       "      <th>holiday</th>\n",
       "      <th>weekday</th>\n",
       "      <th>workingday</th>\n",
       "      <th>weathersit</th>\n",
       "      <th>temp</th>\n",
       "      <th>atemp</th>\n",
       "      <th>hum</th>\n",
       "      <th>windspeed</th>\n",
       "      <th>casual</th>\n",
       "      <th>registered</th>\n",
       "      <th>cnt</th>\n",
       "    </tr>\n",
       "  </thead>\n",
       "  <tbody>\n",
       "    <tr>\n",
       "      <th>0</th>\n",
       "      <td>1</td>\n",
       "      <td>2011-01-01</td>\n",
       "      <td>1</td>\n",
       "      <td>0</td>\n",
       "      <td>1</td>\n",
       "      <td>0</td>\n",
       "      <td>0</td>\n",
       "      <td>6</td>\n",
       "      <td>0</td>\n",
       "      <td>1</td>\n",
       "      <td>0.24</td>\n",
       "      <td>0.2879</td>\n",
       "      <td>0.81</td>\n",
       "      <td>0.0</td>\n",
       "      <td>3</td>\n",
       "      <td>13</td>\n",
       "      <td>16</td>\n",
       "    </tr>\n",
       "    <tr>\n",
       "      <th>1</th>\n",
       "      <td>2</td>\n",
       "      <td>2011-01-01</td>\n",
       "      <td>1</td>\n",
       "      <td>0</td>\n",
       "      <td>1</td>\n",
       "      <td>1</td>\n",
       "      <td>0</td>\n",
       "      <td>6</td>\n",
       "      <td>0</td>\n",
       "      <td>1</td>\n",
       "      <td>0.22</td>\n",
       "      <td>0.2727</td>\n",
       "      <td>0.80</td>\n",
       "      <td>0.0</td>\n",
       "      <td>8</td>\n",
       "      <td>32</td>\n",
       "      <td>40</td>\n",
       "    </tr>\n",
       "    <tr>\n",
       "      <th>2</th>\n",
       "      <td>3</td>\n",
       "      <td>2011-01-01</td>\n",
       "      <td>1</td>\n",
       "      <td>0</td>\n",
       "      <td>1</td>\n",
       "      <td>2</td>\n",
       "      <td>0</td>\n",
       "      <td>6</td>\n",
       "      <td>0</td>\n",
       "      <td>1</td>\n",
       "      <td>0.22</td>\n",
       "      <td>0.2727</td>\n",
       "      <td>0.80</td>\n",
       "      <td>0.0</td>\n",
       "      <td>5</td>\n",
       "      <td>27</td>\n",
       "      <td>32</td>\n",
       "    </tr>\n",
       "    <tr>\n",
       "      <th>3</th>\n",
       "      <td>4</td>\n",
       "      <td>2011-01-01</td>\n",
       "      <td>1</td>\n",
       "      <td>0</td>\n",
       "      <td>1</td>\n",
       "      <td>3</td>\n",
       "      <td>0</td>\n",
       "      <td>6</td>\n",
       "      <td>0</td>\n",
       "      <td>1</td>\n",
       "      <td>0.24</td>\n",
       "      <td>0.2879</td>\n",
       "      <td>0.75</td>\n",
       "      <td>0.0</td>\n",
       "      <td>3</td>\n",
       "      <td>10</td>\n",
       "      <td>13</td>\n",
       "    </tr>\n",
       "    <tr>\n",
       "      <th>4</th>\n",
       "      <td>5</td>\n",
       "      <td>2011-01-01</td>\n",
       "      <td>1</td>\n",
       "      <td>0</td>\n",
       "      <td>1</td>\n",
       "      <td>4</td>\n",
       "      <td>0</td>\n",
       "      <td>6</td>\n",
       "      <td>0</td>\n",
       "      <td>1</td>\n",
       "      <td>0.24</td>\n",
       "      <td>0.2879</td>\n",
       "      <td>0.75</td>\n",
       "      <td>0.0</td>\n",
       "      <td>0</td>\n",
       "      <td>1</td>\n",
       "      <td>1</td>\n",
       "    </tr>\n",
       "  </tbody>\n",
       "</table>\n",
       "</div>"
      ],
      "text/plain": [
       "   instant      dteday  season  yr  mnth  hr  holiday  weekday  workingday  \\\n",
       "0        1  2011-01-01       1   0     1   0        0        6           0   \n",
       "1        2  2011-01-01       1   0     1   1        0        6           0   \n",
       "2        3  2011-01-01       1   0     1   2        0        6           0   \n",
       "3        4  2011-01-01       1   0     1   3        0        6           0   \n",
       "4        5  2011-01-01       1   0     1   4        0        6           0   \n",
       "\n",
       "   weathersit  temp   atemp   hum  windspeed  casual  registered  cnt  \n",
       "0           1  0.24  0.2879  0.81        0.0       3          13   16  \n",
       "1           1  0.22  0.2727  0.80        0.0       8          32   40  \n",
       "2           1  0.22  0.2727  0.80        0.0       5          27   32  \n",
       "3           1  0.24  0.2879  0.75        0.0       3          10   13  \n",
       "4           1  0.24  0.2879  0.75        0.0       0           1    1  "
      ]
     },
     "execution_count": 32,
     "metadata": {},
     "output_type": "execute_result"
    }
   ],
   "source": [
    "bike_data.head()"
   ]
  },
  {
   "cell_type": "markdown",
   "metadata": {},
   "source": [
    "## Independent Practice: Building model to predict guest ridership \n",
    "\n",
    "\n",
    "#### Pay attention to:\n",
    "* Which variables would make sense to dummy (because they are categorical, not continuous)? \n",
    "* the distribution of riders (should we rescale the data?)  \n",
    "* checking correlations with variables and guest riders  \n",
    "* having a feature space (our matrix) with low multicollinearity  \n",
    "* the linear assumption -- given all feature values being 0, should we have no ridership? negative ridership? positive ridership?\n",
    "* What features might explain ridership but aren't included in the data set? \n",
    "\n",
    "  \n",
    "If your model has an r-squared above .4, this a relatively effective model for the data available. "
   ]
  },
  {
   "cell_type": "code",
   "execution_count": 33,
   "metadata": {
    "collapsed": false
   },
   "outputs": [
    {
     "name": "stdout",
     "output_type": "stream",
     "text": [
      "Index([u'instant', u'dteday', u'season', u'yr', u'mnth', u'hr', u'holiday',\n",
      "       u'weekday', u'workingday', u'weathersit', u'temp', u'atemp', u'hum',\n",
      "       u'windspeed', u'casual', u'registered', u'cnt', u'weather_1',\n",
      "       u'weather_2', u'weather_3', u'weather_4'],\n",
      "      dtype='object')\n",
      "               temp  weather_1  weather_2  weather_3\n",
      "temp       1.000000   0.101044  -0.069657  -0.062406\n",
      "weather_1  0.101044   1.000000  -0.822961  -0.412414\n",
      "weather_2 -0.069657  -0.822961   1.000000  -0.177417\n",
      "weather_3 -0.062406  -0.412414  -0.177417   1.000000\n",
      "Axes(0.125,0.125;0.62x0.755)\n"
     ]
    },
    {
     "data": {
      "image/png": "[encoded data removed]",
      "text/plain": [
       "<matplotlib.figure.Figure at 0x121a8a5d0>"
      ]
     },
     "metadata": {},
     "output_type": "display_data"
    }
   ],
   "source": [
    "#Dummies example: \n",
    "weather = pd.get_dummies(bike_data.weathersit)\n",
    "#creating new names for our new dummy variables\n",
    "weather.columns = ['weather_' + str(i) for i in weather.columns]\n",
    "#joining those new variables back into the larger dataset\n",
    "bikemodel_data = bike_data.join(weather)\n",
    "print bikemodel_data.columns\n",
    "\n",
    "#Select columns to keep. Don't forget to set a reference category for your dummies (aka drop one)\n",
    "columns_to_keep = ['temp', 'weather_1', 'weather_2', 'weather_3'] #[which_variables?]\n",
    "\n",
    "#checking for collinearity\n",
    "cmap = sns.diverging_palette(220, 10, as_cmap=True)\n",
    "correlations = bikemodel_data[columns_to_keep].corr()# what are we getting the correlations of?\n",
    "print correlations\n",
    "print sns.heatmap(correlations, cmap=cmap)\n",
    "\n",
    "\n",
    "\n"
   ]
  },
  {
   "cell_type": "code",
   "execution_count": 124,
   "metadata": {
    "collapsed": false
   },
   "outputs": [
    {
     "name": "stdout",
     "output_type": "stream",
     "text": [
      "Index([u'instant', u'dteday', u'season', u'yr', u'mnth', u'hr', u'holiday',\n",
      "       u'weekday', u'workingday', u'weathersit', u'temp', u'atemp', u'hum',\n",
      "       u'windspeed', u'casual', u'registered', u'cnt', u'season_1',\n",
      "       u'season_2', u'season_3', u'season_4'],\n",
      "      dtype='object')\n",
      "            casual      temp  season_1  season_2  season_3\n",
      "casual    1.000000  0.459616 -0.246476  0.123983  0.175067\n",
      "temp      0.459616  1.000000 -0.583859  0.144363  0.642516\n",
      "season_1 -0.246476 -0.583859  1.000000 -0.331312 -0.335693\n",
      "season_2  0.123983  0.144363 -0.331312  1.000000 -0.344433\n",
      "season_3  0.175067  0.642516 -0.335693 -0.344433  1.000000\n",
      "Axes(0.125,0.125;0.62x0.755)\n"
     ]
    },
    {
     "data": {
      "image/png": "[encoded data removed]",
      "text/plain": [
       "<matplotlib.figure.Figure at 0x123b98810>"
      ]
     },
     "metadata": {},
     "output_type": "display_data"
    }
   ],
   "source": [
    "seasonal = pd.get_dummies(bike_data.season)\n",
    "\n",
    "seasonal.columns = [\"season_\"+ str(a) for a in seasonal.columns]\n",
    "\n",
    "bikemodel_data = bike_data.join(seasonal)\n",
    "print(bikemodel_data.columns)\n",
    "\n",
    "columns_to_keep_2 = [\"casual\",\"temp\", \"season_1\",\"season_2\", \"season_3\"]\n",
    "\n",
    "cmap_2 = sns.diverging_palette(220,10,as_cmap = True)\n",
    "correlations_2 = bikemodel_data[columns_to_keep_2].corr()\n",
    "\n",
    "print(correlations_2)\n",
    "print sns.heatmap(correlations_2, cmap = cmap_2)"
   ]
  },
  {
   "cell_type": "code",
   "execution_count": 34,
   "metadata": {
    "collapsed": false
   },
   "outputs": [
    {
     "name": "stdout",
     "output_type": "stream",
     "text": [
      "Index([u'instant', u'dteday', u'season', u'yr', u'mnth', u'hr', u'holiday',\n",
      "       u'weekday', u'workingday', u'weathersit', u'temp', u'atemp', u'hum',\n",
      "       u'windspeed', u'casual', u'registered', u'cnt', u'mnth_1', u'mnth_2',\n",
      "       u'mnth_3', u'mnth_4', u'mnth_5', u'mnth_6', u'mnth_7', u'mnth_8',\n",
      "       u'mnth_9', u'mnth_10', u'mnth_11', u'mnth_12'],\n",
      "      dtype='object')\n",
      "           casual      temp    mnth_1    mnth_2    mnth_3    mnth_4    mnth_5  \\\n",
      "casual   1.000000  0.459616 -0.165430 -0.143796 -0.033971  0.040407  0.092592   \n",
      "temp     0.459616  1.000000 -0.403142 -0.295510 -0.167659 -0.042047  0.155442   \n",
      "mnth_1  -0.165430 -0.403142  1.000000 -0.086552 -0.091087 -0.089865 -0.091593   \n",
      "mnth_2  -0.143796 -0.295510 -0.086552  1.000000 -0.087995 -0.086815 -0.088484   \n",
      "mnth_3  -0.033971 -0.167659 -0.091087 -0.087995  1.000000 -0.091365 -0.093121   \n",
      "mnth_4   0.040407 -0.042047 -0.089865 -0.086815 -0.091365  1.000000 -0.091872   \n",
      "mnth_5   0.092592  0.155442 -0.091593 -0.088484 -0.093121 -0.091872  1.000000   \n",
      "mnth_6   0.095392  0.292081 -0.089968 -0.086914 -0.091469 -0.090242 -0.091976   \n",
      "mnth_7   0.104571  0.410784 -0.091593 -0.088484 -0.093121 -0.091872 -0.093638   \n",
      "mnth_8   0.081310  0.334854 -0.091155 -0.088061 -0.092675 -0.091432 -0.093190   \n",
      "mnth_9   0.080753  0.186359 -0.089865 -0.086815 -0.091365 -0.090139 -0.091872   \n",
      "mnth_10  0.033726 -0.015371 -0.090342 -0.087276 -0.091849 -0.090617 -0.092359   \n",
      "mnth_11 -0.062139 -0.199251 -0.089865 -0.086815 -0.091365 -0.090139 -0.091872   \n",
      "\n",
      "           mnth_6    mnth_7    mnth_8    mnth_9   mnth_10   mnth_11  \n",
      "casual   0.095392  0.104571  0.081310  0.080753  0.033726 -0.062139  \n",
      "temp     0.292081  0.410784  0.334854  0.186359 -0.015371 -0.199251  \n",
      "mnth_1  -0.089968 -0.091593 -0.091155 -0.089865 -0.090342 -0.089865  \n",
      "mnth_2  -0.086914 -0.088484 -0.088061 -0.086815 -0.087276 -0.086815  \n",
      "mnth_3  -0.091469 -0.093121 -0.092675 -0.091365 -0.091849 -0.091365  \n",
      "mnth_4  -0.090242 -0.091872 -0.091432 -0.090139 -0.090617 -0.090139  \n",
      "mnth_5  -0.091976 -0.093638 -0.093190 -0.091872 -0.092359 -0.091872  \n",
      "mnth_6   1.000000 -0.091976 -0.091536 -0.090242 -0.090720 -0.090242  \n",
      "mnth_7  -0.091976  1.000000 -0.093190 -0.091872 -0.092359 -0.091872  \n",
      "mnth_8  -0.091536 -0.093190  1.000000 -0.091432 -0.091917 -0.091432  \n",
      "mnth_9  -0.090242 -0.091872 -0.091432  1.000000 -0.090617 -0.090139  \n",
      "mnth_10 -0.090720 -0.092359 -0.091917 -0.090617  1.000000 -0.090617  \n",
      "mnth_11 -0.090242 -0.091872 -0.091432 -0.090139 -0.090617  1.000000  \n",
      "Axes(0.125,0.125;0.62x0.755)\n"
     ]
    },
    {
     "data": {
      "image/png": "[encoded data removed]",
      "text/plain": [
       "<matplotlib.figure.Figure at 0x1224e2f10>"
      ]
     },
     "metadata": {},
     "output_type": "display_data"
    }
   ],
   "source": [
    "months = pd.get_dummies(bike_data.mnth)\n",
    "months.columns = [\"mnth_\" + str(b) for b in months.columns]\n",
    "bikemodel_data = bike_data.join(months)\n",
    "print(bikemodel_data.columns)\n",
    "\n",
    "columns_to_keep_3 = [\"casual\",\"temp\",\"mnth_1\", \"mnth_2\", \"mnth_3\", \"mnth_4\", \"mnth_5\", \"mnth_6\", \"mnth_7\", \"mnth_8\", \"mnth_9\", \"mnth_10\", \"mnth_11\"]\n",
    "\n",
    "cmap_3 = sns.diverging_palette(220,10, as_cmap = True)\n",
    "correlations_3 = bikemodel_data[columns_to_keep_3].corr()\n",
    "\n",
    "print(correlations_3)\n",
    "print sns.heatmap(correlations_3,cmap = cmap_3)"
   ]
  },
  {
   "cell_type": "code",
   "execution_count": 35,
   "metadata": {
    "collapsed": false
   },
   "outputs": [
    {
     "name": "stdout",
     "output_type": "stream",
     "text": [
      "Index([u'instant', u'dteday', u'season', u'yr', u'mnth', u'hr', u'holiday',\n",
      "       u'weekday', u'workingday', u'weathersit', u'temp', u'atemp', u'hum',\n",
      "       u'windspeed', u'casual', u'registered', u'cnt', u'hr_0', u'hr_1',\n",
      "       u'hr_2', u'hr_3', u'hr_4', u'hr_5', u'hr_6', u'hr_7', u'hr_8', u'hr_9',\n",
      "       u'hr_10', u'hr_11', u'hr_12', u'hr_13', u'hr_14', u'hr_15', u'hr_16',\n",
      "       u'hr_17', u'hr_18', u'hr_19', u'hr_20', u'hr_21', u'hr_22', u'hr_23'],\n",
      "      dtype='object')\n",
      "          casual      temp      hr_0      hr_1      hr_2      hr_4      hr_5  \\\n",
      "casual  1.000000  0.459616 -0.108065 -0.123363 -0.129838 -0.142710 -0.144167   \n",
      "temp    0.459616  1.000000 -0.032072 -0.040738 -0.045627 -0.053459 -0.065571   \n",
      "hr_0   -0.108065 -0.032072  1.000000 -0.043533 -0.043250 -0.042679 -0.043313   \n",
      "hr_1   -0.123363 -0.040738 -0.043533  1.000000 -0.043188 -0.042618 -0.043251   \n",
      "hr_2   -0.129838 -0.045627 -0.043250 -0.043188  1.000000 -0.042340 -0.042969   \n",
      "hr_4   -0.142710 -0.053459 -0.042679 -0.042618 -0.042340  1.000000 -0.042402   \n",
      "hr_5   -0.144167 -0.065571 -0.043313 -0.043251 -0.042969 -0.042402  1.000000   \n",
      "hr_6   -0.133366 -0.069911 -0.043564 -0.043502 -0.043219 -0.042648 -0.043282   \n",
      "hr_7   -0.104343 -0.062825 -0.043627 -0.043564 -0.043281 -0.042710 -0.043344   \n",
      "hr_8   -0.059317 -0.045570 -0.043627 -0.043564 -0.043281 -0.042710 -0.043344   \n",
      "hr_9   -0.020278 -0.021986 -0.043627 -0.043564 -0.043281 -0.042710 -0.043344   \n",
      "hr_10   0.045774  0.003896 -0.043627 -0.043564 -0.043281 -0.042710 -0.043344   \n",
      "hr_11   0.101136  0.027808 -0.043627 -0.043564 -0.043281 -0.042710 -0.043344   \n",
      "hr_12   0.138331  0.047007 -0.043658 -0.043596 -0.043312 -0.042740 -0.043375   \n",
      "hr_13   0.155469  0.062752 -0.043690 -0.043627 -0.043343 -0.042771 -0.043406   \n",
      "hr_14   0.169301  0.073992 -0.043690 -0.043627 -0.043343 -0.042771 -0.043406   \n",
      "hr_15   0.166489  0.077838 -0.043690 -0.043627 -0.043343 -0.042771 -0.043406   \n",
      "hr_16   0.161681  0.073918 -0.043721 -0.043658 -0.043374 -0.042802 -0.043437   \n",
      "hr_17   0.163927  0.062626 -0.043721 -0.043658 -0.043374 -0.042802 -0.043437   \n",
      "hr_18   0.107910  0.047992 -0.043658 -0.043596 -0.043312 -0.042740 -0.043375   \n",
      "hr_19   0.055533  0.029525 -0.043658 -0.043596 -0.043312 -0.042740 -0.043375   \n",
      "hr_20   0.002363  0.012609 -0.043658 -0.043596 -0.043312 -0.042740 -0.043375   \n",
      "hr_21  -0.031471 -0.001830 -0.043658 -0.043596 -0.043312 -0.042740 -0.043375   \n",
      "hr_22  -0.056929 -0.013554 -0.043658 -0.043596 -0.043312 -0.042740 -0.043375   \n",
      "\n",
      "            hr_6      hr_7      hr_8    ...        hr_13     hr_14     hr_15  \\\n",
      "casual -0.133366 -0.104343 -0.059317    ...     0.155469  0.169301  0.166489   \n",
      "temp   -0.069911 -0.062825 -0.045570    ...     0.062752  0.073992  0.077838   \n",
      "hr_0   -0.043564 -0.043627 -0.043627    ...    -0.043690 -0.043690 -0.043690   \n",
      "hr_1   -0.043502 -0.043564 -0.043564    ...    -0.043627 -0.043627 -0.043627   \n",
      "hr_2   -0.043219 -0.043281 -0.043281    ...    -0.043343 -0.043343 -0.043343   \n",
      "hr_4   -0.042648 -0.042710 -0.042710    ...    -0.042771 -0.042771 -0.042771   \n",
      "hr_5   -0.043282 -0.043344 -0.043344    ...    -0.043406 -0.043406 -0.043406   \n",
      "hr_6    1.000000 -0.043596 -0.043596    ...    -0.043658 -0.043658 -0.043658   \n",
      "hr_7   -0.043596  1.000000 -0.043658    ...    -0.043721 -0.043721 -0.043721   \n",
      "hr_8   -0.043596 -0.043658  1.000000    ...    -0.043721 -0.043721 -0.043721   \n",
      "hr_9   -0.043596 -0.043658 -0.043658    ...    -0.043721 -0.043721 -0.043721   \n",
      "hr_10  -0.043596 -0.043658 -0.043658    ...    -0.043721 -0.043721 -0.043721   \n",
      "hr_11  -0.043596 -0.043658 -0.043658    ...    -0.043721 -0.043721 -0.043721   \n",
      "hr_12  -0.043627 -0.043690 -0.043690    ...    -0.043752 -0.043752 -0.043752   \n",
      "hr_13  -0.043658 -0.043721 -0.043721    ...     1.000000 -0.043784 -0.043784   \n",
      "hr_14  -0.043658 -0.043721 -0.043721    ...    -0.043784  1.000000 -0.043784   \n",
      "hr_15  -0.043658 -0.043721 -0.043721    ...    -0.043784 -0.043784  1.000000   \n",
      "hr_16  -0.043690 -0.043752 -0.043752    ...    -0.043815 -0.043815 -0.043815   \n",
      "hr_17  -0.043690 -0.043752 -0.043752    ...    -0.043815 -0.043815 -0.043815   \n",
      "hr_18  -0.043627 -0.043690 -0.043690    ...    -0.043752 -0.043752 -0.043752   \n",
      "hr_19  -0.043627 -0.043690 -0.043690    ...    -0.043752 -0.043752 -0.043752   \n",
      "hr_20  -0.043627 -0.043690 -0.043690    ...    -0.043752 -0.043752 -0.043752   \n",
      "hr_21  -0.043627 -0.043690 -0.043690    ...    -0.043752 -0.043752 -0.043752   \n",
      "hr_22  -0.043627 -0.043690 -0.043690    ...    -0.043752 -0.043752 -0.043752   \n",
      "\n",
      "           hr_16     hr_17     hr_18     hr_19     hr_20     hr_21     hr_22  \n",
      "casual  0.161681  0.163927  0.107910  0.055533  0.002363 -0.031471 -0.056929  \n",
      "temp    0.073918  0.062626  0.047992  0.029525  0.012609 -0.001830 -0.013554  \n",
      "hr_0   -0.043721 -0.043721 -0.043658 -0.043658 -0.043658 -0.043658 -0.043658  \n",
      "hr_1   -0.043658 -0.043658 -0.043596 -0.043596 -0.043596 -0.043596 -0.043596  \n",
      "hr_2   -0.043374 -0.043374 -0.043312 -0.043312 -0.043312 -0.043312 -0.043312  \n",
      "hr_4   -0.042802 -0.042802 -0.042740 -0.042740 -0.042740 -0.042740 -0.042740  \n",
      "hr_5   -0.043437 -0.043437 -0.043375 -0.043375 -0.043375 -0.043375 -0.043375  \n",
      "hr_6   -0.043690 -0.043690 -0.043627 -0.043627 -0.043627 -0.043627 -0.043627  \n",
      "hr_7   -0.043752 -0.043752 -0.043690 -0.043690 -0.043690 -0.043690 -0.043690  \n",
      "hr_8   -0.043752 -0.043752 -0.043690 -0.043690 -0.043690 -0.043690 -0.043690  \n",
      "hr_9   -0.043752 -0.043752 -0.043690 -0.043690 -0.043690 -0.043690 -0.043690  \n",
      "hr_10  -0.043752 -0.043752 -0.043690 -0.043690 -0.043690 -0.043690 -0.043690  \n",
      "hr_11  -0.043752 -0.043752 -0.043690 -0.043690 -0.043690 -0.043690 -0.043690  \n",
      "hr_12  -0.043784 -0.043784 -0.043721 -0.043721 -0.043721 -0.043721 -0.043721  \n",
      "hr_13  -0.043815 -0.043815 -0.043752 -0.043752 -0.043752 -0.043752 -0.043752  \n",
      "hr_14  -0.043815 -0.043815 -0.043752 -0.043752 -0.043752 -0.043752 -0.043752  \n",
      "hr_15  -0.043815 -0.043815 -0.043752 -0.043752 -0.043752 -0.043752 -0.043752  \n",
      "hr_16   1.000000 -0.043846 -0.043784 -0.043784 -0.043784 -0.043784 -0.043784  \n",
      "hr_17  -0.043846  1.000000 -0.043784 -0.043784 -0.043784 -0.043784 -0.043784  \n",
      "hr_18  -0.043784 -0.043784  1.000000 -0.043721 -0.043721 -0.043721 -0.043721  \n",
      "hr_19  -0.043784 -0.043784 -0.043721  1.000000 -0.043721 -0.043721 -0.043721  \n",
      "hr_20  -0.043784 -0.043784 -0.043721 -0.043721  1.000000 -0.043721 -0.043721  \n",
      "hr_21  -0.043784 -0.043784 -0.043721 -0.043721 -0.043721  1.000000 -0.043721  \n",
      "hr_22  -0.043784 -0.043784 -0.043721 -0.043721 -0.043721 -0.043721  1.000000  \n",
      "\n",
      "[24 rows x 24 columns]\n",
      "Axes(0.125,0.125;0.62x0.755)\n"
     ]
    },
    {
     "data": {
      "image/png": "[encoded data removed]",
      "text/plain": [
       "<matplotlib.figure.Figure at 0x11f74c690>"
      ]
     },
     "metadata": {},
     "output_type": "display_data"
    }
   ],
   "source": [
    "hour = pd.get_dummies(bike_data.hr)\n",
    "hour.columns = [\"hr_\"+ str(c) for c in hour.columns]\n",
    "bikemodel_data = bike_data.join(hour)\n",
    "\n",
    "print(bikemodel_data.columns)\n",
    "\n",
    "columns_to_keep_4 = [\"casual\",\"temp\", \"hr_0\", \"hr_1\", \"hr_2\", \"hr_4\", \"hr_5\", \"hr_6\", \"hr_7\", \"hr_8\", \"hr_9\", \"hr_10\", \"hr_11\", \"hr_12\", \"hr_13\", \"hr_14\", \"hr_15\", \"hr_16\", \"hr_17\", \"hr_18\", \"hr_19\", \"hr_20\", \"hr_21\", \"hr_22\"]\n",
    "\n",
    "cmap_4 = sns.diverging_palette(220, 10, as_cmap = True)\n",
    "correlations_4 = bikemodel_data[columns_to_keep_4].corr()\n",
    " \n",
    "print(correlations_4)\n",
    "print sns.heatmap(correlations_4, cmap = cmap_4)\n",
    "                                "
   ]
  },
  {
   "cell_type": "code",
   "execution_count": 36,
   "metadata": {
    "collapsed": false
   },
   "outputs": [
    {
     "name": "stdout",
     "output_type": "stream",
     "text": [
      "Index([u'instant', u'dteday', u'season', u'yr', u'mnth', u'hr', u'holiday',\n",
      "       u'weekday', u'workingday', u'weathersit', u'temp', u'atemp', u'hum',\n",
      "       u'windspeed', u'casual', u'registered', u'cnt', u'holiday_0',\n",
      "       u'holiday_1'],\n",
      "      dtype='object')\n",
      "             casual      temp  holiday_0\n",
      "casual     1.000000  0.459616  -0.031564\n",
      "temp       0.459616  1.000000   0.027340\n",
      "holiday_0 -0.031564  0.027340   1.000000\n",
      "Axes(0.125,0.125;0.62x0.755)\n"
     ]
    },
    {
     "data": {
      "image/png": "[encoded data removed]",
      "text/plain": [
       "<matplotlib.figure.Figure at 0x121b207d0>"
      ]
     },
     "metadata": {},
     "output_type": "display_data"
    }
   ],
   "source": [
    "holidays = pd.get_dummies(bike_data.holiday)\n",
    "holidays.columns = [\"holiday_\"+ str(c) for c in holidays.columns]\n",
    "\n",
    "bikemodel_data = bike_data.join(holidays)\n",
    "\n",
    "print(bikemodel_data.columns)\n",
    "\n",
    "columns_to_keep_5 = [\"casual\",\"temp\", \"holiday_0\"]\n",
    "cmap_5 = sns.diverging_palette(220,10, as_cmap = True)\n",
    "\n",
    "correlations_5 = bikemodel_data[columns_to_keep_5].corr()\n",
    "\n",
    "print(correlations_5)\n",
    "print sns.heatmap(correlations_5, cmap = cmap_5)\n",
    "\n"
   ]
  },
  {
   "cell_type": "code",
   "execution_count": 37,
   "metadata": {
    "collapsed": false
   },
   "outputs": [
    {
     "name": "stdout",
     "output_type": "stream",
     "text": [
      "Index([u'instant', u'dteday', u'season', u'yr', u'mnth', u'hr', u'holiday',\n",
      "       u'weekday', u'workingday', u'weathersit', u'temp', u'atemp', u'hum',\n",
      "       u'windspeed', u'casual', u'registered', u'cnt', u'weekday_0',\n",
      "       u'weekday_1', u'weekday_2', u'weekday_3', u'weekday_4', u'weekday_5',\n",
      "       u'weekday_6'],\n",
      "      dtype='object')\n",
      "             casual      temp  weekday_6  weekday_1  weekday_2  weekday_3  \\\n",
      "casual     1.000000  0.459616   0.213187  -0.058927  -0.099456  -0.103457   \n",
      "temp       0.459616  1.000000  -0.032321  -0.004111   0.024384   0.020502   \n",
      "weekday_6  0.213187 -0.032321   1.000000  -0.167665  -0.166638  -0.167508   \n",
      "weekday_1 -0.058927 -0.004111  -0.167665   1.000000  -0.165357  -0.166219   \n",
      "weekday_2 -0.099456  0.024384  -0.166638  -0.165357   1.000000  -0.165201   \n",
      "weekday_3 -0.103457  0.020502  -0.167508  -0.166219  -0.165201   1.000000   \n",
      "weekday_4 -0.089211  0.021208  -0.167350  -0.166063  -0.165046  -0.165906   \n",
      "weekday_5 -0.034957 -0.001184  -0.167981  -0.166689  -0.165668  -0.166532   \n",
      "\n",
      "           weekday_4  weekday_5  \n",
      "casual     -0.089211  -0.034957  \n",
      "temp        0.021208  -0.001184  \n",
      "weekday_6  -0.167350  -0.167981  \n",
      "weekday_1  -0.166063  -0.166689  \n",
      "weekday_2  -0.165046  -0.165668  \n",
      "weekday_3  -0.165906  -0.166532  \n",
      "weekday_4   1.000000  -0.166375  \n",
      "weekday_5  -0.166375   1.000000  \n",
      "Axes(0.125,0.125;0.62x0.755)\n"
     ]
    },
    {
     "data": {
      "image/png": "[encoded data removed]",
      "text/plain": [
       "<matplotlib.figure.Figure at 0x11f2c5e10>"
      ]
     },
     "metadata": {},
     "output_type": "display_data"
    }
   ],
   "source": [
    "weekdays = pd.get_dummies(bike_data.weekday)\n",
    "weekdays.columns = [\"weekday_\" + str(d) for d in weekdays.columns]\n",
    "\n",
    "bikemodel_data = bike_data.join(weekdays)\n",
    "print(bikemodel_data.columns)\n",
    "\n",
    "columns_to_keep_6 = [\"casual\",\"temp\", \"weekday_6\", \"weekday_1\", \"weekday_2\", \"weekday_3\", \"weekday_4\", \"weekday_5\"]\n",
    "\n",
    "cmap_6 = sns.diverging_palette(220,10, as_cmap = True)\n",
    "correlations_6 = bikemodel_data[columns_to_keep_6].corr()\n",
    "\n",
    "print correlations_6\n",
    "\n",
    "m = sns.heatmap(correlations_6, cmap = cmap_6)\n",
    "print m\n",
    "for item in m.get_xticklabels():\n",
    "    item.set_rotation(45)\n"
   ]
  },
  {
   "cell_type": "code",
   "execution_count": 38,
   "metadata": {
    "collapsed": false
   },
   "outputs": [
    {
     "name": "stdout",
     "output_type": "stream",
     "text": [
      "Index([u'instant', u'dteday', u'season', u'yr', u'mnth', u'hr', u'holiday',\n",
      "       u'weekday', u'workingday', u'weathersit', u'temp', u'atemp', u'hum',\n",
      "       u'windspeed', u'casual', u'registered', u'cnt', u'workingday_0',\n",
      "       u'workingday_1'],\n",
      "      dtype='object')\n",
      "                casual      temp  workingday_1\n",
      "casual        1.000000  0.459616     -0.300942\n",
      "temp          0.459616  1.000000      0.055390\n",
      "workingday_1 -0.300942  0.055390      1.000000\n",
      "Axes(0.125,0.125;0.62x0.755)\n"
     ]
    },
    {
     "data": {
      "image/png": "[encoded data removed]",
      "text/plain": [
       "<matplotlib.figure.Figure at 0x1222b1d90>"
      ]
     },
     "metadata": {},
     "output_type": "display_data"
    }
   ],
   "source": [
    "workday = pd.get_dummies(bike_data.workingday)\n",
    "workday.columns = [\"workingday_\"+ str(e) for e in workday.columns]\n",
    "\n",
    "bikemodel_data = bike_data.join(workday)\n",
    "\n",
    "print(bikemodel_data.columns)\n",
    "\n",
    "cmap_7 = sns.diverging_palette(220,10, as_cmap = True)\n",
    "\n",
    "columns_to_keep_7 = [\"casual\",\"temp\", \"workingday_1\"]\n",
    "\n",
    "correlations_7 = bikemodel_data[columns_to_keep_7].corr()\n",
    "\n",
    "print(correlations_7)\n",
    "print sns.heatmap(correlations_7, cmap = cmap_7)\n",
    "\n"
   ]
  },
  {
   "cell_type": "markdown",
   "metadata": {},
   "source": [
    "####1: What's the strongest predictor? "
   ]
  },
  {
   "cell_type": "markdown",
   "metadata": {},
   "source": [
    "Answer: The strongest predictor of casual ridership is the temperature. The temperature has the strongest correlation with the casual ridership variable."
   ]
  },
  {
   "cell_type": "markdown",
   "metadata": {},
   "source": [
    "####2: How well did your model do? "
   ]
  },
  {
   "cell_type": "markdown",
   "metadata": {},
   "source": [
    "Answer: The model did not do so well in terms of its r-squared value."
   ]
  },
  {
   "cell_type": "markdown",
   "metadata": {},
   "source": [
    "####3: How can you improve it? "
   ]
  },
  {
   "cell_type": "markdown",
   "metadata": {},
   "source": [
    "Answer: The model can be improved by taking the log of the dependent variable versus the variables."
   ]
  },
  {
   "cell_type": "code",
   "execution_count": 39,
   "metadata": {
    "collapsed": false,
    "scrolled": false
   },
   "outputs": [
    {
     "data": {
      "text/html": [
       "<table class=\"simpletable\">\n",
       "<caption>OLS Regression Results</caption>\n",
       "<tr>\n",
       "  <th>Dep. Variable:</th>      <td>log_dep_var2</td>   <th>  R-squared:         </th> <td>   0.757</td>\n",
       "</tr>\n",
       "<tr>\n",
       "  <th>Model:</th>                   <td>OLS</td>       <th>  Adj. R-squared:    </th> <td>   0.757</td>\n",
       "</tr>\n",
       "<tr>\n",
       "  <th>Method:</th>             <td>Least Squares</td>  <th>  F-statistic:       </th> <td>   1504.</td>\n",
       "</tr>\n",
       "<tr>\n",
       "  <th>Date:</th>             <td>Thu, 31 Aug 2017</td> <th>  Prob (F-statistic):</th>  <td>  0.00</td> \n",
       "</tr>\n",
       "<tr>\n",
       "  <th>Time:</th>                 <td>17:54:33</td>     <th>  Log-Likelihood:    </th> <td> -4789.2</td>\n",
       "</tr>\n",
       "<tr>\n",
       "  <th>No. Observations:</th>      <td> 17379</td>      <th>  AIC:               </th> <td>   9652.</td>\n",
       "</tr>\n",
       "<tr>\n",
       "  <th>Df Residuals:</th>          <td> 17342</td>      <th>  BIC:               </th> <td>   9940.</td>\n",
       "</tr>\n",
       "<tr>\n",
       "  <th>Df Model:</th>              <td>    36</td>      <th>                     </th>     <td> </td>   \n",
       "</tr>\n",
       "<tr>\n",
       "  <th>Covariance Type:</th>      <td>nonrobust</td>    <th>                     </th>     <td> </td>   \n",
       "</tr>\n",
       "</table>\n",
       "<table class=\"simpletable\">\n",
       "<tr>\n",
       "                                              <td></td>                                                 <th>coef</th>     <th>std err</th>      <th>t</th>      <th>P>|t|</th> <th>[95.0% Conf. Int.]</th> \n",
       "</tr>\n",
       "<tr>\n",
       "  <th>Intercept</th>                                                                                 <td>    0.3189</td> <td>    0.013</td> <td>   25.075</td> <td> 0.000</td> <td>    0.294     0.344</td>\n",
       "</tr>\n",
       "<tr>\n",
       "  <th>temp</th>                                                                                      <td>    1.2778</td> <td>    0.027</td> <td>   46.503</td> <td> 0.000</td> <td>    1.224     1.332</td>\n",
       "</tr>\n",
       "<tr>\n",
       "  <th>weather[[1, 2, 3]][0]</th>                                                                     <td>   -0.0663</td> <td>    0.006</td> <td>  -11.694</td> <td> 0.000</td> <td>   -0.077    -0.055</td>\n",
       "</tr>\n",
       "<tr>\n",
       "  <th>weather[[1, 2, 3]][1]</th>                                                                     <td>   -0.3712</td> <td>    0.009</td> <td>  -41.025</td> <td> 0.000</td> <td>   -0.389    -0.353</td>\n",
       "</tr>\n",
       "<tr>\n",
       "  <th>weather[[1, 2, 3]][2]</th>                                                                     <td>   -0.3847</td> <td>    0.184</td> <td>   -2.085</td> <td> 0.037</td> <td>   -0.746    -0.023</td>\n",
       "</tr>\n",
       "<tr>\n",
       "  <th>months[[1, 2, 3, 4, 5, 6, 7, 8, 9, 11]][0]</th>                                                <td>   -0.0903</td> <td>    0.011</td> <td>   -8.552</td> <td> 0.000</td> <td>   -0.111    -0.070</td>\n",
       "</tr>\n",
       "<tr>\n",
       "  <th>months[[1, 2, 3, 4, 5, 6, 7, 8, 9, 11]][1]</th>                                                <td>    0.1212</td> <td>    0.011</td> <td>   11.531</td> <td> 0.000</td> <td>    0.101     0.142</td>\n",
       "</tr>\n",
       "<tr>\n",
       "  <th>months[[1, 2, 3, 4, 5, 6, 7, 8, 9, 11]][2]</th>                                                <td>    0.1780</td> <td>    0.011</td> <td>   15.757</td> <td> 0.000</td> <td>    0.156     0.200</td>\n",
       "</tr>\n",
       "<tr>\n",
       "  <th>months[[1, 2, 3, 4, 5, 6, 7, 8, 9, 11]][3]</th>                                                <td>    0.1744</td> <td>    0.013</td> <td>   13.436</td> <td> 0.000</td> <td>    0.149     0.200</td>\n",
       "</tr>\n",
       "<tr>\n",
       "  <th>months[[1, 2, 3, 4, 5, 6, 7, 8, 9, 11]][4]</th>                                                <td>    0.0693</td> <td>    0.015</td> <td>    4.716</td> <td> 0.000</td> <td>    0.040     0.098</td>\n",
       "</tr>\n",
       "<tr>\n",
       "  <th>months[[1, 2, 3, 4, 5, 6, 7, 8, 9, 11]][5]</th>                                                <td>    0.0114</td> <td>    0.016</td> <td>    0.707</td> <td> 0.479</td> <td>   -0.020     0.043</td>\n",
       "</tr>\n",
       "<tr>\n",
       "  <th>months[[1, 2, 3, 4, 5, 6, 7, 8, 9, 11]][6]</th>                                                <td>    0.0228</td> <td>    0.015</td> <td>    1.510</td> <td> 0.131</td> <td>   -0.007     0.052</td>\n",
       "</tr>\n",
       "<tr>\n",
       "  <th>months[[1, 2, 3, 4, 5, 6, 7, 8, 9, 11]][7]</th>                                                <td>    0.1108</td> <td>    0.013</td> <td>    8.237</td> <td> 0.000</td> <td>    0.084     0.137</td>\n",
       "</tr>\n",
       "<tr>\n",
       "  <th>months[[1, 2, 3, 4, 5, 6, 7, 8, 9, 11]][8]</th>                                                <td>    0.1842</td> <td>    0.011</td> <td>   16.055</td> <td> 0.000</td> <td>    0.162     0.207</td>\n",
       "</tr>\n",
       "<tr>\n",
       "  <th>months[[1, 2, 3, 4, 5, 6, 7, 8, 9, 11]][9]</th>                                                <td>    0.0050</td> <td>    0.010</td> <td>    0.486</td> <td> 0.627</td> <td>   -0.015     0.025</td>\n",
       "</tr>\n",
       "<tr>\n",
       "  <th>hour[[1, 2, 3, 4, 5, 6, 7, 8, 9, 10, 11, 12, 13, 14, 15, 16, 17, 18, 19, 20, 21, 22]][0]</th>  <td>   -0.2602</td> <td>    0.015</td> <td>  -17.922</td> <td> 0.000</td> <td>   -0.289    -0.232</td>\n",
       "</tr>\n",
       "<tr>\n",
       "  <th>hour[[1, 2, 3, 4, 5, 6, 7, 8, 9, 10, 11, 12, 13, 14, 15, 16, 17, 18, 19, 20, 21, 22]][1]</th>  <td>   -0.3837</td> <td>    0.015</td> <td>  -26.308</td> <td> 0.000</td> <td>   -0.412    -0.355</td>\n",
       "</tr>\n",
       "<tr>\n",
       "  <th>hour[[1, 2, 3, 4, 5, 6, 7, 8, 9, 10, 11, 12, 13, 14, 15, 16, 17, 18, 19, 20, 21, 22]][2]</th>  <td>   -0.5501</td> <td>    0.015</td> <td>  -37.375</td> <td> 0.000</td> <td>   -0.579    -0.521</td>\n",
       "</tr>\n",
       "<tr>\n",
       "  <th>hour[[1, 2, 3, 4, 5, 6, 7, 8, 9, 10, 11, 12, 13, 14, 15, 16, 17, 18, 19, 20, 21, 22]][3]</th>  <td>   -0.6614</td> <td>    0.015</td> <td>  -44.909</td> <td> 0.000</td> <td>   -0.690    -0.633</td>\n",
       "</tr>\n",
       "<tr>\n",
       "  <th>hour[[1, 2, 3, 4, 5, 6, 7, 8, 9, 10, 11, 12, 13, 14, 15, 16, 17, 18, 19, 20, 21, 22]][4]</th>  <td>   -0.6075</td> <td>    0.015</td> <td>  -41.609</td> <td> 0.000</td> <td>   -0.636    -0.579</td>\n",
       "</tr>\n",
       "<tr>\n",
       "  <th>hour[[1, 2, 3, 4, 5, 6, 7, 8, 9, 10, 11, 12, 13, 14, 15, 16, 17, 18, 19, 20, 21, 22]][5]</th>  <td>   -0.3001</td> <td>    0.015</td> <td>  -20.621</td> <td> 0.000</td> <td>   -0.329    -0.272</td>\n",
       "</tr>\n",
       "<tr>\n",
       "  <th>hour[[1, 2, 3, 4, 5, 6, 7, 8, 9, 10, 11, 12, 13, 14, 15, 16, 17, 18, 19, 20, 21, 22]][6]</th>  <td>    0.0521</td> <td>    0.015</td> <td>    3.589</td> <td> 0.000</td> <td>    0.024     0.081</td>\n",
       "</tr>\n",
       "<tr>\n",
       "  <th>hour[[1, 2, 3, 4, 5, 6, 7, 8, 9, 10, 11, 12, 13, 14, 15, 16, 17, 18, 19, 20, 21, 22]][7]</th>  <td>    0.3205</td> <td>    0.015</td> <td>   22.096</td> <td> 0.000</td> <td>    0.292     0.349</td>\n",
       "</tr>\n",
       "<tr>\n",
       "  <th>hour[[1, 2, 3, 4, 5, 6, 7, 8, 9, 10, 11, 12, 13, 14, 15, 16, 17, 18, 19, 20, 21, 22]][8]</th>  <td>    0.4128</td> <td>    0.015</td> <td>   28.463</td> <td> 0.000</td> <td>    0.384     0.441</td>\n",
       "</tr>\n",
       "<tr>\n",
       "  <th>hour[[1, 2, 3, 4, 5, 6, 7, 8, 9, 10, 11, 12, 13, 14, 15, 16, 17, 18, 19, 20, 21, 22]][9]</th>  <td>    0.5095</td> <td>    0.015</td> <td>   35.084</td> <td> 0.000</td> <td>    0.481     0.538</td>\n",
       "</tr>\n",
       "<tr>\n",
       "  <th>hour[[1, 2, 3, 4, 5, 6, 7, 8, 9, 10, 11, 12, 13, 14, 15, 16, 17, 18, 19, 20, 21, 22]][10]</th> <td>    0.5786</td> <td>    0.015</td> <td>   39.723</td> <td> 0.000</td> <td>    0.550     0.607</td>\n",
       "</tr>\n",
       "<tr>\n",
       "  <th>hour[[1, 2, 3, 4, 5, 6, 7, 8, 9, 10, 11, 12, 13, 14, 15, 16, 17, 18, 19, 20, 21, 22]][11]</th> <td>    0.6149</td> <td>    0.015</td> <td>   42.073</td> <td> 0.000</td> <td>    0.586     0.644</td>\n",
       "</tr>\n",
       "<tr>\n",
       "  <th>hour[[1, 2, 3, 4, 5, 6, 7, 8, 9, 10, 11, 12, 13, 14, 15, 16, 17, 18, 19, 20, 21, 22]][12]</th> <td>    0.6131</td> <td>    0.015</td> <td>   41.811</td> <td> 0.000</td> <td>    0.584     0.642</td>\n",
       "</tr>\n",
       "<tr>\n",
       "  <th>hour[[1, 2, 3, 4, 5, 6, 7, 8, 9, 10, 11, 12, 13, 14, 15, 16, 17, 18, 19, 20, 21, 22]][13]</th> <td>    0.6168</td> <td>    0.015</td> <td>   41.933</td> <td> 0.000</td> <td>    0.588     0.646</td>\n",
       "</tr>\n",
       "<tr>\n",
       "  <th>hour[[1, 2, 3, 4, 5, 6, 7, 8, 9, 10, 11, 12, 13, 14, 15, 16, 17, 18, 19, 20, 21, 22]][14]</th> <td>    0.6142</td> <td>    0.015</td> <td>   41.708</td> <td> 0.000</td> <td>    0.585     0.643</td>\n",
       "</tr>\n",
       "<tr>\n",
       "  <th>hour[[1, 2, 3, 4, 5, 6, 7, 8, 9, 10, 11, 12, 13, 14, 15, 16, 17, 18, 19, 20, 21, 22]][15]</th> <td>    0.6210</td> <td>    0.015</td> <td>   42.217</td> <td> 0.000</td> <td>    0.592     0.650</td>\n",
       "</tr>\n",
       "<tr>\n",
       "  <th>hour[[1, 2, 3, 4, 5, 6, 7, 8, 9, 10, 11, 12, 13, 14, 15, 16, 17, 18, 19, 20, 21, 22]][16]</th> <td>    0.6554</td> <td>    0.015</td> <td>   44.709</td> <td> 0.000</td> <td>    0.627     0.684</td>\n",
       "</tr>\n",
       "<tr>\n",
       "  <th>hour[[1, 2, 3, 4, 5, 6, 7, 8, 9, 10, 11, 12, 13, 14, 15, 16, 17, 18, 19, 20, 21, 22]][17]</th> <td>    0.5682</td> <td>    0.015</td> <td>   38.866</td> <td> 0.000</td> <td>    0.540     0.597</td>\n",
       "</tr>\n",
       "<tr>\n",
       "  <th>hour[[1, 2, 3, 4, 5, 6, 7, 8, 9, 10, 11, 12, 13, 14, 15, 16, 17, 18, 19, 20, 21, 22]][18]</th> <td>    0.4759</td> <td>    0.015</td> <td>   32.683</td> <td> 0.000</td> <td>    0.447     0.504</td>\n",
       "</tr>\n",
       "<tr>\n",
       "  <th>hour[[1, 2, 3, 4, 5, 6, 7, 8, 9, 10, 11, 12, 13, 14, 15, 16, 17, 18, 19, 20, 21, 22]][19]</th> <td>    0.3698</td> <td>    0.015</td> <td>   25.452</td> <td> 0.000</td> <td>    0.341     0.398</td>\n",
       "</tr>\n",
       "<tr>\n",
       "  <th>hour[[1, 2, 3, 4, 5, 6, 7, 8, 9, 10, 11, 12, 13, 14, 15, 16, 17, 18, 19, 20, 21, 22]][20]</th> <td>    0.2933</td> <td>    0.015</td> <td>   20.224</td> <td> 0.000</td> <td>    0.265     0.322</td>\n",
       "</tr>\n",
       "<tr>\n",
       "  <th>hour[[1, 2, 3, 4, 5, 6, 7, 8, 9, 10, 11, 12, 13, 14, 15, 16, 17, 18, 19, 20, 21, 22]][21]</th> <td>    0.2110</td> <td>    0.014</td> <td>   14.558</td> <td> 0.000</td> <td>    0.183     0.239</td>\n",
       "</tr>\n",
       "</table>\n",
       "<table class=\"simpletable\">\n",
       "<tr>\n",
       "  <th>Omnibus:</th>       <td>166.688</td> <th>  Durbin-Watson:     </th> <td>   0.670</td>\n",
       "</tr>\n",
       "<tr>\n",
       "  <th>Prob(Omnibus):</th> <td> 0.000</td>  <th>  Jarque-Bera (JB):  </th> <td> 186.779</td>\n",
       "</tr>\n",
       "<tr>\n",
       "  <th>Skew:</th>          <td>-0.198</td>  <th>  Prob(JB):          </th> <td>2.76e-41</td>\n",
       "</tr>\n",
       "<tr>\n",
       "  <th>Kurtosis:</th>      <td> 3.319</td>  <th>  Cond. No.          </th> <td>    91.7</td>\n",
       "</tr>\n",
       "</table>"
      ],
      "text/plain": [
       "<class 'statsmodels.iolib.summary.Summary'>\n",
       "\"\"\"\n",
       "                            OLS Regression Results                            \n",
       "==============================================================================\n",
       "Dep. Variable:           log_dep_var2   R-squared:                       0.757\n",
       "Model:                            OLS   Adj. R-squared:                  0.757\n",
       "Method:                 Least Squares   F-statistic:                     1504.\n",
       "Date:                Thu, 31 Aug 2017   Prob (F-statistic):               0.00\n",
       "Time:                        17:54:33   Log-Likelihood:                -4789.2\n",
       "No. Observations:               17379   AIC:                             9652.\n",
       "Df Residuals:                   17342   BIC:                             9940.\n",
       "Df Model:                          36                                         \n",
       "Covariance Type:            nonrobust                                         \n",
       "=============================================================================================================================================================\n",
       "                                                                                                coef    std err          t      P>|t|      [95.0% Conf. Int.]\n",
       "-------------------------------------------------------------------------------------------------------------------------------------------------------------\n",
       "Intercept                                                                                     0.3189      0.013     25.075      0.000         0.294     0.344\n",
       "temp                                                                                          1.2778      0.027     46.503      0.000         1.224     1.332\n",
       "weather[[1, 2, 3]][0]                                                                        -0.0663      0.006    -11.694      0.000        -0.077    -0.055\n",
       "weather[[1, 2, 3]][1]                                                                        -0.3712      0.009    -41.025      0.000        -0.389    -0.353\n",
       "weather[[1, 2, 3]][2]                                                                        -0.3847      0.184     -2.085      0.037        -0.746    -0.023\n",
       "months[[1, 2, 3, 4, 5, 6, 7, 8, 9, 11]][0]                                                   -0.0903      0.011     -8.552      0.000        -0.111    -0.070\n",
       "months[[1, 2, 3, 4, 5, 6, 7, 8, 9, 11]][1]                                                    0.1212      0.011     11.531      0.000         0.101     0.142\n",
       "months[[1, 2, 3, 4, 5, 6, 7, 8, 9, 11]][2]                                                    0.1780      0.011     15.757      0.000         0.156     0.200\n",
       "months[[1, 2, 3, 4, 5, 6, 7, 8, 9, 11]][3]                                                    0.1744      0.013     13.436      0.000         0.149     0.200\n",
       "months[[1, 2, 3, 4, 5, 6, 7, 8, 9, 11]][4]                                                    0.0693      0.015      4.716      0.000         0.040     0.098\n",
       "months[[1, 2, 3, 4, 5, 6, 7, 8, 9, 11]][5]                                                    0.0114      0.016      0.707      0.479        -0.020     0.043\n",
       "months[[1, 2, 3, 4, 5, 6, 7, 8, 9, 11]][6]                                                    0.0228      0.015      1.510      0.131        -0.007     0.052\n",
       "months[[1, 2, 3, 4, 5, 6, 7, 8, 9, 11]][7]                                                    0.1108      0.013      8.237      0.000         0.084     0.137\n",
       "months[[1, 2, 3, 4, 5, 6, 7, 8, 9, 11]][8]                                                    0.1842      0.011     16.055      0.000         0.162     0.207\n",
       "months[[1, 2, 3, 4, 5, 6, 7, 8, 9, 11]][9]                                                    0.0050      0.010      0.486      0.627        -0.015     0.025\n",
       "hour[[1, 2, 3, 4, 5, 6, 7, 8, 9, 10, 11, 12, 13, 14, 15, 16, 17, 18, 19, 20, 21, 22]][0]     -0.2602      0.015    -17.922      0.000        -0.289    -0.232\n",
       "hour[[1, 2, 3, 4, 5, 6, 7, 8, 9, 10, 11, 12, 13, 14, 15, 16, 17, 18, 19, 20, 21, 22]][1]     -0.3837      0.015    -26.308      0.000        -0.412    -0.355\n",
       "hour[[1, 2, 3, 4, 5, 6, 7, 8, 9, 10, 11, 12, 13, 14, 15, 16, 17, 18, 19, 20, 21, 22]][2]     -0.5501      0.015    -37.375      0.000        -0.579    -0.521\n",
       "hour[[1, 2, 3, 4, 5, 6, 7, 8, 9, 10, 11, 12, 13, 14, 15, 16, 17, 18, 19, 20, 21, 22]][3]     -0.6614      0.015    -44.909      0.000        -0.690    -0.633\n",
       "hour[[1, 2, 3, 4, 5, 6, 7, 8, 9, 10, 11, 12, 13, 14, 15, 16, 17, 18, 19, 20, 21, 22]][4]     -0.6075      0.015    -41.609      0.000        -0.636    -0.579\n",
       "hour[[1, 2, 3, 4, 5, 6, 7, 8, 9, 10, 11, 12, 13, 14, 15, 16, 17, 18, 19, 20, 21, 22]][5]     -0.3001      0.015    -20.621      0.000        -0.329    -0.272\n",
       "hour[[1, 2, 3, 4, 5, 6, 7, 8, 9, 10, 11, 12, 13, 14, 15, 16, 17, 18, 19, 20, 21, 22]][6]      0.0521      0.015      3.589      0.000         0.024     0.081\n",
       "hour[[1, 2, 3, 4, 5, 6, 7, 8, 9, 10, 11, 12, 13, 14, 15, 16, 17, 18, 19, 20, 21, 22]][7]      0.3205      0.015     22.096      0.000         0.292     0.349\n",
       "hour[[1, 2, 3, 4, 5, 6, 7, 8, 9, 10, 11, 12, 13, 14, 15, 16, 17, 18, 19, 20, 21, 22]][8]      0.4128      0.015     28.463      0.000         0.384     0.441\n",
       "hour[[1, 2, 3, 4, 5, 6, 7, 8, 9, 10, 11, 12, 13, 14, 15, 16, 17, 18, 19, 20, 21, 22]][9]      0.5095      0.015     35.084      0.000         0.481     0.538\n",
       "hour[[1, 2, 3, 4, 5, 6, 7, 8, 9, 10, 11, 12, 13, 14, 15, 16, 17, 18, 19, 20, 21, 22]][10]     0.5786      0.015     39.723      0.000         0.550     0.607\n",
       "hour[[1, 2, 3, 4, 5, 6, 7, 8, 9, 10, 11, 12, 13, 14, 15, 16, 17, 18, 19, 20, 21, 22]][11]     0.6149      0.015     42.073      0.000         0.586     0.644\n",
       "hour[[1, 2, 3, 4, 5, 6, 7, 8, 9, 10, 11, 12, 13, 14, 15, 16, 17, 18, 19, 20, 21, 22]][12]     0.6131      0.015     41.811      0.000         0.584     0.642\n",
       "hour[[1, 2, 3, 4, 5, 6, 7, 8, 9, 10, 11, 12, 13, 14, 15, 16, 17, 18, 19, 20, 21, 22]][13]     0.6168      0.015     41.933      0.000         0.588     0.646\n",
       "hour[[1, 2, 3, 4, 5, 6, 7, 8, 9, 10, 11, 12, 13, 14, 15, 16, 17, 18, 19, 20, 21, 22]][14]     0.6142      0.015     41.708      0.000         0.585     0.643\n",
       "hour[[1, 2, 3, 4, 5, 6, 7, 8, 9, 10, 11, 12, 13, 14, 15, 16, 17, 18, 19, 20, 21, 22]][15]     0.6210      0.015     42.217      0.000         0.592     0.650\n",
       "hour[[1, 2, 3, 4, 5, 6, 7, 8, 9, 10, 11, 12, 13, 14, 15, 16, 17, 18, 19, 20, 21, 22]][16]     0.6554      0.015     44.709      0.000         0.627     0.684\n",
       "hour[[1, 2, 3, 4, 5, 6, 7, 8, 9, 10, 11, 12, 13, 14, 15, 16, 17, 18, 19, 20, 21, 22]][17]     0.5682      0.015     38.866      0.000         0.540     0.597\n",
       "hour[[1, 2, 3, 4, 5, 6, 7, 8, 9, 10, 11, 12, 13, 14, 15, 16, 17, 18, 19, 20, 21, 22]][18]     0.4759      0.015     32.683      0.000         0.447     0.504\n",
       "hour[[1, 2, 3, 4, 5, 6, 7, 8, 9, 10, 11, 12, 13, 14, 15, 16, 17, 18, 19, 20, 21, 22]][19]     0.3698      0.015     25.452      0.000         0.341     0.398\n",
       "hour[[1, 2, 3, 4, 5, 6, 7, 8, 9, 10, 11, 12, 13, 14, 15, 16, 17, 18, 19, 20, 21, 22]][20]     0.2933      0.015     20.224      0.000         0.265     0.322\n",
       "hour[[1, 2, 3, 4, 5, 6, 7, 8, 9, 10, 11, 12, 13, 14, 15, 16, 17, 18, 19, 20, 21, 22]][21]     0.2110      0.014     14.558      0.000         0.183     0.239\n",
       "==============================================================================\n",
       "Omnibus:                      166.688   Durbin-Watson:                   0.670\n",
       "Prob(Omnibus):                  0.000   Jarque-Bera (JB):              186.779\n",
       "Skew:                          -0.198   Prob(JB):                     2.76e-41\n",
       "Kurtosis:                       3.319   Cond. No.                         91.7\n",
       "==============================================================================\n",
       "\n",
       "Warnings:\n",
       "[1] Standard Errors assume that the covariance matrix of the errors is correctly specified.\n",
       "\"\"\""
      ]
     },
     "execution_count": 39,
     "metadata": {},
     "output_type": "execute_result"
    }
   ],
   "source": [
    "log_dep_var = bike_data[\"casual\"]\n",
    "log_dep_var2 = np.log10(log_dep_var+1)\n",
    "rel_stat = smf.ols(formula = \"log_dep_var2 ~ temp + weather[[1,2,3]] + months[[1,2,3,4,5,6,7,8,9,11]] + hour[[1,2,3,4,5,6,7,8,9,10,11,12,13,14,15,16,17,18,19,20,21,22]]\", data=bike_data).fit()\n",
    "rel_stat.summary()"
   ]
  },
  {
   "cell_type": "markdown",
   "metadata": {
    "collapsed": true
   },
   "source": [
    "###Bonus:\n",
    "    \n",
    "We've completed a model that explains casual guest riders. Build another model, using a different y (outcome) variable: registered riders."
   ]
  },
  {
   "cell_type": "code",
   "execution_count": 40,
   "metadata": {
    "collapsed": false
   },
   "outputs": [
    {
     "name": "stdout",
     "output_type": "stream",
     "text": [
      "Index([u'instant', u'dteday', u'season', u'yr', u'mnth', u'hr', u'holiday',\n",
      "       u'weekday', u'workingday', u'weathersit', u'temp', u'atemp', u'hum',\n",
      "       u'windspeed', u'casual', u'registered', u'cnt', u'season_1',\n",
      "       u'season_2', u'season_3', u'season_4'],\n",
      "      dtype='object')\n",
      "            registered      temp  season_1  season_2  season_3\n",
      "registered    1.000000  0.335361 -0.213866  0.032345  0.124675\n",
      "temp          0.335361  1.000000 -0.583859  0.144363  0.642516\n",
      "season_1     -0.213866 -0.583859  1.000000 -0.331312 -0.335693\n",
      "season_2      0.032345  0.144363 -0.331312  1.000000 -0.344433\n",
      "season_3      0.124675  0.642516 -0.335693 -0.344433  1.000000\n",
      "Axes(0.125,0.125;0.62x0.755)\n"
     ]
    },
    {
     "data": {
      "image/png": "[encoded data removed]",
      "text/plain": [
       "<matplotlib.figure.Figure at 0x121b20cd0>"
      ]
     },
     "metadata": {},
     "output_type": "display_data"
    }
   ],
   "source": [
    "seasonal = pd.get_dummies(bike_data.season)\n",
    "\n",
    "seasonal.columns = [\"season_\"+ str(a) for a in seasonal.columns]\n",
    "\n",
    "bikemodel_data = bike_data.join(seasonal)\n",
    "print(bikemodel_data.columns)\n",
    "\n",
    "columns_to_keep_2 = [\"registered\",\"temp\", \"season_1\",\"season_2\", \"season_3\"]\n",
    "\n",
    "cmap_2 = sns.diverging_palette(220,10,as_cmap = True)\n",
    "correlations_2 = bikemodel_data[columns_to_keep_2].corr()\n",
    "\n",
    "print(correlations_2)\n",
    "print sns.heatmap(correlations_2, cmap = cmap_2)"
   ]
  },
  {
   "cell_type": "code",
   "execution_count": 41,
   "metadata": {
    "collapsed": false
   },
   "outputs": [
    {
     "name": "stdout",
     "output_type": "stream",
     "text": [
      "Index([u'instant', u'dteday', u'season', u'yr', u'mnth', u'hr', u'holiday',\n",
      "       u'weekday', u'workingday', u'weathersit', u'temp', u'atemp', u'hum',\n",
      "       u'windspeed', u'casual', u'registered', u'cnt', u'mnth_1', u'mnth_2',\n",
      "       u'mnth_3', u'mnth_4', u'mnth_5', u'mnth_6', u'mnth_7', u'mnth_8',\n",
      "       u'mnth_9', u'mnth_10', u'mnth_11', u'mnth_12'],\n",
      "      dtype='object')\n",
      "            registered      temp    mnth_1    mnth_2    mnth_3    mnth_4  \\\n",
      "registered    1.000000  0.335361 -0.134061 -0.099499 -0.057400 -0.017531   \n",
      "temp          0.335361  1.000000 -0.403142 -0.295510 -0.167659 -0.042047   \n",
      "mnth_1       -0.134061 -0.403142  1.000000 -0.086552 -0.091087 -0.089865   \n",
      "mnth_2       -0.099499 -0.295510 -0.086552  1.000000 -0.087995 -0.086815   \n",
      "mnth_3       -0.057400 -0.167659 -0.091087 -0.087995  1.000000 -0.091365   \n",
      "mnth_4       -0.017531 -0.042047 -0.089865 -0.086815 -0.091365  1.000000   \n",
      "mnth_5        0.037455  0.155442 -0.091593 -0.088484 -0.093121 -0.091872   \n",
      "mnth_6        0.070311  0.292081 -0.089968 -0.086914 -0.091469 -0.090242   \n",
      "mnth_7        0.051572  0.410784 -0.091593 -0.088484 -0.093121 -0.091872   \n",
      "mnth_8        0.071371  0.334854 -0.091155 -0.088061 -0.092675 -0.091432   \n",
      "mnth_9        0.075476  0.186359 -0.089865 -0.086815 -0.091365 -0.090139   \n",
      "mnth_10       0.054214 -0.015371 -0.090342 -0.087276 -0.091849 -0.090617   \n",
      "mnth_11      -0.003815 -0.199251 -0.089865 -0.086815 -0.091365 -0.090139   \n",
      "\n",
      "              mnth_5    mnth_6    mnth_7    mnth_8    mnth_9   mnth_10  \\\n",
      "registered  0.037455  0.070311  0.051572  0.071371  0.075476  0.054214   \n",
      "temp        0.155442  0.292081  0.410784  0.334854  0.186359 -0.015371   \n",
      "mnth_1     -0.091593 -0.089968 -0.091593 -0.091155 -0.089865 -0.090342   \n",
      "mnth_2     -0.088484 -0.086914 -0.088484 -0.088061 -0.086815 -0.087276   \n",
      "mnth_3     -0.093121 -0.091469 -0.093121 -0.092675 -0.091365 -0.091849   \n",
      "mnth_4     -0.091872 -0.090242 -0.091872 -0.091432 -0.090139 -0.090617   \n",
      "mnth_5      1.000000 -0.091976 -0.093638 -0.093190 -0.091872 -0.092359   \n",
      "mnth_6     -0.091976  1.000000 -0.091976 -0.091536 -0.090242 -0.090720   \n",
      "mnth_7     -0.093638 -0.091976  1.000000 -0.093190 -0.091872 -0.092359   \n",
      "mnth_8     -0.093190 -0.091536 -0.093190  1.000000 -0.091432 -0.091917   \n",
      "mnth_9     -0.091872 -0.090242 -0.091872 -0.091432  1.000000 -0.090617   \n",
      "mnth_10    -0.092359 -0.090720 -0.092359 -0.091917 -0.090617  1.000000   \n",
      "mnth_11    -0.091872 -0.090242 -0.091872 -0.091432 -0.090139 -0.090617   \n",
      "\n",
      "             mnth_11  \n",
      "registered -0.003815  \n",
      "temp       -0.199251  \n",
      "mnth_1     -0.089865  \n",
      "mnth_2     -0.086815  \n",
      "mnth_3     -0.091365  \n",
      "mnth_4     -0.090139  \n",
      "mnth_5     -0.091872  \n",
      "mnth_6     -0.090242  \n",
      "mnth_7     -0.091872  \n",
      "mnth_8     -0.091432  \n",
      "mnth_9     -0.090139  \n",
      "mnth_10    -0.090617  \n",
      "mnth_11     1.000000  \n",
      "Axes(0.125,0.125;0.62x0.755)\n"
     ]
    },
    {
     "data": {
      "image/png": "[encoded data removed]",
      "text/plain": [
       "<matplotlib.figure.Figure at 0x121c63150>"
      ]
     },
     "metadata": {},
     "output_type": "display_data"
    }
   ],
   "source": [
    "months = pd.get_dummies(bike_data.mnth)\n",
    "months.columns = [\"mnth_\" + str(b) for b in months.columns]\n",
    "bikemodel_data = bike_data.join(months)\n",
    "print(bikemodel_data.columns)\n",
    "\n",
    "columns_to_keep_3 = [\"registered\",\"temp\",\"mnth_1\", \"mnth_2\", \"mnth_3\", \"mnth_4\", \"mnth_5\", \"mnth_6\", \"mnth_7\", \"mnth_8\", \"mnth_9\", \"mnth_10\", \"mnth_11\"]\n",
    "\n",
    "cmap_3 = sns.diverging_palette(220,10, as_cmap = True)\n",
    "correlations_3 = bikemodel_data[columns_to_keep_3].corr()\n",
    "\n",
    "print(correlations_3)\n",
    "print sns.heatmap(correlations_3,cmap = cmap_3)"
   ]
  },
  {
   "cell_type": "code",
   "execution_count": 42,
   "metadata": {
    "collapsed": false
   },
   "outputs": [
    {
     "name": "stdout",
     "output_type": "stream",
     "text": [
      "Index([u'instant', u'dteday', u'season', u'yr', u'mnth', u'hr', u'holiday',\n",
      "       u'weekday', u'workingday', u'weathersit', u'temp', u'atemp', u'hum',\n",
      "       u'windspeed', u'casual', u'registered', u'cnt', u'hr_0', u'hr_1',\n",
      "       u'hr_2', u'hr_3', u'hr_4', u'hr_5', u'hr_6', u'hr_7', u'hr_8', u'hr_9',\n",
      "       u'hr_10', u'hr_11', u'hr_12', u'hr_13', u'hr_14', u'hr_15', u'hr_16',\n",
      "       u'hr_17', u'hr_18', u'hr_19', u'hr_20', u'hr_21', u'hr_22', u'hr_23'],\n",
      "      dtype='object')\n",
      "            registered      temp      hr_0      hr_1      hr_2      hr_4  \\\n",
      "registered    1.000000  0.335361 -0.151813 -0.174832 -0.185702 -0.200806   \n",
      "temp          0.335361  1.000000 -0.032072 -0.040738 -0.045627 -0.053459   \n",
      "hr_0         -0.151813 -0.032072  1.000000 -0.043533 -0.043250 -0.042679   \n",
      "hr_1         -0.174832 -0.040738 -0.043533  1.000000 -0.043188 -0.042618   \n",
      "hr_2         -0.185702 -0.045627 -0.043250 -0.043188  1.000000 -0.042340   \n",
      "hr_4         -0.200806 -0.053459 -0.042679 -0.042618 -0.042340  1.000000   \n",
      "hr_5         -0.185451 -0.065571 -0.043313 -0.043251 -0.042969 -0.042402   \n",
      "hr_6         -0.112908 -0.069911 -0.043564 -0.043502 -0.043219 -0.042648   \n",
      "hr_7          0.065192 -0.062825 -0.043627 -0.043564 -0.043281 -0.042710   \n",
      "hr_8          0.253387 -0.045570 -0.043627 -0.043564 -0.043281 -0.042710   \n",
      "hr_9          0.047809 -0.021986 -0.043627 -0.043564 -0.043281 -0.042710   \n",
      "hr_10        -0.036716  0.003896 -0.043627 -0.043564 -0.043281 -0.042710   \n",
      "hr_11        -0.007157  0.027808 -0.043627 -0.043564 -0.043281 -0.042710   \n",
      "hr_12         0.043152  0.047007 -0.043658 -0.043596 -0.043312 -0.042740   \n",
      "hr_13         0.038110  0.062752 -0.043690 -0.043627 -0.043343 -0.042771   \n",
      "hr_14         0.016029  0.073992 -0.043690 -0.043627 -0.043343 -0.042771   \n",
      "hr_15         0.031163  0.077838 -0.043690 -0.043627 -0.043343 -0.042771   \n",
      "hr_16         0.116838  0.073918 -0.043721 -0.043658 -0.043374 -0.042802   \n",
      "hr_17         0.322895  0.062626 -0.043721 -0.043658 -0.043374 -0.042802   \n",
      "hr_18         0.290951  0.047992 -0.043658 -0.043596 -0.043312 -0.042740   \n",
      "hr_19         0.150538  0.029525 -0.043658 -0.043596 -0.043312 -0.042740   \n",
      "hr_20         0.049748  0.012609 -0.043658 -0.043596 -0.043312 -0.042740   \n",
      "hr_21        -0.013439 -0.001830 -0.043658 -0.043596 -0.043312 -0.042740   \n",
      "hr_22        -0.061760 -0.013554 -0.043658 -0.043596 -0.043312 -0.042740   \n",
      "\n",
      "                hr_5      hr_6      hr_7      hr_8    ...        hr_13  \\\n",
      "registered -0.185451 -0.112908  0.065192  0.253387    ...     0.038110   \n",
      "temp       -0.065571 -0.069911 -0.062825 -0.045570    ...     0.062752   \n",
      "hr_0       -0.043313 -0.043564 -0.043627 -0.043627    ...    -0.043690   \n",
      "hr_1       -0.043251 -0.043502 -0.043564 -0.043564    ...    -0.043627   \n",
      "hr_2       -0.042969 -0.043219 -0.043281 -0.043281    ...    -0.043343   \n",
      "hr_4       -0.042402 -0.042648 -0.042710 -0.042710    ...    -0.042771   \n",
      "hr_5        1.000000 -0.043282 -0.043344 -0.043344    ...    -0.043406   \n",
      "hr_6       -0.043282  1.000000 -0.043596 -0.043596    ...    -0.043658   \n",
      "hr_7       -0.043344 -0.043596  1.000000 -0.043658    ...    -0.043721   \n",
      "hr_8       -0.043344 -0.043596 -0.043658  1.000000    ...    -0.043721   \n",
      "hr_9       -0.043344 -0.043596 -0.043658 -0.043658    ...    -0.043721   \n",
      "hr_10      -0.043344 -0.043596 -0.043658 -0.043658    ...    -0.043721   \n",
      "hr_11      -0.043344 -0.043596 -0.043658 -0.043658    ...    -0.043721   \n",
      "hr_12      -0.043375 -0.043627 -0.043690 -0.043690    ...    -0.043752   \n",
      "hr_13      -0.043406 -0.043658 -0.043721 -0.043721    ...     1.000000   \n",
      "hr_14      -0.043406 -0.043658 -0.043721 -0.043721    ...    -0.043784   \n",
      "hr_15      -0.043406 -0.043658 -0.043721 -0.043721    ...    -0.043784   \n",
      "hr_16      -0.043437 -0.043690 -0.043752 -0.043752    ...    -0.043815   \n",
      "hr_17      -0.043437 -0.043690 -0.043752 -0.043752    ...    -0.043815   \n",
      "hr_18      -0.043375 -0.043627 -0.043690 -0.043690    ...    -0.043752   \n",
      "hr_19      -0.043375 -0.043627 -0.043690 -0.043690    ...    -0.043752   \n",
      "hr_20      -0.043375 -0.043627 -0.043690 -0.043690    ...    -0.043752   \n",
      "hr_21      -0.043375 -0.043627 -0.043690 -0.043690    ...    -0.043752   \n",
      "hr_22      -0.043375 -0.043627 -0.043690 -0.043690    ...    -0.043752   \n",
      "\n",
      "               hr_14     hr_15     hr_16     hr_17     hr_18     hr_19  \\\n",
      "registered  0.016029  0.031163  0.116838  0.322895  0.290951  0.150538   \n",
      "temp        0.073992  0.077838  0.073918  0.062626  0.047992  0.029525   \n",
      "hr_0       -0.043690 -0.043690 -0.043721 -0.043721 -0.043658 -0.043658   \n",
      "hr_1       -0.043627 -0.043627 -0.043658 -0.043658 -0.043596 -0.043596   \n",
      "hr_2       -0.043343 -0.043343 -0.043374 -0.043374 -0.043312 -0.043312   \n",
      "hr_4       -0.042771 -0.042771 -0.042802 -0.042802 -0.042740 -0.042740   \n",
      "hr_5       -0.043406 -0.043406 -0.043437 -0.043437 -0.043375 -0.043375   \n",
      "hr_6       -0.043658 -0.043658 -0.043690 -0.043690 -0.043627 -0.043627   \n",
      "hr_7       -0.043721 -0.043721 -0.043752 -0.043752 -0.043690 -0.043690   \n",
      "hr_8       -0.043721 -0.043721 -0.043752 -0.043752 -0.043690 -0.043690   \n",
      "hr_9       -0.043721 -0.043721 -0.043752 -0.043752 -0.043690 -0.043690   \n",
      "hr_10      -0.043721 -0.043721 -0.043752 -0.043752 -0.043690 -0.043690   \n",
      "hr_11      -0.043721 -0.043721 -0.043752 -0.043752 -0.043690 -0.043690   \n",
      "hr_12      -0.043752 -0.043752 -0.043784 -0.043784 -0.043721 -0.043721   \n",
      "hr_13      -0.043784 -0.043784 -0.043815 -0.043815 -0.043752 -0.043752   \n",
      "hr_14       1.000000 -0.043784 -0.043815 -0.043815 -0.043752 -0.043752   \n",
      "hr_15      -0.043784  1.000000 -0.043815 -0.043815 -0.043752 -0.043752   \n",
      "hr_16      -0.043815 -0.043815  1.000000 -0.043846 -0.043784 -0.043784   \n",
      "hr_17      -0.043815 -0.043815 -0.043846  1.000000 -0.043784 -0.043784   \n",
      "hr_18      -0.043752 -0.043752 -0.043784 -0.043784  1.000000 -0.043721   \n",
      "hr_19      -0.043752 -0.043752 -0.043784 -0.043784 -0.043721  1.000000   \n",
      "hr_20      -0.043752 -0.043752 -0.043784 -0.043784 -0.043721 -0.043721   \n",
      "hr_21      -0.043752 -0.043752 -0.043784 -0.043784 -0.043721 -0.043721   \n",
      "hr_22      -0.043752 -0.043752 -0.043784 -0.043784 -0.043721 -0.043721   \n",
      "\n",
      "               hr_20     hr_21     hr_22  \n",
      "registered  0.049748 -0.013439 -0.061760  \n",
      "temp        0.012609 -0.001830 -0.013554  \n",
      "hr_0       -0.043658 -0.043658 -0.043658  \n",
      "hr_1       -0.043596 -0.043596 -0.043596  \n",
      "hr_2       -0.043312 -0.043312 -0.043312  \n",
      "hr_4       -0.042740 -0.042740 -0.042740  \n",
      "hr_5       -0.043375 -0.043375 -0.043375  \n",
      "hr_6       -0.043627 -0.043627 -0.043627  \n",
      "hr_7       -0.043690 -0.043690 -0.043690  \n",
      "hr_8       -0.043690 -0.043690 -0.043690  \n",
      "hr_9       -0.043690 -0.043690 -0.043690  \n",
      "hr_10      -0.043690 -0.043690 -0.043690  \n",
      "hr_11      -0.043690 -0.043690 -0.043690  \n",
      "hr_12      -0.043721 -0.043721 -0.043721  \n",
      "hr_13      -0.043752 -0.043752 -0.043752  \n",
      "hr_14      -0.043752 -0.043752 -0.043752  \n",
      "hr_15      -0.043752 -0.043752 -0.043752  \n",
      "hr_16      -0.043784 -0.043784 -0.043784  \n",
      "hr_17      -0.043784 -0.043784 -0.043784  \n",
      "hr_18      -0.043721 -0.043721 -0.043721  \n",
      "hr_19      -0.043721 -0.043721 -0.043721  \n",
      "hr_20       1.000000 -0.043721 -0.043721  \n",
      "hr_21      -0.043721  1.000000 -0.043721  \n",
      "hr_22      -0.043721 -0.043721  1.000000  \n",
      "\n",
      "[24 rows x 24 columns]\n",
      "Axes(0.125,0.125;0.62x0.755)\n"
     ]
    },
    {
     "data": {
      "image/png": "[encoded data removed]",
      "text/plain": [
       "<matplotlib.figure.Figure at 0x11f915510>"
      ]
     },
     "metadata": {},
     "output_type": "display_data"
    }
   ],
   "source": [
    "hour = pd.get_dummies(bike_data.hr)\n",
    "hour.columns = [\"hr_\"+ str(c) for c in hour.columns]\n",
    "bikemodel_data = bike_data.join(hour)\n",
    "\n",
    "print(bikemodel_data.columns)\n",
    "\n",
    "columns_to_keep_4 = [\"registered\",\"temp\", \"hr_0\", \"hr_1\", \"hr_2\", \"hr_4\", \"hr_5\", \"hr_6\", \"hr_7\", \"hr_8\", \"hr_9\", \"hr_10\", \"hr_11\", \"hr_12\", \"hr_13\", \"hr_14\", \"hr_15\", \"hr_16\", \"hr_17\", \"hr_18\", \"hr_19\", \"hr_20\", \"hr_21\", \"hr_22\"]\n",
    "\n",
    "cmap_4 = sns.diverging_palette(220, 10, as_cmap = True)\n",
    "correlations_4 = bikemodel_data[columns_to_keep_4].corr()\n",
    " \n",
    "print(correlations_4)\n",
    "print sns.heatmap(correlations_4, cmap = cmap_4)\n",
    "                                "
   ]
  },
  {
   "cell_type": "code",
   "execution_count": 43,
   "metadata": {
    "collapsed": false
   },
   "outputs": [
    {
     "name": "stdout",
     "output_type": "stream",
     "text": [
      "Index([u'instant', u'dteday', u'season', u'yr', u'mnth', u'hr', u'holiday',\n",
      "       u'weekday', u'workingday', u'weathersit', u'temp', u'atemp', u'hum',\n",
      "       u'windspeed', u'casual', u'registered', u'cnt', u'holiday_0',\n",
      "       u'holiday_1'],\n",
      "      dtype='object')\n",
      "            registered      temp  holiday_0\n",
      "registered    1.000000  0.335361   0.047345\n",
      "temp          0.335361  1.000000   0.027340\n",
      "holiday_0     0.047345  0.027340   1.000000\n",
      "Axes(0.125,0.125;0.62x0.755)\n"
     ]
    },
    {
     "data": {
      "image/png": "[encoded data removed]",
      "text/plain": [
       "<matplotlib.figure.Figure at 0x122aebed0>"
      ]
     },
     "metadata": {},
     "output_type": "display_data"
    }
   ],
   "source": [
    "holidays = pd.get_dummies(bike_data.holiday)\n",
    "holidays.columns = [\"holiday_\"+ str(c) for c in holidays.columns]\n",
    "\n",
    "bikemodel_data = bike_data.join(holidays)\n",
    "\n",
    "print(bikemodel_data.columns)\n",
    "\n",
    "columns_to_keep_5 = [\"registered\",\"temp\", \"holiday_0\"]\n",
    "cmap_5 = sns.diverging_palette(220,10, as_cmap = True)\n",
    "\n",
    "correlations_5 = bikemodel_data[columns_to_keep_5].corr()\n",
    "\n",
    "print(correlations_5)\n",
    "print sns.heatmap(correlations_5, cmap = cmap_5)\n",
    "\n"
   ]
  },
  {
   "cell_type": "code",
   "execution_count": 44,
   "metadata": {
    "collapsed": false
   },
   "outputs": [
    {
     "name": "stdout",
     "output_type": "stream",
     "text": [
      "Index([u'instant', u'dteday', u'season', u'yr', u'mnth', u'hr', u'holiday',\n",
      "       u'weekday', u'workingday', u'weathersit', u'temp', u'atemp', u'hum',\n",
      "       u'windspeed', u'casual', u'registered', u'cnt', u'weekday_0',\n",
      "       u'weekday_1', u'weekday_2', u'weekday_3', u'weekday_4', u'weekday_5',\n",
      "       u'weekday_6'],\n",
      "      dtype='object')\n",
      "            registered      temp  weekday_6  weekday_1  weekday_2  weekday_3  \\\n",
      "registered    1.000000  0.335361  -0.067418   0.003785   0.037154   0.038191   \n",
      "temp          0.335361  1.000000  -0.032321  -0.004111   0.024384   0.020502   \n",
      "weekday_6    -0.067418 -0.032321   1.000000  -0.167665  -0.166638  -0.167508   \n",
      "weekday_1     0.003785 -0.004111  -0.167665   1.000000  -0.165357  -0.166219   \n",
      "weekday_2     0.037154  0.024384  -0.166638  -0.165357   1.000000  -0.165201   \n",
      "weekday_3     0.038191  0.020502  -0.167508  -0.166219  -0.165201   1.000000   \n",
      "weekday_4     0.047819  0.021208  -0.167350  -0.166063  -0.165046  -0.165906   \n",
      "weekday_5     0.029404 -0.001184  -0.167981  -0.166689  -0.165668  -0.166532   \n",
      "\n",
      "            weekday_4  weekday_5  \n",
      "registered   0.047819   0.029404  \n",
      "temp         0.021208  -0.001184  \n",
      "weekday_6   -0.167350  -0.167981  \n",
      "weekday_1   -0.166063  -0.166689  \n",
      "weekday_2   -0.165046  -0.165668  \n",
      "weekday_3   -0.165906  -0.166532  \n",
      "weekday_4    1.000000  -0.166375  \n",
      "weekday_5   -0.166375   1.000000  \n",
      "Axes(0.125,0.125;0.62x0.755)\n"
     ]
    },
    {
     "data": {
      "image/png": "[encoded data removed]",
      "text/plain": [
       "<matplotlib.figure.Figure at 0x122a12c10>"
      ]
     },
     "metadata": {},
     "output_type": "display_data"
    }
   ],
   "source": [
    "weekdays = pd.get_dummies(bike_data.weekday)\n",
    "weekdays.columns = [\"weekday_\" + str(d) for d in weekdays.columns]\n",
    "\n",
    "bikemodel_data = bike_data.join(weekdays)\n",
    "print(bikemodel_data.columns)\n",
    "\n",
    "columns_to_keep_6 = [\"registered\",\"temp\", \"weekday_6\", \"weekday_1\", \"weekday_2\", \"weekday_3\", \"weekday_4\", \"weekday_5\"]\n",
    "\n",
    "cmap_6 = sns.diverging_palette(220,10, as_cmap = True)\n",
    "correlations_6 = bikemodel_data[columns_to_keep_6].corr()\n",
    "\n",
    "print correlations_6\n",
    "\n",
    "m = sns.heatmap(correlations_6, cmap = cmap_6)\n",
    "print m\n",
    "for item in m.get_xticklabels():\n",
    "    item.set_rotation(45)\n",
    "\n"
   ]
  },
  {
   "cell_type": "code",
   "execution_count": 45,
   "metadata": {
    "collapsed": false
   },
   "outputs": [
    {
     "name": "stdout",
     "output_type": "stream",
     "text": [
      "Index([u'instant', u'dteday', u'season', u'yr', u'mnth', u'hr', u'holiday',\n",
      "       u'weekday', u'workingday', u'weathersit', u'temp', u'atemp', u'hum',\n",
      "       u'windspeed', u'casual', u'registered', u'cnt', u'workingday_0',\n",
      "       u'workingday_1'],\n",
      "      dtype='object')\n",
      "              registered      temp  workingday_1\n",
      "registered      1.000000  0.335361      0.134326\n",
      "temp            0.335361  1.000000      0.055390\n",
      "workingday_1    0.134326  0.055390      1.000000\n",
      "Axes(0.125,0.125;0.62x0.755)\n"
     ]
    },
    {
     "data": {
      "image/png": "[encoded data removed]",
      "text/plain": [
       "<matplotlib.figure.Figure at 0x12133d750>"
      ]
     },
     "metadata": {},
     "output_type": "display_data"
    }
   ],
   "source": [
    "workday = pd.get_dummies(bike_data.workingday)\n",
    "workday.columns = [\"workingday_\"+ str(e) for e in workday.columns]\n",
    "\n",
    "bikemodel_data = bike_data.join(workday)\n",
    "\n",
    "print(bikemodel_data.columns)\n",
    "\n",
    "cmap_7 = sns.diverging_palette(220,10, as_cmap = True)\n",
    "\n",
    "columns_to_keep_7 = [\"registered\",\"temp\", \"workingday_1\"]\n",
    "\n",
    "correlations_7 = bikemodel_data[columns_to_keep_7].corr()\n",
    "\n",
    "print(correlations_7)\n",
    "print sns.heatmap(correlations_7, cmap = cmap_7)\n",
    "\n",
    "\n"
   ]
  },
  {
   "cell_type": "markdown",
   "metadata": {},
   "source": [
    "Bonus 1: What's the strongest predictor? "
   ]
  },
  {
   "cell_type": "markdown",
   "metadata": {},
   "source": [
    "The strongest predictor for registered riders is the temperature."
   ]
  },
  {
   "cell_type": "markdown",
   "metadata": {},
   "source": [
    "Bonus 2: How well did your model do? "
   ]
  },
  {
   "cell_type": "code",
   "execution_count": 138,
   "metadata": {
    "collapsed": false
   },
   "outputs": [
    {
     "data": {
      "text/html": [
       "<table class=\"simpletable\">\n",
       "<caption>OLS Regression Results</caption>\n",
       "<tr>\n",
       "  <th>Dep. Variable:</th>       <td>registered</td>    <th>  R-squared:         </th>  <td>   0.594</td>  \n",
       "</tr>\n",
       "<tr>\n",
       "  <th>Model:</th>                   <td>OLS</td>       <th>  Adj. R-squared:    </th>  <td>   0.593</td>  \n",
       "</tr>\n",
       "<tr>\n",
       "  <th>Method:</th>             <td>Least Squares</td>  <th>  F-statistic:       </th>  <td>   705.7</td>  \n",
       "</tr>\n",
       "<tr>\n",
       "  <th>Date:</th>             <td>Thu, 31 Aug 2017</td> <th>  Prob (F-statistic):</th>   <td>  0.00</td>   \n",
       "</tr>\n",
       "<tr>\n",
       "  <th>Time:</th>                 <td>00:32:37</td>     <th>  Log-Likelihood:    </th> <td>-1.0406e+05</td>\n",
       "</tr>\n",
       "<tr>\n",
       "  <th>No. Observations:</th>      <td> 17379</td>      <th>  AIC:               </th>  <td>2.082e+05</td> \n",
       "</tr>\n",
       "<tr>\n",
       "  <th>Df Residuals:</th>          <td> 17342</td>      <th>  BIC:               </th>  <td>2.085e+05</td> \n",
       "</tr>\n",
       "<tr>\n",
       "  <th>Df Model:</th>              <td>    36</td>      <th>                     </th>      <td> </td>     \n",
       "</tr>\n",
       "<tr>\n",
       "  <th>Covariance Type:</th>      <td>nonrobust</td>    <th>                     </th>      <td> </td>     \n",
       "</tr>\n",
       "</table>\n",
       "<table class=\"simpletable\">\n",
       "<tr>\n",
       "                                              <td></td>                                                 <th>coef</th>     <th>std err</th>      <th>t</th>      <th>P>|t|</th> <th>[95.0% Conf. Int.]</th> \n",
       "</tr>\n",
       "<tr>\n",
       "  <th>Intercept</th>                                                                                 <td>  -35.6456</td> <td>    3.846</td> <td>   -9.268</td> <td> 0.000</td> <td>  -43.185   -28.107</td>\n",
       "</tr>\n",
       "<tr>\n",
       "  <th>temp</th>                                                                                      <td>  238.1588</td> <td>    8.310</td> <td>   28.658</td> <td> 0.000</td> <td>  221.870   254.448</td>\n",
       "</tr>\n",
       "<tr>\n",
       "  <th>weather[[1, 2, 3]][0]</th>                                                                     <td>  -11.2788</td> <td>    1.714</td> <td>   -6.582</td> <td> 0.000</td> <td>  -14.637    -7.920</td>\n",
       "</tr>\n",
       "<tr>\n",
       "  <th>weather[[1, 2, 3]][1]</th>                                                                     <td>  -67.3837</td> <td>    2.737</td> <td>  -24.622</td> <td> 0.000</td> <td>  -72.748   -62.019</td>\n",
       "</tr>\n",
       "<tr>\n",
       "  <th>weather[[1, 2, 3]][2]</th>                                                                     <td>  -77.0308</td> <td>   55.795</td> <td>   -1.381</td> <td> 0.167</td> <td> -186.395    32.333</td>\n",
       "</tr>\n",
       "<tr>\n",
       "  <th>months[[1, 2, 3, 4, 5, 6, 7, 8, 9, 11]][0]</th>                                                <td>  -15.9712</td> <td>    3.195</td> <td>   -4.999</td> <td> 0.000</td> <td>  -22.233    -9.709</td>\n",
       "</tr>\n",
       "<tr>\n",
       "  <th>months[[1, 2, 3, 4, 5, 6, 7, 8, 9, 11]][1]</th>                                                <td>  -13.2450</td> <td>    3.179</td> <td>   -4.166</td> <td> 0.000</td> <td>  -19.477    -7.013</td>\n",
       "</tr>\n",
       "<tr>\n",
       "  <th>months[[1, 2, 3, 4, 5, 6, 7, 8, 9, 11]][2]</th>                                                <td>  -11.0256</td> <td>    3.417</td> <td>   -3.227</td> <td> 0.001</td> <td>  -17.724    -4.328</td>\n",
       "</tr>\n",
       "<tr>\n",
       "  <th>months[[1, 2, 3, 4, 5, 6, 7, 8, 9, 11]][3]</th>                                                <td>  -13.1619</td> <td>    3.926</td> <td>   -3.352</td> <td> 0.001</td> <td>  -20.858    -5.466</td>\n",
       "</tr>\n",
       "<tr>\n",
       "  <th>months[[1, 2, 3, 4, 5, 6, 7, 8, 9, 11]][4]</th>                                                <td>  -21.5421</td> <td>    4.445</td> <td>   -4.846</td> <td> 0.000</td> <td>  -30.255   -12.829</td>\n",
       "</tr>\n",
       "<tr>\n",
       "  <th>months[[1, 2, 3, 4, 5, 6, 7, 8, 9, 11]][5]</th>                                                <td>  -49.2271</td> <td>    4.864</td> <td>  -10.120</td> <td> 0.000</td> <td>  -58.762   -39.693</td>\n",
       "</tr>\n",
       "<tr>\n",
       "  <th>months[[1, 2, 3, 4, 5, 6, 7, 8, 9, 11]][6]</th>                                                <td>  -26.9764</td> <td>    4.575</td> <td>   -5.897</td> <td> 0.000</td> <td>  -35.944   -18.009</td>\n",
       "</tr>\n",
       "<tr>\n",
       "  <th>months[[1, 2, 3, 4, 5, 6, 7, 8, 9, 11]][7]</th>                                                <td>    1.4160</td> <td>    4.068</td> <td>    0.348</td> <td> 0.728</td> <td>   -6.558     9.390</td>\n",
       "</tr>\n",
       "<tr>\n",
       "  <th>months[[1, 2, 3, 4, 5, 6, 7, 8, 9, 11]][8]</th>                                                <td>   22.0531</td> <td>    3.470</td> <td>    6.355</td> <td> 0.000</td> <td>   15.251    28.855</td>\n",
       "</tr>\n",
       "<tr>\n",
       "  <th>months[[1, 2, 3, 4, 5, 6, 7, 8, 9, 11]][9]</th>                                                <td>    6.5839</td> <td>    3.096</td> <td>    2.127</td> <td> 0.033</td> <td>    0.516    12.652</td>\n",
       "</tr>\n",
       "<tr>\n",
       "  <th>hour[[1, 2, 3, 4, 5, 6, 7, 8, 9, 10, 11, 12, 13, 14, 15, 16, 17, 18, 19, 20, 21, 22]][0]</th>  <td>  -28.7864</td> <td>    4.391</td> <td>   -6.555</td> <td> 0.000</td> <td>  -37.394   -20.179</td>\n",
       "</tr>\n",
       "<tr>\n",
       "  <th>hour[[1, 2, 3, 4, 5, 6, 7, 8, 9, 10, 11, 12, 13, 14, 15, 16, 17, 18, 19, 20, 21, 22]][1]</th>  <td>  -36.1977</td> <td>    4.411</td> <td>   -8.206</td> <td> 0.000</td> <td>  -44.843   -27.552</td>\n",
       "</tr>\n",
       "<tr>\n",
       "  <th>hour[[1, 2, 3, 4, 5, 6, 7, 8, 9, 10, 11, 12, 13, 14, 15, 16, 17, 18, 19, 20, 21, 22]][2]</th>  <td>  -44.5552</td> <td>    4.451</td> <td>  -10.010</td> <td> 0.000</td> <td>  -53.280   -35.830</td>\n",
       "</tr>\n",
       "<tr>\n",
       "  <th>hour[[1, 2, 3, 4, 5, 6, 7, 8, 9, 10, 11, 12, 13, 14, 15, 16, 17, 18, 19, 20, 21, 22]][3]</th>  <td>  -46.9550</td> <td>    4.454</td> <td>  -10.542</td> <td> 0.000</td> <td>  -55.685   -38.225</td>\n",
       "</tr>\n",
       "<tr>\n",
       "  <th>hour[[1, 2, 3, 4, 5, 6, 7, 8, 9, 10, 11, 12, 13, 14, 15, 16, 17, 18, 19, 20, 21, 22]][4]</th>  <td>  -31.7417</td> <td>    4.416</td> <td>   -7.188</td> <td> 0.000</td> <td>  -40.397   -23.087</td>\n",
       "</tr>\n",
       "<tr>\n",
       "  <th>hour[[1, 2, 3, 4, 5, 6, 7, 8, 9, 10, 11, 12, 13, 14, 15, 16, 17, 18, 19, 20, 21, 22]][5]</th>  <td>   23.2032</td> <td>    4.401</td> <td>    5.273</td> <td> 0.000</td> <td>   14.577    31.829</td>\n",
       "</tr>\n",
       "<tr>\n",
       "  <th>hour[[1, 2, 3, 4, 5, 6, 7, 8, 9, 10, 11, 12, 13, 14, 15, 16, 17, 18, 19, 20, 21, 22]][6]</th>  <td>  152.0822</td> <td>    4.393</td> <td>   34.620</td> <td> 0.000</td> <td>  143.472   160.693</td>\n",
       "</tr>\n",
       "<tr>\n",
       "  <th>hour[[1, 2, 3, 4, 5, 6, 7, 8, 9, 10, 11, 12, 13, 14, 15, 16, 17, 18, 19, 20, 21, 22]][7]</th>  <td>  283.7376</td> <td>    4.387</td> <td>   64.670</td> <td> 0.000</td> <td>  275.138   292.337</td>\n",
       "</tr>\n",
       "<tr>\n",
       "  <th>hour[[1, 2, 3, 4, 5, 6, 7, 8, 9, 10, 11, 12, 13, 14, 15, 16, 17, 18, 19, 20, 21, 22]][8]</th>  <td>  129.5102</td> <td>    4.387</td> <td>   29.524</td> <td> 0.000</td> <td>  120.912   138.108</td>\n",
       "</tr>\n",
       "<tr>\n",
       "  <th>hour[[1, 2, 3, 4, 5, 6, 7, 8, 9, 10, 11, 12, 13, 14, 15, 16, 17, 18, 19, 20, 21, 22]][9]</th>  <td>   62.2930</td> <td>    4.392</td> <td>   14.184</td> <td> 0.000</td> <td>   53.685    70.901</td>\n",
       "</tr>\n",
       "<tr>\n",
       "  <th>hour[[1, 2, 3, 4, 5, 6, 7, 8, 9, 10, 11, 12, 13, 14, 15, 16, 17, 18, 19, 20, 21, 22]][10]</th> <td>   77.9467</td> <td>    4.406</td> <td>   17.692</td> <td> 0.000</td> <td>   69.311    86.582</td>\n",
       "</tr>\n",
       "<tr>\n",
       "  <th>hour[[1, 2, 3, 4, 5, 6, 7, 8, 9, 10, 11, 12, 13, 14, 15, 16, 17, 18, 19, 20, 21, 22]][11]</th> <td>  110.8290</td> <td>    4.420</td> <td>   25.072</td> <td> 0.000</td> <td>  102.165   119.493</td>\n",
       "</tr>\n",
       "<tr>\n",
       "  <th>hour[[1, 2, 3, 4, 5, 6, 7, 8, 9, 10, 11, 12, 13, 14, 15, 16, 17, 18, 19, 20, 21, 22]][12]</th> <td>  103.5972</td> <td>    4.435</td> <td>   23.361</td> <td> 0.000</td> <td>   94.905   112.289</td>\n",
       "</tr>\n",
       "<tr>\n",
       "  <th>hour[[1, 2, 3, 4, 5, 6, 7, 8, 9, 10, 11, 12, 13, 14, 15, 16, 17, 18, 19, 20, 21, 22]][13]</th> <td>   85.2234</td> <td>    4.449</td> <td>   19.157</td> <td> 0.000</td> <td>   76.504    93.943</td>\n",
       "</tr>\n",
       "<tr>\n",
       "  <th>hour[[1, 2, 3, 4, 5, 6, 7, 8, 9, 10, 11, 12, 13, 14, 15, 16, 17, 18, 19, 20, 21, 22]][14]</th> <td>   95.5417</td> <td>    4.454</td> <td>   21.450</td> <td> 0.000</td> <td>   86.811   104.272</td>\n",
       "</tr>\n",
       "<tr>\n",
       "  <th>hour[[1, 2, 3, 4, 5, 6, 7, 8, 9, 10, 11, 12, 13, 14, 15, 16, 17, 18, 19, 20, 21, 22]][15]</th> <td>  158.2466</td> <td>    4.449</td> <td>   35.572</td> <td> 0.000</td> <td>  149.527   166.966</td>\n",
       "</tr>\n",
       "<tr>\n",
       "  <th>hour[[1, 2, 3, 4, 5, 6, 7, 8, 9, 10, 11, 12, 13, 14, 15, 16, 17, 18, 19, 20, 21, 22]][16]</th> <td>  310.1536</td> <td>    4.434</td> <td>   69.950</td> <td> 0.000</td> <td>  301.463   318.844</td>\n",
       "</tr>\n",
       "<tr>\n",
       "  <th>hour[[1, 2, 3, 4, 5, 6, 7, 8, 9, 10, 11, 12, 13, 14, 15, 16, 17, 18, 19, 20, 21, 22]][17]</th> <td>  290.2001</td> <td>    4.422</td> <td>   65.629</td> <td> 0.000</td> <td>  281.533   298.867</td>\n",
       "</tr>\n",
       "<tr>\n",
       "  <th>hour[[1, 2, 3, 4, 5, 6, 7, 8, 9, 10, 11, 12, 13, 14, 15, 16, 17, 18, 19, 20, 21, 22]][18]</th> <td>  191.6123</td> <td>    4.404</td> <td>   43.508</td> <td> 0.000</td> <td>  182.980   200.245</td>\n",
       "</tr>\n",
       "<tr>\n",
       "  <th>hour[[1, 2, 3, 4, 5, 6, 7, 8, 9, 10, 11, 12, 13, 14, 15, 16, 17, 18, 19, 20, 21, 22]][19]</th> <td>  122.8892</td> <td>    4.394</td> <td>   27.969</td> <td> 0.000</td> <td>  114.277   131.502</td>\n",
       "</tr>\n",
       "<tr>\n",
       "  <th>hour[[1, 2, 3, 4, 5, 6, 7, 8, 9, 10, 11, 12, 13, 14, 15, 16, 17, 18, 19, 20, 21, 22]][20]</th> <td>   79.5790</td> <td>    4.386</td> <td>   18.142</td> <td> 0.000</td> <td>   70.981    88.177</td>\n",
       "</tr>\n",
       "<tr>\n",
       "  <th>hour[[1, 2, 3, 4, 5, 6, 7, 8, 9, 10, 11, 12, 13, 14, 15, 16, 17, 18, 19, 20, 21, 22]][21]</th> <td>   47.0815</td> <td>    4.383</td> <td>   10.741</td> <td> 0.000</td> <td>   38.490    55.673</td>\n",
       "</tr>\n",
       "</table>\n",
       "<table class=\"simpletable\">\n",
       "<tr>\n",
       "  <th>Omnibus:</th>       <td>1765.412</td> <th>  Durbin-Watson:     </th> <td>   0.474</td>\n",
       "</tr>\n",
       "<tr>\n",
       "  <th>Prob(Omnibus):</th>  <td> 0.000</td>  <th>  Jarque-Bera (JB):  </th> <td>5776.555</td>\n",
       "</tr>\n",
       "<tr>\n",
       "  <th>Skew:</th>           <td> 0.516</td>  <th>  Prob(JB):          </th> <td>    0.00</td>\n",
       "</tr>\n",
       "<tr>\n",
       "  <th>Kurtosis:</th>       <td> 5.629</td>  <th>  Cond. No.          </th> <td>    91.7</td>\n",
       "</tr>\n",
       "</table>"
      ],
      "text/plain": [
       "<class 'statsmodels.iolib.summary.Summary'>\n",
       "\"\"\"\n",
       "                            OLS Regression Results                            \n",
       "==============================================================================\n",
       "Dep. Variable:             registered   R-squared:                       0.594\n",
       "Model:                            OLS   Adj. R-squared:                  0.593\n",
       "Method:                 Least Squares   F-statistic:                     705.7\n",
       "Date:                Thu, 31 Aug 2017   Prob (F-statistic):               0.00\n",
       "Time:                        00:32:37   Log-Likelihood:            -1.0406e+05\n",
       "No. Observations:               17379   AIC:                         2.082e+05\n",
       "Df Residuals:                   17342   BIC:                         2.085e+05\n",
       "Df Model:                          36                                         \n",
       "Covariance Type:            nonrobust                                         \n",
       "=============================================================================================================================================================\n",
       "                                                                                                coef    std err          t      P>|t|      [95.0% Conf. Int.]\n",
       "-------------------------------------------------------------------------------------------------------------------------------------------------------------\n",
       "Intercept                                                                                   -35.6456      3.846     -9.268      0.000       -43.185   -28.107\n",
       "temp                                                                                        238.1588      8.310     28.658      0.000       221.870   254.448\n",
       "weather[[1, 2, 3]][0]                                                                       -11.2788      1.714     -6.582      0.000       -14.637    -7.920\n",
       "weather[[1, 2, 3]][1]                                                                       -67.3837      2.737    -24.622      0.000       -72.748   -62.019\n",
       "weather[[1, 2, 3]][2]                                                                       -77.0308     55.795     -1.381      0.167      -186.395    32.333\n",
       "months[[1, 2, 3, 4, 5, 6, 7, 8, 9, 11]][0]                                                  -15.9712      3.195     -4.999      0.000       -22.233    -9.709\n",
       "months[[1, 2, 3, 4, 5, 6, 7, 8, 9, 11]][1]                                                  -13.2450      3.179     -4.166      0.000       -19.477    -7.013\n",
       "months[[1, 2, 3, 4, 5, 6, 7, 8, 9, 11]][2]                                                  -11.0256      3.417     -3.227      0.001       -17.724    -4.328\n",
       "months[[1, 2, 3, 4, 5, 6, 7, 8, 9, 11]][3]                                                  -13.1619      3.926     -3.352      0.001       -20.858    -5.466\n",
       "months[[1, 2, 3, 4, 5, 6, 7, 8, 9, 11]][4]                                                  -21.5421      4.445     -4.846      0.000       -30.255   -12.829\n",
       "months[[1, 2, 3, 4, 5, 6, 7, 8, 9, 11]][5]                                                  -49.2271      4.864    -10.120      0.000       -58.762   -39.693\n",
       "months[[1, 2, 3, 4, 5, 6, 7, 8, 9, 11]][6]                                                  -26.9764      4.575     -5.897      0.000       -35.944   -18.009\n",
       "months[[1, 2, 3, 4, 5, 6, 7, 8, 9, 11]][7]                                                    1.4160      4.068      0.348      0.728        -6.558     9.390\n",
       "months[[1, 2, 3, 4, 5, 6, 7, 8, 9, 11]][8]                                                   22.0531      3.470      6.355      0.000        15.251    28.855\n",
       "months[[1, 2, 3, 4, 5, 6, 7, 8, 9, 11]][9]                                                    6.5839      3.096      2.127      0.033         0.516    12.652\n",
       "hour[[1, 2, 3, 4, 5, 6, 7, 8, 9, 10, 11, 12, 13, 14, 15, 16, 17, 18, 19, 20, 21, 22]][0]    -28.7864      4.391     -6.555      0.000       -37.394   -20.179\n",
       "hour[[1, 2, 3, 4, 5, 6, 7, 8, 9, 10, 11, 12, 13, 14, 15, 16, 17, 18, 19, 20, 21, 22]][1]    -36.1977      4.411     -8.206      0.000       -44.843   -27.552\n",
       "hour[[1, 2, 3, 4, 5, 6, 7, 8, 9, 10, 11, 12, 13, 14, 15, 16, 17, 18, 19, 20, 21, 22]][2]    -44.5552      4.451    -10.010      0.000       -53.280   -35.830\n",
       "hour[[1, 2, 3, 4, 5, 6, 7, 8, 9, 10, 11, 12, 13, 14, 15, 16, 17, 18, 19, 20, 21, 22]][3]    -46.9550      4.454    -10.542      0.000       -55.685   -38.225\n",
       "hour[[1, 2, 3, 4, 5, 6, 7, 8, 9, 10, 11, 12, 13, 14, 15, 16, 17, 18, 19, 20, 21, 22]][4]    -31.7417      4.416     -7.188      0.000       -40.397   -23.087\n",
       "hour[[1, 2, 3, 4, 5, 6, 7, 8, 9, 10, 11, 12, 13, 14, 15, 16, 17, 18, 19, 20, 21, 22]][5]     23.2032      4.401      5.273      0.000        14.577    31.829\n",
       "hour[[1, 2, 3, 4, 5, 6, 7, 8, 9, 10, 11, 12, 13, 14, 15, 16, 17, 18, 19, 20, 21, 22]][6]    152.0822      4.393     34.620      0.000       143.472   160.693\n",
       "hour[[1, 2, 3, 4, 5, 6, 7, 8, 9, 10, 11, 12, 13, 14, 15, 16, 17, 18, 19, 20, 21, 22]][7]    283.7376      4.387     64.670      0.000       275.138   292.337\n",
       "hour[[1, 2, 3, 4, 5, 6, 7, 8, 9, 10, 11, 12, 13, 14, 15, 16, 17, 18, 19, 20, 21, 22]][8]    129.5102      4.387     29.524      0.000       120.912   138.108\n",
       "hour[[1, 2, 3, 4, 5, 6, 7, 8, 9, 10, 11, 12, 13, 14, 15, 16, 17, 18, 19, 20, 21, 22]][9]     62.2930      4.392     14.184      0.000        53.685    70.901\n",
       "hour[[1, 2, 3, 4, 5, 6, 7, 8, 9, 10, 11, 12, 13, 14, 15, 16, 17, 18, 19, 20, 21, 22]][10]    77.9467      4.406     17.692      0.000        69.311    86.582\n",
       "hour[[1, 2, 3, 4, 5, 6, 7, 8, 9, 10, 11, 12, 13, 14, 15, 16, 17, 18, 19, 20, 21, 22]][11]   110.8290      4.420     25.072      0.000       102.165   119.493\n",
       "hour[[1, 2, 3, 4, 5, 6, 7, 8, 9, 10, 11, 12, 13, 14, 15, 16, 17, 18, 19, 20, 21, 22]][12]   103.5972      4.435     23.361      0.000        94.905   112.289\n",
       "hour[[1, 2, 3, 4, 5, 6, 7, 8, 9, 10, 11, 12, 13, 14, 15, 16, 17, 18, 19, 20, 21, 22]][13]    85.2234      4.449     19.157      0.000        76.504    93.943\n",
       "hour[[1, 2, 3, 4, 5, 6, 7, 8, 9, 10, 11, 12, 13, 14, 15, 16, 17, 18, 19, 20, 21, 22]][14]    95.5417      4.454     21.450      0.000        86.811   104.272\n",
       "hour[[1, 2, 3, 4, 5, 6, 7, 8, 9, 10, 11, 12, 13, 14, 15, 16, 17, 18, 19, 20, 21, 22]][15]   158.2466      4.449     35.572      0.000       149.527   166.966\n",
       "hour[[1, 2, 3, 4, 5, 6, 7, 8, 9, 10, 11, 12, 13, 14, 15, 16, 17, 18, 19, 20, 21, 22]][16]   310.1536      4.434     69.950      0.000       301.463   318.844\n",
       "hour[[1, 2, 3, 4, 5, 6, 7, 8, 9, 10, 11, 12, 13, 14, 15, 16, 17, 18, 19, 20, 21, 22]][17]   290.2001      4.422     65.629      0.000       281.533   298.867\n",
       "hour[[1, 2, 3, 4, 5, 6, 7, 8, 9, 10, 11, 12, 13, 14, 15, 16, 17, 18, 19, 20, 21, 22]][18]   191.6123      4.404     43.508      0.000       182.980   200.245\n",
       "hour[[1, 2, 3, 4, 5, 6, 7, 8, 9, 10, 11, 12, 13, 14, 15, 16, 17, 18, 19, 20, 21, 22]][19]   122.8892      4.394     27.969      0.000       114.277   131.502\n",
       "hour[[1, 2, 3, 4, 5, 6, 7, 8, 9, 10, 11, 12, 13, 14, 15, 16, 17, 18, 19, 20, 21, 22]][20]    79.5790      4.386     18.142      0.000        70.981    88.177\n",
       "hour[[1, 2, 3, 4, 5, 6, 7, 8, 9, 10, 11, 12, 13, 14, 15, 16, 17, 18, 19, 20, 21, 22]][21]    47.0815      4.383     10.741      0.000        38.490    55.673\n",
       "==============================================================================\n",
       "Omnibus:                     1765.412   Durbin-Watson:                   0.474\n",
       "Prob(Omnibus):                  0.000   Jarque-Bera (JB):             5776.555\n",
       "Skew:                           0.516   Prob(JB):                         0.00\n",
       "Kurtosis:                       5.629   Cond. No.                         91.7\n",
       "==============================================================================\n",
       "\n",
       "Warnings:\n",
       "[1] Standard Errors assume that the covariance matrix of the errors is correctly specified.\n",
       "\"\"\""
      ]
     },
     "execution_count": 138,
     "metadata": {},
     "output_type": "execute_result"
    }
   ],
   "source": [
    "rel_stat = smf.ols(formula = \"registered ~ temp + weather[[1,2,3]] + months[[1,2,3,4,5,6,7,8,9,11]] + hour[[1,2,3,4,5,6,7,8,9,10,11,12,13,14,15,16,17,18,19,20,21,22]]\", data=bike_data).fit()\n",
    "rel_stat.summary()"
   ]
  },
  {
   "cell_type": "markdown",
   "metadata": {},
   "source": [
    "The model has an r-squared above 0.4 (0.594) so it is at the level: \"good\". "
   ]
  },
  {
   "cell_type": "markdown",
   "metadata": {},
   "source": [
    "Bonus 3: How can you improve it? "
   ]
  },
  {
   "cell_type": "markdown",
   "metadata": {},
   "source": [
    "The model can also be improved by taking the log of the \"registered\" dependent variable and using it in the linear model equation instead. "
   ]
  },
  {
   "cell_type": "code",
   "execution_count": 46,
   "metadata": {
    "collapsed": false,
    "scrolled": true
   },
   "outputs": [
    {
     "data": {
      "text/html": [
       "<table class=\"simpletable\">\n",
       "<caption>OLS Regression Results</caption>\n",
       "<tr>\n",
       "  <th>Dep. Variable:</th>      <td>log_dep_var4</td>   <th>  R-squared:         </th> <td>   0.767</td>\n",
       "</tr>\n",
       "<tr>\n",
       "  <th>Model:</th>                   <td>OLS</td>       <th>  Adj. R-squared:    </th> <td>   0.767</td>\n",
       "</tr>\n",
       "<tr>\n",
       "  <th>Method:</th>             <td>Least Squares</td>  <th>  F-statistic:       </th> <td>   1588.</td>\n",
       "</tr>\n",
       "<tr>\n",
       "  <th>Date:</th>             <td>Thu, 31 Aug 2017</td> <th>  Prob (F-statistic):</th>  <td>  0.00</td> \n",
       "</tr>\n",
       "<tr>\n",
       "  <th>Time:</th>                 <td>17:55:47</td>     <th>  Log-Likelihood:    </th> <td> -3323.0</td>\n",
       "</tr>\n",
       "<tr>\n",
       "  <th>No. Observations:</th>      <td> 17379</td>      <th>  AIC:               </th> <td>   6720.</td>\n",
       "</tr>\n",
       "<tr>\n",
       "  <th>Df Residuals:</th>          <td> 17342</td>      <th>  BIC:               </th> <td>   7007.</td>\n",
       "</tr>\n",
       "<tr>\n",
       "  <th>Df Model:</th>              <td>    36</td>      <th>                     </th>     <td> </td>   \n",
       "</tr>\n",
       "<tr>\n",
       "  <th>Covariance Type:</th>      <td>nonrobust</td>    <th>                     </th>     <td> </td>   \n",
       "</tr>\n",
       "</table>\n",
       "<table class=\"simpletable\">\n",
       "<tr>\n",
       "                                              <td></td>                                                 <th>coef</th>     <th>std err</th>      <th>t</th>      <th>P>|t|</th> <th>[95.0% Conf. Int.]</th> \n",
       "</tr>\n",
       "<tr>\n",
       "  <th>Intercept</th>                                                                                 <td>    1.3402</td> <td>    0.012</td> <td>  114.666</td> <td> 0.000</td> <td>    1.317     1.363</td>\n",
       "</tr>\n",
       "<tr>\n",
       "  <th>temp</th>                                                                                      <td>    0.7955</td> <td>    0.025</td> <td>   31.498</td> <td> 0.000</td> <td>    0.746     0.845</td>\n",
       "</tr>\n",
       "<tr>\n",
       "  <th>weather[[1, 2, 3]][0]</th>                                                                     <td>   -0.0239</td> <td>    0.005</td> <td>   -4.580</td> <td> 0.000</td> <td>   -0.034    -0.014</td>\n",
       "</tr>\n",
       "<tr>\n",
       "  <th>weather[[1, 2, 3]][1]</th>                                                                     <td>   -0.2617</td> <td>    0.008</td> <td>  -31.467</td> <td> 0.000</td> <td>   -0.278    -0.245</td>\n",
       "</tr>\n",
       "<tr>\n",
       "  <th>weather[[1, 2, 3]][2]</th>                                                                     <td>   -0.1010</td> <td>    0.170</td> <td>   -0.596</td> <td> 0.551</td> <td>   -0.433     0.231</td>\n",
       "</tr>\n",
       "<tr>\n",
       "  <th>months[[1, 2, 3, 4, 5, 6, 7, 8, 9, 11]][0]</th>                                                <td>   -0.0566</td> <td>    0.010</td> <td>   -5.835</td> <td> 0.000</td> <td>   -0.076    -0.038</td>\n",
       "</tr>\n",
       "<tr>\n",
       "  <th>months[[1, 2, 3, 4, 5, 6, 7, 8, 9, 11]][1]</th>                                                <td>   -0.0621</td> <td>    0.010</td> <td>   -6.430</td> <td> 0.000</td> <td>   -0.081    -0.043</td>\n",
       "</tr>\n",
       "<tr>\n",
       "  <th>months[[1, 2, 3, 4, 5, 6, 7, 8, 9, 11]][2]</th>                                                <td>   -0.0335</td> <td>    0.010</td> <td>   -3.229</td> <td> 0.001</td> <td>   -0.054    -0.013</td>\n",
       "</tr>\n",
       "<tr>\n",
       "  <th>months[[1, 2, 3, 4, 5, 6, 7, 8, 9, 11]][3]</th>                                                <td>   -0.0190</td> <td>    0.012</td> <td>   -1.596</td> <td> 0.110</td> <td>   -0.042     0.004</td>\n",
       "</tr>\n",
       "<tr>\n",
       "  <th>months[[1, 2, 3, 4, 5, 6, 7, 8, 9, 11]][4]</th>                                                <td>   -0.0499</td> <td>    0.014</td> <td>   -3.697</td> <td> 0.000</td> <td>   -0.076    -0.023</td>\n",
       "</tr>\n",
       "<tr>\n",
       "  <th>months[[1, 2, 3, 4, 5, 6, 7, 8, 9, 11]][5]</th>                                                <td>   -0.1266</td> <td>    0.015</td> <td>   -8.568</td> <td> 0.000</td> <td>   -0.156    -0.098</td>\n",
       "</tr>\n",
       "<tr>\n",
       "  <th>months[[1, 2, 3, 4, 5, 6, 7, 8, 9, 11]][6]</th>                                                <td>   -0.0789</td> <td>    0.014</td> <td>   -5.679</td> <td> 0.000</td> <td>   -0.106    -0.052</td>\n",
       "</tr>\n",
       "<tr>\n",
       "  <th>months[[1, 2, 3, 4, 5, 6, 7, 8, 9, 11]][7]</th>                                                <td>    0.0020</td> <td>    0.012</td> <td>    0.162</td> <td> 0.872</td> <td>   -0.022     0.026</td>\n",
       "</tr>\n",
       "<tr>\n",
       "  <th>months[[1, 2, 3, 4, 5, 6, 7, 8, 9, 11]][8]</th>                                                <td>    0.0788</td> <td>    0.011</td> <td>    7.472</td> <td> 0.000</td> <td>    0.058     0.099</td>\n",
       "</tr>\n",
       "<tr>\n",
       "  <th>months[[1, 2, 3, 4, 5, 6, 7, 8, 9, 11]][9]</th>                                                <td>    0.0262</td> <td>    0.009</td> <td>    2.787</td> <td> 0.005</td> <td>    0.008     0.045</td>\n",
       "</tr>\n",
       "<tr>\n",
       "  <th>hour[[1, 2, 3, 4, 5, 6, 7, 8, 9, 10, 11, 12, 13, 14, 15, 16, 17, 18, 19, 20, 21, 22]][0]</th>  <td>   -0.3922</td> <td>    0.013</td> <td>  -29.391</td> <td> 0.000</td> <td>   -0.418    -0.366</td>\n",
       "</tr>\n",
       "<tr>\n",
       "  <th>hour[[1, 2, 3, 4, 5, 6, 7, 8, 9, 10, 11, 12, 13, 14, 15, 16, 17, 18, 19, 20, 21, 22]][1]</th>  <td>   -0.6015</td> <td>    0.013</td> <td>  -44.872</td> <td> 0.000</td> <td>   -0.628    -0.575</td>\n",
       "</tr>\n",
       "<tr>\n",
       "  <th>hour[[1, 2, 3, 4, 5, 6, 7, 8, 9, 10, 11, 12, 13, 14, 15, 16, 17, 18, 19, 20, 21, 22]][2]</th>  <td>   -0.8079</td> <td>    0.014</td> <td>  -59.727</td> <td> 0.000</td> <td>   -0.834    -0.781</td>\n",
       "</tr>\n",
       "<tr>\n",
       "  <th>hour[[1, 2, 3, 4, 5, 6, 7, 8, 9, 10, 11, 12, 13, 14, 15, 16, 17, 18, 19, 20, 21, 22]][3]</th>  <td>   -0.9172</td> <td>    0.014</td> <td>  -67.759</td> <td> 0.000</td> <td>   -0.944    -0.891</td>\n",
       "</tr>\n",
       "<tr>\n",
       "  <th>hour[[1, 2, 3, 4, 5, 6, 7, 8, 9, 10, 11, 12, 13, 14, 15, 16, 17, 18, 19, 20, 21, 22]][4]</th>  <td>   -0.4676</td> <td>    0.013</td> <td>  -34.845</td> <td> 0.000</td> <td>   -0.494    -0.441</td>\n",
       "</tr>\n",
       "<tr>\n",
       "  <th>hour[[1, 2, 3, 4, 5, 6, 7, 8, 9, 10, 11, 12, 13, 14, 15, 16, 17, 18, 19, 20, 21, 22]][5]</th>  <td>    0.0335</td> <td>    0.013</td> <td>    2.507</td> <td> 0.012</td> <td>    0.007     0.060</td>\n",
       "</tr>\n",
       "<tr>\n",
       "  <th>hour[[1, 2, 3, 4, 5, 6, 7, 8, 9, 10, 11, 12, 13, 14, 15, 16, 17, 18, 19, 20, 21, 22]][6]</th>  <td>    0.4482</td> <td>    0.013</td> <td>   33.575</td> <td> 0.000</td> <td>    0.422     0.474</td>\n",
       "</tr>\n",
       "<tr>\n",
       "  <th>hour[[1, 2, 3, 4, 5, 6, 7, 8, 9, 10, 11, 12, 13, 14, 15, 16, 17, 18, 19, 20, 21, 22]][7]</th>  <td>    0.7173</td> <td>    0.013</td> <td>   53.795</td> <td> 0.000</td> <td>    0.691     0.743</td>\n",
       "</tr>\n",
       "<tr>\n",
       "  <th>hour[[1, 2, 3, 4, 5, 6, 7, 8, 9, 10, 11, 12, 13, 14, 15, 16, 17, 18, 19, 20, 21, 22]][8]</th>  <td>    0.5528</td> <td>    0.013</td> <td>   41.473</td> <td> 0.000</td> <td>    0.527     0.579</td>\n",
       "</tr>\n",
       "<tr>\n",
       "  <th>hour[[1, 2, 3, 4, 5, 6, 7, 8, 9, 10, 11, 12, 13, 14, 15, 16, 17, 18, 19, 20, 21, 22]][9]</th>  <td>    0.3619</td> <td>    0.013</td> <td>   27.115</td> <td> 0.000</td> <td>    0.336     0.388</td>\n",
       "</tr>\n",
       "<tr>\n",
       "  <th>hour[[1, 2, 3, 4, 5, 6, 7, 8, 9, 10, 11, 12, 13, 14, 15, 16, 17, 18, 19, 20, 21, 22]][10]</th> <td>    0.4040</td> <td>    0.013</td> <td>   30.176</td> <td> 0.000</td> <td>    0.378     0.430</td>\n",
       "</tr>\n",
       "<tr>\n",
       "  <th>hour[[1, 2, 3, 4, 5, 6, 7, 8, 9, 10, 11, 12, 13, 14, 15, 16, 17, 18, 19, 20, 21, 22]][11]</th> <td>    0.4926</td> <td>    0.013</td> <td>   36.668</td> <td> 0.000</td> <td>    0.466     0.519</td>\n",
       "</tr>\n",
       "<tr>\n",
       "  <th>hour[[1, 2, 3, 4, 5, 6, 7, 8, 9, 10, 11, 12, 13, 14, 15, 16, 17, 18, 19, 20, 21, 22]][12]</th> <td>    0.4741</td> <td>    0.013</td> <td>   35.177</td> <td> 0.000</td> <td>    0.448     0.500</td>\n",
       "</tr>\n",
       "<tr>\n",
       "  <th>hour[[1, 2, 3, 4, 5, 6, 7, 8, 9, 10, 11, 12, 13, 14, 15, 16, 17, 18, 19, 20, 21, 22]][13]</th> <td>    0.4236</td> <td>    0.014</td> <td>   31.332</td> <td> 0.000</td> <td>    0.397     0.450</td>\n",
       "</tr>\n",
       "<tr>\n",
       "  <th>hour[[1, 2, 3, 4, 5, 6, 7, 8, 9, 10, 11, 12, 13, 14, 15, 16, 17, 18, 19, 20, 21, 22]][14]</th> <td>    0.4524</td> <td>    0.014</td> <td>   33.421</td> <td> 0.000</td> <td>    0.426     0.479</td>\n",
       "</tr>\n",
       "<tr>\n",
       "  <th>hour[[1, 2, 3, 4, 5, 6, 7, 8, 9, 10, 11, 12, 13, 14, 15, 16, 17, 18, 19, 20, 21, 22]][15]</th> <td>    0.5875</td> <td>    0.014</td> <td>   43.454</td> <td> 0.000</td> <td>    0.561     0.614</td>\n",
       "</tr>\n",
       "<tr>\n",
       "  <th>hour[[1, 2, 3, 4, 5, 6, 7, 8, 9, 10, 11, 12, 13, 14, 15, 16, 17, 18, 19, 20, 21, 22]][16]</th> <td>    0.7807</td> <td>    0.013</td> <td>   57.939</td> <td> 0.000</td> <td>    0.754     0.807</td>\n",
       "</tr>\n",
       "<tr>\n",
       "  <th>hour[[1, 2, 3, 4, 5, 6, 7, 8, 9, 10, 11, 12, 13, 14, 15, 16, 17, 18, 19, 20, 21, 22]][17]</th> <td>    0.7612</td> <td>    0.013</td> <td>   56.645</td> <td> 0.000</td> <td>    0.735     0.787</td>\n",
       "</tr>\n",
       "<tr>\n",
       "  <th>hour[[1, 2, 3, 4, 5, 6, 7, 8, 9, 10, 11, 12, 13, 14, 15, 16, 17, 18, 19, 20, 21, 22]][18]</th> <td>    0.6376</td> <td>    0.013</td> <td>   47.643</td> <td> 0.000</td> <td>    0.611     0.664</td>\n",
       "</tr>\n",
       "<tr>\n",
       "  <th>hour[[1, 2, 3, 4, 5, 6, 7, 8, 9, 10, 11, 12, 13, 14, 15, 16, 17, 18, 19, 20, 21, 22]][19]</th> <td>    0.5145</td> <td>    0.013</td> <td>   38.535</td> <td> 0.000</td> <td>    0.488     0.541</td>\n",
       "</tr>\n",
       "<tr>\n",
       "  <th>hour[[1, 2, 3, 4, 5, 6, 7, 8, 9, 10, 11, 12, 13, 14, 15, 16, 17, 18, 19, 20, 21, 22]][20]</th> <td>    0.4064</td> <td>    0.013</td> <td>   30.487</td> <td> 0.000</td> <td>    0.380     0.433</td>\n",
       "</tr>\n",
       "<tr>\n",
       "  <th>hour[[1, 2, 3, 4, 5, 6, 7, 8, 9, 10, 11, 12, 13, 14, 15, 16, 17, 18, 19, 20, 21, 22]][21]</th> <td>    0.2978</td> <td>    0.013</td> <td>   22.359</td> <td> 0.000</td> <td>    0.272     0.324</td>\n",
       "</tr>\n",
       "</table>\n",
       "<table class=\"simpletable\">\n",
       "<tr>\n",
       "  <th>Omnibus:</th>       <td>1203.126</td> <th>  Durbin-Watson:     </th> <td>   0.474</td>\n",
       "</tr>\n",
       "<tr>\n",
       "  <th>Prob(Omnibus):</th>  <td> 0.000</td>  <th>  Jarque-Bera (JB):  </th> <td>1980.386</td>\n",
       "</tr>\n",
       "<tr>\n",
       "  <th>Skew:</th>           <td>-0.541</td>  <th>  Prob(JB):          </th> <td>    0.00</td>\n",
       "</tr>\n",
       "<tr>\n",
       "  <th>Kurtosis:</th>       <td> 4.251</td>  <th>  Cond. No.          </th> <td>    91.7</td>\n",
       "</tr>\n",
       "</table>"
      ],
      "text/plain": [
       "<class 'statsmodels.iolib.summary.Summary'>\n",
       "\"\"\"\n",
       "                            OLS Regression Results                            \n",
       "==============================================================================\n",
       "Dep. Variable:           log_dep_var4   R-squared:                       0.767\n",
       "Model:                            OLS   Adj. R-squared:                  0.767\n",
       "Method:                 Least Squares   F-statistic:                     1588.\n",
       "Date:                Thu, 31 Aug 2017   Prob (F-statistic):               0.00\n",
       "Time:                        17:55:47   Log-Likelihood:                -3323.0\n",
       "No. Observations:               17379   AIC:                             6720.\n",
       "Df Residuals:                   17342   BIC:                             7007.\n",
       "Df Model:                          36                                         \n",
       "Covariance Type:            nonrobust                                         \n",
       "=============================================================================================================================================================\n",
       "                                                                                                coef    std err          t      P>|t|      [95.0% Conf. Int.]\n",
       "-------------------------------------------------------------------------------------------------------------------------------------------------------------\n",
       "Intercept                                                                                     1.3402      0.012    114.666      0.000         1.317     1.363\n",
       "temp                                                                                          0.7955      0.025     31.498      0.000         0.746     0.845\n",
       "weather[[1, 2, 3]][0]                                                                        -0.0239      0.005     -4.580      0.000        -0.034    -0.014\n",
       "weather[[1, 2, 3]][1]                                                                        -0.2617      0.008    -31.467      0.000        -0.278    -0.245\n",
       "weather[[1, 2, 3]][2]                                                                        -0.1010      0.170     -0.596      0.551        -0.433     0.231\n",
       "months[[1, 2, 3, 4, 5, 6, 7, 8, 9, 11]][0]                                                   -0.0566      0.010     -5.835      0.000        -0.076    -0.038\n",
       "months[[1, 2, 3, 4, 5, 6, 7, 8, 9, 11]][1]                                                   -0.0621      0.010     -6.430      0.000        -0.081    -0.043\n",
       "months[[1, 2, 3, 4, 5, 6, 7, 8, 9, 11]][2]                                                   -0.0335      0.010     -3.229      0.001        -0.054    -0.013\n",
       "months[[1, 2, 3, 4, 5, 6, 7, 8, 9, 11]][3]                                                   -0.0190      0.012     -1.596      0.110        -0.042     0.004\n",
       "months[[1, 2, 3, 4, 5, 6, 7, 8, 9, 11]][4]                                                   -0.0499      0.014     -3.697      0.000        -0.076    -0.023\n",
       "months[[1, 2, 3, 4, 5, 6, 7, 8, 9, 11]][5]                                                   -0.1266      0.015     -8.568      0.000        -0.156    -0.098\n",
       "months[[1, 2, 3, 4, 5, 6, 7, 8, 9, 11]][6]                                                   -0.0789      0.014     -5.679      0.000        -0.106    -0.052\n",
       "months[[1, 2, 3, 4, 5, 6, 7, 8, 9, 11]][7]                                                    0.0020      0.012      0.162      0.872        -0.022     0.026\n",
       "months[[1, 2, 3, 4, 5, 6, 7, 8, 9, 11]][8]                                                    0.0788      0.011      7.472      0.000         0.058     0.099\n",
       "months[[1, 2, 3, 4, 5, 6, 7, 8, 9, 11]][9]                                                    0.0262      0.009      2.787      0.005         0.008     0.045\n",
       "hour[[1, 2, 3, 4, 5, 6, 7, 8, 9, 10, 11, 12, 13, 14, 15, 16, 17, 18, 19, 20, 21, 22]][0]     -0.3922      0.013    -29.391      0.000        -0.418    -0.366\n",
       "hour[[1, 2, 3, 4, 5, 6, 7, 8, 9, 10, 11, 12, 13, 14, 15, 16, 17, 18, 19, 20, 21, 22]][1]     -0.6015      0.013    -44.872      0.000        -0.628    -0.575\n",
       "hour[[1, 2, 3, 4, 5, 6, 7, 8, 9, 10, 11, 12, 13, 14, 15, 16, 17, 18, 19, 20, 21, 22]][2]     -0.8079      0.014    -59.727      0.000        -0.834    -0.781\n",
       "hour[[1, 2, 3, 4, 5, 6, 7, 8, 9, 10, 11, 12, 13, 14, 15, 16, 17, 18, 19, 20, 21, 22]][3]     -0.9172      0.014    -67.759      0.000        -0.944    -0.891\n",
       "hour[[1, 2, 3, 4, 5, 6, 7, 8, 9, 10, 11, 12, 13, 14, 15, 16, 17, 18, 19, 20, 21, 22]][4]     -0.4676      0.013    -34.845      0.000        -0.494    -0.441\n",
       "hour[[1, 2, 3, 4, 5, 6, 7, 8, 9, 10, 11, 12, 13, 14, 15, 16, 17, 18, 19, 20, 21, 22]][5]      0.0335      0.013      2.507      0.012         0.007     0.060\n",
       "hour[[1, 2, 3, 4, 5, 6, 7, 8, 9, 10, 11, 12, 13, 14, 15, 16, 17, 18, 19, 20, 21, 22]][6]      0.4482      0.013     33.575      0.000         0.422     0.474\n",
       "hour[[1, 2, 3, 4, 5, 6, 7, 8, 9, 10, 11, 12, 13, 14, 15, 16, 17, 18, 19, 20, 21, 22]][7]      0.7173      0.013     53.795      0.000         0.691     0.743\n",
       "hour[[1, 2, 3, 4, 5, 6, 7, 8, 9, 10, 11, 12, 13, 14, 15, 16, 17, 18, 19, 20, 21, 22]][8]      0.5528      0.013     41.473      0.000         0.527     0.579\n",
       "hour[[1, 2, 3, 4, 5, 6, 7, 8, 9, 10, 11, 12, 13, 14, 15, 16, 17, 18, 19, 20, 21, 22]][9]      0.3619      0.013     27.115      0.000         0.336     0.388\n",
       "hour[[1, 2, 3, 4, 5, 6, 7, 8, 9, 10, 11, 12, 13, 14, 15, 16, 17, 18, 19, 20, 21, 22]][10]     0.4040      0.013     30.176      0.000         0.378     0.430\n",
       "hour[[1, 2, 3, 4, 5, 6, 7, 8, 9, 10, 11, 12, 13, 14, 15, 16, 17, 18, 19, 20, 21, 22]][11]     0.4926      0.013     36.668      0.000         0.466     0.519\n",
       "hour[[1, 2, 3, 4, 5, 6, 7, 8, 9, 10, 11, 12, 13, 14, 15, 16, 17, 18, 19, 20, 21, 22]][12]     0.4741      0.013     35.177      0.000         0.448     0.500\n",
       "hour[[1, 2, 3, 4, 5, 6, 7, 8, 9, 10, 11, 12, 13, 14, 15, 16, 17, 18, 19, 20, 21, 22]][13]     0.4236      0.014     31.332      0.000         0.397     0.450\n",
       "hour[[1, 2, 3, 4, 5, 6, 7, 8, 9, 10, 11, 12, 13, 14, 15, 16, 17, 18, 19, 20, 21, 22]][14]     0.4524      0.014     33.421      0.000         0.426     0.479\n",
       "hour[[1, 2, 3, 4, 5, 6, 7, 8, 9, 10, 11, 12, 13, 14, 15, 16, 17, 18, 19, 20, 21, 22]][15]     0.5875      0.014     43.454      0.000         0.561     0.614\n",
       "hour[[1, 2, 3, 4, 5, 6, 7, 8, 9, 10, 11, 12, 13, 14, 15, 16, 17, 18, 19, 20, 21, 22]][16]     0.7807      0.013     57.939      0.000         0.754     0.807\n",
       "hour[[1, 2, 3, 4, 5, 6, 7, 8, 9, 10, 11, 12, 13, 14, 15, 16, 17, 18, 19, 20, 21, 22]][17]     0.7612      0.013     56.645      0.000         0.735     0.787\n",
       "hour[[1, 2, 3, 4, 5, 6, 7, 8, 9, 10, 11, 12, 13, 14, 15, 16, 17, 18, 19, 20, 21, 22]][18]     0.6376      0.013     47.643      0.000         0.611     0.664\n",
       "hour[[1, 2, 3, 4, 5, 6, 7, 8, 9, 10, 11, 12, 13, 14, 15, 16, 17, 18, 19, 20, 21, 22]][19]     0.5145      0.013     38.535      0.000         0.488     0.541\n",
       "hour[[1, 2, 3, 4, 5, 6, 7, 8, 9, 10, 11, 12, 13, 14, 15, 16, 17, 18, 19, 20, 21, 22]][20]     0.4064      0.013     30.487      0.000         0.380     0.433\n",
       "hour[[1, 2, 3, 4, 5, 6, 7, 8, 9, 10, 11, 12, 13, 14, 15, 16, 17, 18, 19, 20, 21, 22]][21]     0.2978      0.013     22.359      0.000         0.272     0.324\n",
       "==============================================================================\n",
       "Omnibus:                     1203.126   Durbin-Watson:                   0.474\n",
       "Prob(Omnibus):                  0.000   Jarque-Bera (JB):             1980.386\n",
       "Skew:                          -0.541   Prob(JB):                         0.00\n",
       "Kurtosis:                       4.251   Cond. No.                         91.7\n",
       "==============================================================================\n",
       "\n",
       "Warnings:\n",
       "[1] Standard Errors assume that the covariance matrix of the errors is correctly specified.\n",
       "\"\"\""
      ]
     },
     "execution_count": 46,
     "metadata": {},
     "output_type": "execute_result"
    }
   ],
   "source": [
    "log_dep_var3 = bike_data[\"registered\"]\n",
    "log_dep_var4 = np.log10(log_dep_var3+1)\n",
    "rel_stat = smf.ols(formula = \"log_dep_var4 ~ temp + weather[[1,2,3]] + months[[1,2,3,4,5,6,7,8,9,11]] + hour[[1,2,3,4,5,6,7,8,9,10,11,12,13,14,15,16,17,18,19,20,21,22]]\", data=bike_data).fit()\n",
    "rel_stat.summary()"
   ]
  }
 ],
 "metadata": {
  "kernelspec": {
   "display_name": "Python 2",
   "language": "python",
   "name": "python2"
  },
  "language_info": {
   "codemirror_mode": {
    "name": "ipython",
    "version": 2
   },
   "file_extension": ".py",
   "mimetype": "text/x-python",
   "name": "python",
   "nbconvert_exporter": "python",
   "pygments_lexer": "ipython2",
   "version": "2.7.13"
  }
 },
 "nbformat": 4,
 "nbformat_minor": 0
}
